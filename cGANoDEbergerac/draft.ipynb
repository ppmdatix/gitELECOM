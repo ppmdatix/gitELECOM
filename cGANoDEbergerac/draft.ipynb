{
 "cells": [
  {
   "cell_type": "code",
   "execution_count": 6,
   "metadata": {},
   "outputs": [
    {
     "name": "stderr",
     "output_type": "stream",
     "text": [
      "/home/peseux/.local/lib/python3.6/site-packages/sklearn/preprocessing/data.py:334: DataConversionWarning: Data with input dtype uint8, int64, float64 were all converted to float64 by MinMaxScaler.\n",
      "  return self.partial_fit(X, y)\n",
      "/home/peseux/.local/lib/python3.6/site-packages/sklearn/preprocessing/data.py:334: DataConversionWarning: Data with input dtype uint8, int64, float64 were all converted to float64 by MinMaxScaler.\n",
      "  return self.partial_fit(X, y)\n"
     ]
    },
    {
     "name": "stdout",
     "output_type": "stream",
     "text": [
      "\n",
      "\n",
      "\n",
      "Train data shape is (117260, 122)\n",
      "\n",
      " \n",
      " \n"
     ]
    }
   ],
   "source": [
    "from loadingCGAN.cgan import Cgan, switching_gans\n",
    "from loadingCGAN.mlp import Mlp\n",
    "from evaluation.evaluation import evaluate\n",
    "import numpy as np\n",
    "from load_data.load_data import load_data\n",
    "\n",
    "# Parameters\n",
    "attack_mode = None\n",
    "epochs = 1000\n",
    "number_of_gans = 1\n",
    "number_of_switch = 1\n",
    "\n",
    "# DATA\n",
    "x_train, y_train, x_balanced_train, y_balanced_train, x_test, y_test = load_data(verbose=False)\n",
    "data_dim = x_train.shape[1]\n",
    "print(\"\\n\"*2)\n",
    "print(\"Train data shape is {}\".format(x_balanced_train.shape))\n",
    "print(\"\\n \"*2)"
   ]
  },
  {
   "cell_type": "code",
   "execution_count": 2,
   "metadata": {},
   "outputs": [],
   "source": [
    "data_dim=122"
   ]
  },
  {
   "cell_type": "code",
   "execution_count": 4,
   "metadata": {},
   "outputs": [
    {
     "name": "stdout",
     "output_type": "stream",
     "text": [
      "WARNING:tensorflow:From /home/peseux/.local/lib/python3.6/site-packages/tensorflow/python/framework/op_def_library.py:263: colocate_with (from tensorflow.python.framework.ops) is deprecated and will be removed in a future version.\n",
      "Instructions for updating:\n",
      "Colocations handled automatically by placer.\n"
     ]
    },
    {
     "name": "stderr",
     "output_type": "stream",
     "text": [
      "/home/peseux/Desktop/gitELECOM/cGANoDEbergerac/loadingCGAN/cgan.py:172: UserWarning: Update your `Dense` call to the Keras 2 API: `Dense(18, input_dim=122, kernel_constraint=None)`\n",
      "  model.add(dense(18, input_dim=np.prod(self.data_dim), W_constraint=W_constraint))\n",
      "/home/peseux/Desktop/gitELECOM/cGANoDEbergerac/loadingCGAN/cgan.py:174: UserWarning: Update your `Dense` call to the Keras 2 API: `Dense(12, kernel_constraint=None)`\n",
      "  model.add(dense(12,W_constraint=W_constraint))\n"
     ]
    },
    {
     "name": "stdout",
     "output_type": "stream",
     "text": [
      "WARNING:tensorflow:From /home/peseux/.local/lib/python3.6/site-packages/keras/backend/tensorflow_backend.py:3445: calling dropout (from tensorflow.python.ops.nn_ops) with keep_prob is deprecated and will be removed in a future version.\n",
      "Instructions for updating:\n",
      "Please use `rate` instead of `keep_prob`. Rate should be set to `rate = 1 - keep_prob`.\n"
     ]
    },
    {
     "name": "stderr",
     "output_type": "stream",
     "text": [
      "/home/peseux/Desktop/gitELECOM/cGANoDEbergerac/loadingCGAN/cgan.py:177: UserWarning: Update your `Dense` call to the Keras 2 API: `Dense(10, kernel_constraint=None)`\n",
      "  model.add(dense(10,W_constraint=W_constraint))\n",
      "/home/peseux/Desktop/gitELECOM/cGANoDEbergerac/loadingCGAN/cgan.py:182: UserWarning: Update your `Dense` call to the Keras 2 API: `Dense(1, activation=\"sigmoid\", kernel_constraint=None)`\n",
      "  activation='sigmoid'))\n",
      "/home/peseux/Desktop/gitELECOM/cGANoDEbergerac/loadingCGAN/cgan.py:136: UserWarning: Update your `Dense` call to the Keras 2 API: `Dense(12, input_dim=32, kernel_initializer=<keras.ini..., kernel_constraint=None)`\n",
      "  W_constraint=W_constraint))\n",
      "/home/peseux/Desktop/gitELECOM/cGANoDEbergerac/loadingCGAN/cgan.py:141: UserWarning: Update your `Dense` call to the Keras 2 API: `Dense(18, kernel_initializer=<keras.ini..., kernel_constraint=None)`\n",
      "  W_constraint=W_constraint))\n",
      "/home/peseux/Desktop/gitELECOM/cGANoDEbergerac/loadingCGAN/cgan.py:147: UserWarning: Update your `Dense` call to the Keras 2 API: `Dense(122, kernel_initializer=<keras.ini..., activation=\"tanh\", kernel_constraint=None)`\n",
      "  activation='tanh'))\n"
     ]
    }
   ],
   "source": [
    "cgan = Cgan(data_dim=data_dim,\n",
    "              spectral_normalisation=False,\n",
    "              weight_clipping=False, verbose=False)"
   ]
  },
  {
   "cell_type": "code",
   "execution_count": 5,
   "metadata": {},
   "outputs": [],
   "source": [
    "cgan.load_model(location=\"save_models/models/\", model_name=\"test1\")"
   ]
  },
  {
   "cell_type": "code",
   "execution_count": 11,
   "metadata": {},
   "outputs": [],
   "source": [
    "probas = list(cgan.predict_proba(x_test))\n",
    "y_true = list(y_test)"
   ]
  },
  {
   "cell_type": "code",
   "execution_count": 9,
   "metadata": {},
   "outputs": [],
   "source": [
    "from matplotlib import pyplot as plt"
   ]
  },
  {
   "cell_type": "code",
   "execution_count": 15,
   "metadata": {},
   "outputs": [
    {
     "data": {
      "image/png": "[encoded data removed]",
      "text/plain": [
       "<Figure size 432x288 with 1 Axes>"
      ]
     },
     "metadata": {
      "needs_background": "light"
     },
     "output_type": "display_data"
    }
   ],
   "source": [
    "plt.hist([p for p,y in zip(probas, y_true) if y >.5], label=\"1\")\n",
    "plt.hist([p for p,y in zip(probas, y_true) if y <.5], label=\"0\")\n",
    "plt.legend()\n",
    "plt.show()\n",
    "plt.close()"
   ]
  },
  {
   "cell_type": "code",
   "execution_count": 27,
   "metadata": {},
   "outputs": [
    {
     "data": {
      "text/plain": [
       "0.5"
      ]
     },
     "execution_count": 27,
     "metadata": {},
     "output_type": "execute_result"
    }
   ],
   "source": [
    "y_balanced_train.sum() / y_balanced_train.shape[0]"
   ]
  },
  {
   "cell_type": "code",
   "execution_count": 28,
   "metadata": {},
   "outputs": [
    {
     "name": "stdout",
     "output_type": "stream",
     "text": [
      "CHOSEN OPTIMIZER IS ADAM\n",
      "\n",
      " \n",
      " Discriminator Architecture \n",
      "_________________________________________________________________\n",
      "Layer (type)                 Output Shape              Param #   \n",
      "=================================================================\n",
      "dense_15 (Dense)             (None, 18)                2214      \n",
      "_________________________________________________________________\n",
      "leaky_re_lu_11 (LeakyReLU)   (None, 18)                0         \n",
      "_________________________________________________________________\n",
      "dense_16 (Dense)             (None, 12)                228       \n",
      "_________________________________________________________________\n",
      "leaky_re_lu_12 (LeakyReLU)   (None, 12)                0         \n",
      "_________________________________________________________________\n",
      "dropout_5 (Dropout)          (None, 12)                0         \n",
      "_________________________________________________________________\n",
      "dense_17 (Dense)             (None, 10)                130       \n",
      "_________________________________________________________________\n",
      "leaky_re_lu_13 (LeakyReLU)   (None, 10)                0         \n",
      "_________________________________________________________________\n",
      "dropout_6 (Dropout)          (None, 10)                0         \n",
      "_________________________________________________________________\n",
      "dense_18 (Dense)             (None, 1)                 11        \n",
      "=================================================================\n",
      "Total params: 2,583\n",
      "Trainable params: 2,583\n",
      "Non-trainable params: 0\n",
      "_________________________________________________________________\n",
      "\n",
      " \n",
      " Generator Architecture \n",
      "_________________________________________________________________\n",
      "Layer (type)                 Output Shape              Param #   \n",
      "=================================================================\n",
      "dense_19 (Dense)             (None, 12)                396       \n",
      "_________________________________________________________________\n",
      "leaky_re_lu_14 (LeakyReLU)   (None, 12)                0         \n",
      "_________________________________________________________________\n",
      "batch_normalization_5 (Batch (None, 12)                48        \n",
      "_________________________________________________________________\n",
      "dense_20 (Dense)             (None, 18)                234       \n",
      "_________________________________________________________________\n",
      "leaky_re_lu_15 (LeakyReLU)   (None, 18)                0         \n",
      "_________________________________________________________________\n",
      "batch_normalization_6 (Batch (None, 18)                72        \n",
      "_________________________________________________________________\n",
      "dense_21 (Dense)             (None, 122)               2318      \n",
      "=================================================================\n",
      "Total params: 3,068\n",
      "Trainable params: 3,008\n",
      "Non-trainable params: 60\n",
      "_________________________________________________________________\n"
     ]
    },
    {
     "name": "stderr",
     "output_type": "stream",
     "text": [
      "  0%|          | 0/1000 [00:00<?, ?it/s]/home/peseux/.local/lib/python3.6/site-packages/keras/engine/training.py:490: UserWarning: Discrepancy between trainable weights and collected trainable weights, did you set `model.trainable` without calling `model.compile` after ?\n",
      "  'Discrepancy between trainable weights and collected trainable'\n",
      "100%|██████████| 1000/1000 [15:25<00:00,  1.16it/s]\n"
     ]
    }
   ],
   "source": [
    "########\n",
    "# CGAN #\n",
    "########\n",
    "\n",
    "\n",
    "cgans = [Cgan(data_dim=data_dim, spectral_normalisation=False, batch_size=512) for _ in range(number_of_gans)]\n",
    "for _ in range(number_of_switch):\n",
    "    for cgan in cgans:\n",
    "        cgan.train(x_train=x_balanced_train, # x_train,\n",
    "                   y_train=y_balanced_train, # ,y_train\n",
    "                   epochs=epochs,\n",
    "                   print_recap=False,\n",
    "                   reload_images_p=.99,\n",
    "                   show_past_p=.95)\n",
    "    if number_of_gans > 1:\n",
    "        switching_gans(cgans)"
   ]
  },
  {
   "cell_type": "code",
   "execution_count": 29,
   "metadata": {},
   "outputs": [
    {
     "data": {
      "image/png": "[encoded data removed]",
      "text/plain": [
       "<Figure size 432x288 with 1 Axes>"
      ]
     },
     "metadata": {
      "needs_background": "light"
     },
     "output_type": "display_data"
    },
    {
     "data": {
      "text/plain": [
       "True"
      ]
     },
     "execution_count": 29,
     "metadata": {},
     "output_type": "execute_result"
    }
   ],
   "source": [
    "cgan = cgans[0]\n",
    "cgan.plot_learning()"
   ]
  },
  {
   "cell_type": "code",
   "execution_count": 30,
   "metadata": {},
   "outputs": [],
   "source": [
    "result_cgan = evaluate(y_true=y_test, y_pred=cgan.predict(x=x_test))"
   ]
  },
  {
   "cell_type": "code",
   "execution_count": 31,
   "metadata": {},
   "outputs": [],
   "source": [
    "x = x_test[:100]"
   ]
  },
  {
   "cell_type": "code",
   "execution_count": 32,
   "metadata": {},
   "outputs": [],
   "source": [
    "ones = np.ones((x.shape[0], 1))\n",
    "zeros = np.zeros((x.shape[0], 1))\n",
    "y_pred_ones = cgan.discriminator.predict([x, ones])\n",
    "y_pred_zeros = cgan.discriminator.predict([x, zeros])"
   ]
  },
  {
   "cell_type": "code",
   "execution_count": 34,
   "metadata": {},
   "outputs": [
    {
     "data": {
      "text/plain": [
       "array([[0.40714642],\n",
       "       [0.4068571 ],\n",
       "       [0.515135  ],\n",
       "       [0.48289678],\n",
       "       [0.46698484],\n",
       "       [0.5278679 ],\n",
       "       [0.51731175],\n",
       "       [0.5040026 ],\n",
       "       [0.52770466],\n",
       "       [0.49677348],\n",
       "       [0.5211913 ],\n",
       "       [0.5266422 ],\n",
       "       [0.40733477],\n",
       "       [0.43354803],\n",
       "       [0.49564832],\n",
       "       [0.5282564 ],\n",
       "       [0.52755225],\n",
       "       [0.5281186 ],\n",
       "       [0.5051309 ],\n",
       "       [0.4089321 ],\n",
       "       [0.4145268 ],\n",
       "       [0.43373418],\n",
       "       [0.5276476 ],\n",
       "       [0.5282634 ],\n",
       "       [0.41118813],\n",
       "       [0.40858477],\n",
       "       [0.52803886],\n",
       "       [0.527784  ],\n",
       "       [0.5073581 ],\n",
       "       [0.5049753 ],\n",
       "       [0.46693382],\n",
       "       [0.5279056 ],\n",
       "       [0.5269902 ],\n",
       "       [0.41256925],\n",
       "       [0.40022376],\n",
       "       [0.39996094],\n",
       "       [0.52772874],\n",
       "       [0.5222695 ],\n",
       "       [0.48288992],\n",
       "       [0.515004  ],\n",
       "       [0.39417446],\n",
       "       [0.52843565],\n",
       "       [0.5266595 ],\n",
       "       [0.5272111 ],\n",
       "       [0.4039896 ],\n",
       "       [0.5279142 ],\n",
       "       [0.3942866 ],\n",
       "       [0.527187  ],\n",
       "       [0.43002325],\n",
       "       [0.5107857 ],\n",
       "       [0.5292257 ],\n",
       "       [0.5281451 ],\n",
       "       [0.4025121 ],\n",
       "       [0.40628678],\n",
       "       [0.5189187 ],\n",
       "       [0.5284834 ],\n",
       "       [0.3829952 ],\n",
       "       [0.51568615],\n",
       "       [0.49576545],\n",
       "       [0.5277704 ],\n",
       "       [0.5163275 ],\n",
       "       [0.51386654],\n",
       "       [0.5273601 ],\n",
       "       [0.5280297 ],\n",
       "       [0.40344432],\n",
       "       [0.52747047],\n",
       "       [0.41880405],\n",
       "       [0.4106723 ],\n",
       "       [0.3960825 ],\n",
       "       [0.52762043],\n",
       "       [0.40785336],\n",
       "       [0.5289022 ],\n",
       "       [0.5284694 ],\n",
       "       [0.5283928 ],\n",
       "       [0.40906167],\n",
       "       [0.52843815],\n",
       "       [0.5282235 ],\n",
       "       [0.5219222 ],\n",
       "       [0.52853054],\n",
       "       [0.5275864 ],\n",
       "       [0.40779203],\n",
       "       [0.40676737],\n",
       "       [0.5080301 ],\n",
       "       [0.5283428 ],\n",
       "       [0.527525  ],\n",
       "       [0.5285264 ],\n",
       "       [0.4193422 ],\n",
       "       [0.422907  ],\n",
       "       [0.527838  ],\n",
       "       [0.516043  ],\n",
       "       [0.5283277 ],\n",
       "       [0.5277702 ],\n",
       "       [0.40810296],\n",
       "       [0.4583093 ],\n",
       "       [0.51640445],\n",
       "       [0.52758217],\n",
       "       [0.5283459 ],\n",
       "       [0.48427948],\n",
       "       [0.423865  ],\n",
       "       [0.41246876]], dtype=float32)"
      ]
     },
     "execution_count": 34,
     "metadata": {},
     "output_type": "execute_result"
    }
   ],
   "source": [
    "y_pred_zeros"
   ]
  },
  {
   "cell_type": "code",
   "execution_count": 35,
   "metadata": {},
   "outputs": [],
   "source": [
    "def false_or_true(x):\n",
    "    if x[0] < .5 and x[1] < .5:\n",
    "        return 0\n",
    "    elif x[0] > x[1]:\n",
    "        return 0\n",
    "    elif x[0] == x[1]:\n",
    "        print(\"FUCK\")\n",
    "        return 1\n",
    "    else:\n",
    "        return 1"
   ]
  },
  {
   "cell_type": "code",
   "execution_count": 36,
   "metadata": {},
   "outputs": [],
   "source": [
    "y_pred = [false_or_true([y0[0], y1[0]]) for y0, y1 in zip(y_pred_zeros, y_pred_ones)]"
   ]
  },
  {
   "cell_type": "code",
   "execution_count": 39,
   "metadata": {},
   "outputs": [
    {
     "data": {
      "text/plain": [
       "array([ 0.,  0.,  0., -1., -1.,  0.,  0., -1.,  0., -1., -1.,  0.,  0.,\n",
       "       -1.,  0.,  0.,  0.,  0.,  0.,  0., -1., -1.,  0.,  0., -1., -1.,\n",
       "        0.,  0., -1.,  0., -1.,  0.,  0.,  0.,  0., -1.,  0., -1.,  0.,\n",
       "        0.,  0.,  0.,  0.,  0., -1.,  0.,  0., -1., -1.,  0.,  0.,  0.,\n",
       "        0.,  0., -1.,  0., -1., -1., -1.,  0., -1., -1.,  0.,  0.,  0.,\n",
       "        0., -1.,  0.,  0.,  0.,  0.,  0.,  0.,  0.,  0.,  0.,  0., -1.,\n",
       "        0.,  0.,  0.,  0., -1.,  0.,  0.,  0., -1., -1.,  0.,  0.,  0.,\n",
       "        0.,  0., -1., -1.,  0.,  0.,  0.,  0., -1.])"
      ]
     },
     "execution_count": 39,
     "metadata": {},
     "output_type": "execute_result"
    }
   ],
   "source": [
    "np.array(y_pred) - np.array(y_test[:100]).tolist()"
   ]
  },
  {
   "cell_type": "code",
   "execution_count": 40,
   "metadata": {},
   "outputs": [
    {
     "name": "stdout",
     "output_type": "stream",
     "text": [
      "CHOSEN OPTIMIZER IS ADAM\n",
      "_________________________________________________________________\n",
      "Layer (type)                 Output Shape              Param #   \n",
      "=================================================================\n",
      "dense_22 (Dense)             (None, 18)                2214      \n",
      "_________________________________________________________________\n",
      "leaky_re_lu_16 (LeakyReLU)   (None, 18)                0         \n",
      "_________________________________________________________________\n",
      "dense_23 (Dense)             (None, 12)                228       \n",
      "_________________________________________________________________\n",
      "leaky_re_lu_17 (LeakyReLU)   (None, 12)                0         \n",
      "_________________________________________________________________\n",
      "dropout_7 (Dropout)          (None, 12)                0         \n",
      "_________________________________________________________________\n",
      "dense_24 (Dense)             (None, 10)                130       \n",
      "_________________________________________________________________\n",
      "leaky_re_lu_18 (LeakyReLU)   (None, 10)                0         \n",
      "_________________________________________________________________\n",
      "dropout_8 (Dropout)          (None, 10)                0         \n",
      "_________________________________________________________________\n",
      "dense_25 (Dense)             (None, 1)                 11        \n",
      "=================================================================\n",
      "Total params: 2,583\n",
      "Trainable params: 2,583\n",
      "Non-trainable params: 0\n",
      "_________________________________________________________________\n"
     ]
    },
    {
     "name": "stderr",
     "output_type": "stream",
     "text": [
      "  0%|          | 0/1000 [00:00<?, ?it/s]\n"
     ]
    },
    {
     "name": "stdout",
     "output_type": "stream",
     "text": [
      "{'confusion_matrix': array([[9701,   10],\n",
      "       [8581, 4252]]), 'precision': 0.997653683716565, 'recall': 0.33133328138393203, 'f1_score': 0.49745539631471186, 'accuracy': 0.6189229950319376}\n",
      "{'confusion_matrix': array([[ 9711,     0],\n",
      "       [12833,     0]]), 'precision': 0.0, 'recall': 0.0, 'f1_score': 0.0, 'accuracy': 0.43075762952448543}\n",
      "{'confusion_matrix': array([[200]]), 'precision': 0.0, 'recall': 0.0, 'f1_score': 0.0, 'accuracy': 1.0}\n"
     ]
    },
    {
     "name": "stderr",
     "output_type": "stream",
     "text": [
      "/home/peseux/.local/lib/python3.6/site-packages/sklearn/metrics/classification.py:1143: UndefinedMetricWarning: Precision is ill-defined and being set to 0.0 due to no predicted samples.\n",
      "  'precision', 'predicted', average, warn_for)\n",
      "/home/peseux/.local/lib/python3.6/site-packages/sklearn/metrics/classification.py:1143: UndefinedMetricWarning: F-score is ill-defined and being set to 0.0 due to no predicted samples.\n",
      "  'precision', 'predicted', average, warn_for)\n"
     ]
    }
   ],
   "source": [
    "generated_one = cgan.generate(number=100, labels=np.ones(100))\n",
    "generated_zero = cgan.generate(number=100, labels=np.zeros(100))\n",
    "#############\n",
    "# Classical #\n",
    "#############\n",
    "mlp = Mlp(data_dim=data_dim)\n",
    "d_loss_classical = mlp.train(x_train=x_balanced_train, y_train=y_balanced_train, epochs=epochs*number_of_switch)\n",
    "\n",
    "result_mlp = evaluate(y_true=y_test, y_pred=mlp.predict(x=x_test))\n",
    "result_mlp_fooling = evaluate(y_true=np.zeros(100+100), y_pred=mlp.predict(np.concatenate((generated_one, generated_zero))))\n",
    "\n",
    "\n",
    "print(result_cgan)\n",
    "\n",
    "print(result_mlp)\n",
    "\n",
    "print(result_mlp_fooling)"
   ]
  },
  {
   "cell_type": "code",
   "execution_count": null,
   "metadata": {},
   "outputs": [],
   "source": []
  }
 ],
 "metadata": {
  "kernelspec": {
   "display_name": "Python 3",
   "language": "python",
   "name": "python3"
  },
  "language_info": {
   "codemirror_mode": {
    "name": "ipython",
    "version": 3
   },
   "file_extension": ".py",
   "mimetype": "text/x-python",
   "name": "python",
   "nbconvert_exporter": "python",
   "pygments_lexer": "ipython3",
   "version": "3.6.7"
  }
 },
 "nbformat": 4,
 "nbformat_minor": 2
}
