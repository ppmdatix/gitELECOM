{
 "cells": [
  {
   "cell_type": "code",
   "execution_count": 18,
   "metadata": {
    "collapsed": true
   },
   "outputs": [],
   "source": [
    "from matplotlib import pyplot as plt"
   ]
  },
  {
   "cell_type": "code",
   "execution_count": 19,
   "metadata": {},
   "outputs": [],
   "source": [
    "from loadingCGAN.cgan import Cgan, switching_gans\n",
    "from loadingCGAN.mlp import Mlp\n",
    "from evaluation.evaluation import evaluate\n",
    "from learning import learning\n",
    "import numpy as np\n",
    "from load_data.load_data import load_data\n",
    "from utils.config import epochs, number_of_gans, switches, latent_dim, nrows, dropout, leaky_relu\n",
    "from utils.config import examples, reload_images_p, show_past_p, smooth_zero, smooth_one"
   ]
  },
  {
   "cell_type": "code",
   "execution_count": 23,
   "metadata": {},
   "outputs": [],
   "source": [
    "number_of_gans = 2"
   ]
  },
  {
   "cell_type": "code",
   "execution_count": 24,
   "metadata": {},
   "outputs": [
    {
     "name": "stderr",
     "output_type": "stream",
     "text": [
      "/Users/ppx/anaconda3/lib/python3.6/site-packages/sklearn/preprocessing/data.py:334: DataConversionWarning: Data with input dtype uint8, int64, float64 were all converted to float64 by MinMaxScaler.\n",
      "  return self.partial_fit(X, y)\n",
      "/Users/ppx/anaconda3/lib/python3.6/site-packages/sklearn/preprocessing/data.py:334: DataConversionWarning: Data with input dtype uint8, int64, float64 were all converted to float64 by MinMaxScaler.\n",
      "  return self.partial_fit(X, y)\n"
     ]
    }
   ],
   "source": [
    "# DATA\n",
    "x_train, x_train_cv, y_train, y_train_cv, x_balanced_train, y_balanced_train, x_test, y_test = load_data(place=\"home\",\n",
    "                                                                                                         verbose=False,\n",
    "                                                                                                         nrows=nrows,\n",
    "                                                                                                         cv_size=.1,\n",
    "                                                                                                         log_transform=True)\n",
    "data_dim = x_train.shape[1]"
   ]
  },
  {
   "cell_type": "code",
   "execution_count": 25,
   "metadata": {},
   "outputs": [
    {
     "name": "stderr",
     "output_type": "stream",
     "text": [
      "/Users/ppx/Desktop/gitELECOM/cGANoDEbergerac/loadingCGAN/cgan.py:114: UserWarning: Update your `Dense` call to the Keras 2 API: `Dense(12, input_dim=50, kernel_initializer=<keras.ini..., kernel_constraint=None)`\n",
      "  model.add(Dropout(self.dropout))\n",
      "/Users/ppx/Desktop/gitELECOM/cGANoDEbergerac/loadingCGAN/cgan.py:120: UserWarning: Update your `Dense` call to the Keras 2 API: `Dense(64, kernel_initializer=<keras.ini..., kernel_constraint=None)`\n",
      "  print(\"\\n \\n Generator Architecture \")\n",
      "/Users/ppx/Desktop/gitELECOM/cGANoDEbergerac/loadingCGAN/cgan.py:126: UserWarning: Update your `Dense` call to the Keras 2 API: `Dense(116, kernel_initializer=<keras.ini..., kernel_constraint=None)`\n",
      "  model_input = multiply([noise, label_embedding])\n"
     ]
    }
   ],
   "source": [
    "########\n",
    "# CGAN #\n",
    "########\n",
    "cgans = [Cgan(data_dim=data_dim, latent_dim=latent_dim,\n",
    "              spectral_normalisation=False,\n",
    "              weight_clipping=False, verbose=False,\n",
    "              activation=\"tanh\", dropout=dropout, leaky_relu=leaky_relu) for _ in range(number_of_gans)]"
   ]
  },
  {
   "cell_type": "code",
   "execution_count": 26,
   "metadata": {},
   "outputs": [
    {
     "name": "stderr",
     "output_type": "stream",
     "text": [
      "\n",
      "  0%|          | 0/12 [00:00<?, ?it/s]\u001b[A\n",
      "  8%|▊         | 1/12 [00:15<02:55, 15.98s/it]\u001b[A\n",
      " 17%|█▋        | 2/12 [00:24<02:18, 13.86s/it]\u001b[A\n",
      " 25%|██▌       | 3/12 [00:37<02:00, 13.42s/it]\u001b[A\n",
      " 33%|███▎      | 4/12 [00:47<01:39, 12.41s/it]\u001b[A\n",
      " 42%|████▏     | 5/12 [00:56<01:19, 11.33s/it]\u001b[A\n",
      " 50%|█████     | 6/12 [01:06<01:07, 11.17s/it]\u001b[A\n",
      " 58%|█████▊    | 7/12 [01:16<00:53, 10.72s/it]\u001b[A\n",
      " 67%|██████▋   | 8/12 [01:26<00:41, 10.45s/it]\u001b[A\n",
      " 75%|███████▌  | 9/12 [01:37<00:31, 10.50s/it]\u001b[A\n",
      " 83%|████████▎ | 10/12 [01:50<00:22, 11.24s/it]\u001b[A\n",
      " 92%|█████████▏| 11/12 [02:01<00:11, 11.39s/it]\u001b[A\n",
      "100%|██████████| 12/12 [02:08<00:00, 10.09s/it]\u001b[A\n",
      "\u001b[A\n",
      "  0%|          | 0/12 [00:00<?, ?it/s]\u001b[A\n",
      "  8%|▊         | 1/12 [00:22<04:03, 22.09s/it]\u001b[A\n",
      " 17%|█▋        | 2/12 [00:36<03:17, 19.73s/it]\u001b[A\n",
      " 25%|██▌       | 3/12 [00:49<02:39, 17.76s/it]\u001b[A\n",
      " 33%|███▎      | 4/12 [01:01<02:09, 16.13s/it]\u001b[A\n",
      " 42%|████▏     | 5/12 [01:14<01:45, 15.14s/it]\u001b[A\n",
      " 50%|█████     | 6/12 [01:20<01:13, 12.25s/it]\u001b[A\n",
      " 58%|█████▊    | 7/12 [01:24<00:49,  9.97s/it]\u001b[A\n",
      " 67%|██████▋   | 8/12 [01:29<00:33,  8.39s/it]\u001b[A\n",
      " 75%|███████▌  | 9/12 [01:34<00:21,  7.26s/it]\u001b[A\n",
      " 83%|████████▎ | 10/12 [01:38<00:12,  6.48s/it]\u001b[A\n",
      " 92%|█████████▏| 11/12 [01:44<00:06,  6.11s/it]\u001b[A\n",
      "100%|██████████| 12/12 [01:48<00:00,  5.70s/it]\u001b[A\n",
      "\u001b[A"
     ]
    },
    {
     "name": "stdout",
     "output_type": "stream",
     "text": [
      "Let's switch the GANs\n",
      "There are 0 fixed points\n",
      "GANs switched\n"
     ]
    },
    {
     "name": "stderr",
     "output_type": "stream",
     "text": [
      "/Users/ppx/anaconda3/lib/python3.6/site-packages/sklearn/metrics/classification.py:1143: UndefinedMetricWarning: Precision is ill-defined and being set to 0.0 due to no predicted samples.\n",
      "  'precision', 'predicted', average, warn_for)\n",
      "/Users/ppx/anaconda3/lib/python3.6/site-packages/sklearn/metrics/classification.py:1143: UndefinedMetricWarning: F-score is ill-defined and being set to 0.0 due to no predicted samples.\n",
      "  'precision', 'predicted', average, warn_for)\n"
     ]
    },
    {
     "name": "stdout",
     "output_type": "stream",
     "text": [
      "1000/1000 [==============================] - 1s 582us/step\n",
      "1000/1000 [==============================] - 1s 570us/step\n",
      "Let's switch the GANs\n",
      "There are 0 fixed points\n",
      "GANs switched\n",
      "1000/1000 [==============================] - 1s 654us/step\n",
      "1000/1000 [==============================] - 1s 602us/step\n",
      "Let's switch the GANs\n",
      "There are 0 fixed points\n",
      "GANs switched\n",
      "1000/1000 [==============================] - 1s 605us/step\n",
      "1000/1000 [==============================] - 1s 654us/step\n",
      "Let's switch the GANs\n",
      "There are 2 fixed points\n",
      "GANs switched\n",
      "1000/1000 [==============================] - 1s 695us/step\n",
      "1000/1000 [==============================] - 1s 646us/step\n",
      "\n",
      "\n",
      "\n",
      "best generator loss is 0.3304076791031128\n",
      "\n",
      "\n",
      "\n",
      "f1 score is 0.6774756916581769\n",
      "f1 score is 0.6839197122887389\n",
      "{'confusion_matrix': array([[529,   0],\n",
      "       [471,   0]]), 'precision': 0.0, 'recall': 0.0, 'f1_score': 0.0, 'accuracy': 0.529}\n"
     ]
    }
   ],
   "source": [
    "cgans = learning(cgans=cgans, x=x_balanced_train, y=y_balanced_train, x_cv=x_train_cv,\n",
    "                 y_cv=y_train_cv, number_of_gans=number_of_gans,\n",
    "                 epochs=epochs, switches=switches, print_mode=False, mode_d_loss=False,\n",
    "                 reload_images_p=reload_images_p, show_past_p=show_past_p,\n",
    "                 smooth_zero=smooth_zero, smooth_one=smooth_one)"
   ]
  },
  {
   "cell_type": "code",
   "execution_count": 27,
   "metadata": {},
   "outputs": [
    {
     "data": {
      "image/png": "[encoded data removed]",
      "text/plain": [
       "<matplotlib.figure.Figure at 0x141523128>"
      ]
     },
     "metadata": {},
     "output_type": "display_data"
    },
    {
     "data": {
      "text/plain": [
       "True"
      ]
     },
     "execution_count": 27,
     "metadata": {},
     "output_type": "execute_result"
    }
   ],
   "source": [
    "cgan = cgans[0]\n",
    "cgan.plot_learning()"
   ]
  },
  {
   "cell_type": "code",
   "execution_count": 31,
   "metadata": {},
   "outputs": [],
   "source": [
    "predictions = list(cgan.predict_proba(x=x_test))"
   ]
  },
  {
   "cell_type": "code",
   "execution_count": 34,
   "metadata": {},
   "outputs": [
    {
     "data": {
      "text/plain": [
       "array([0., 0., 1., ..., 0., 1., 1.])"
      ]
     },
     "execution_count": 34,
     "metadata": {},
     "output_type": "execute_result"
    }
   ],
   "source": [
    "y_test"
   ]
  },
  {
   "cell_type": "code",
   "execution_count": 36,
   "metadata": {},
   "outputs": [],
   "source": [
    "ypred = [float(x>np.mean(predictions)) for x in predictions]"
   ]
  },
  {
   "cell_type": "code",
   "execution_count": 29,
   "metadata": {},
   "outputs": [
    {
     "ename": "SyntaxError",
     "evalue": "positional argument follows keyword argument (<ipython-input-29-63dd999be122>, line 3)",
     "output_type": "error",
     "traceback": [
      "\u001b[0;36m  File \u001b[0;32m\"<ipython-input-29-63dd999be122>\"\u001b[0;36m, line \u001b[0;32m3\u001b[0m\n\u001b[0;31m    cgan.generate(self, number=number, labels)\u001b[0m\n\u001b[0m                                      ^\u001b[0m\n\u001b[0;31mSyntaxError\u001b[0m\u001b[0;31m:\u001b[0m positional argument follows keyword argument\n"
     ]
    }
   ],
   "source": [
    "number = 100\n",
    "labels = [i%2 for i in range(100)]\n",
    "cgan.generate(self, number=number, labels)"
   ]
  },
  {
   "cell_type": "code",
   "execution_count": 37,
   "metadata": {},
   "outputs": [],
   "source": [
    "result_cgan = evaluate(y_true=y_test, y_pred=ypred)"
   ]
  },
  {
   "cell_type": "code",
   "execution_count": 38,
   "metadata": {},
   "outputs": [
    {
     "data": {
      "text/plain": [
       "{'accuracy': 0.5135, 'confusion_matrix': array([[3412, 1880],\n",
       "        [2985, 1723]]), 'f1_score': 0.4146312116472145, 'precision': 0.4782126006106023, 'recall': 0.36597281223449446}"
      ]
     },
     "execution_count": 38,
     "metadata": {},
     "output_type": "execute_result"
    }
   ],
   "source": [
    "result_cgan"
   ]
  },
  {
   "cell_type": "code",
   "execution_count": 2,
   "metadata": {
    "collapsed": true
   },
   "outputs": [],
   "source": [
    "attack_mode = None\n",
    "epochs = 25\n",
    "number_of_gans = 3\n",
    "switches = 5\n",
    "examples = 100\n",
    "reload_images_p = .93\n",
    "show_past_p = .92\n",
    "smooth_zero = .1\n",
    "smooth_one = .9\n",
    "latent_dim = 50\n"
   ]
  },
  {
   "cell_type": "code",
   "execution_count": null,
   "metadata": {
    "collapsed": true
   },
   "outputs": [],
   "source": []
  },
  {
   "cell_type": "code",
   "execution_count": null,
   "metadata": {
    "collapsed": true
   },
   "outputs": [],
   "source": []
  },
  {
   "cell_type": "code",
   "execution_count": null,
   "metadata": {
    "collapsed": true
   },
   "outputs": [],
   "source": []
  },
  {
   "cell_type": "code",
   "execution_count": 3,
   "metadata": {},
   "outputs": [
    {
     "name": "stderr",
     "output_type": "stream",
     "text": [
      "/Users/ppx/anaconda3/lib/python3.6/site-packages/sklearn/preprocessing/data.py:334: DataConversionWarning: Data with input dtype uint8, int64, float64 were all converted to float64 by MinMaxScaler.\n",
      "  return self.partial_fit(X, y)\n",
      "/Users/ppx/anaconda3/lib/python3.6/site-packages/sklearn/preprocessing/data.py:334: DataConversionWarning: Data with input dtype uint8, int64, float64 were all converted to float64 by MinMaxScaler.\n",
      "  return self.partial_fit(X, y)\n"
     ]
    },
    {
     "name": "stdout",
     "output_type": "stream",
     "text": [
      "Train data shape is (125973, 122)\n",
      "Test data shape is (125973, 122)\n",
      "\n",
      "  \n",
      " \n",
      " \n",
      "  \n",
      " \n",
      " \n",
      "Train data shape is (117260, 122)\n",
      "\n",
      "  \n",
      " \n",
      " \n",
      "  \n",
      " \n",
      " \n",
      "x_train overview\n",
      "   0         1         2    3    4    5    6    7    8    9   ...   112  113  \\\n",
      "0 -1.0 -0.410940 -1.000000 -1.0 -1.0 -1.0 -1.0 -1.0 -1.0 -1.0 ...  -1.0 -1.0   \n",
      "1 -1.0 -0.525744 -1.000000 -1.0 -1.0 -1.0 -1.0 -1.0 -1.0 -1.0 ...  -1.0 -1.0   \n",
      "2 -1.0 -1.000000 -1.000000 -1.0 -1.0 -1.0 -1.0 -1.0 -1.0 -1.0 ...  -1.0 -1.0   \n",
      "3 -1.0 -0.481972 -0.141985 -1.0 -1.0 -1.0 -1.0 -1.0 -1.0 -1.0 ...  -1.0 -1.0   \n",
      "4 -1.0 -0.496485 -0.424326 -1.0 -1.0 -1.0 -1.0 -1.0 -1.0 -1.0 ...  -1.0 -1.0   \n",
      "\n",
      "   114  115  116  117  118  119  120  121  \n",
      "0 -1.0 -1.0 -1.0 -1.0 -1.0 -1.0 -1.0 -1.0  \n",
      "1 -1.0 -1.0 -1.0 -1.0 -1.0 -1.0 -1.0 -1.0  \n",
      "2 -1.0 -1.0 -1.0 -1.0 -1.0 -1.0 -1.0 -1.0  \n",
      "3 -1.0 -1.0 -1.0 -1.0 -1.0 -1.0 -1.0 -1.0  \n",
      "4 -1.0 -1.0 -1.0 -1.0 -1.0 -1.0 -1.0 -1.0  \n",
      "\n",
      "[5 rows x 122 columns]\n",
      "\n",
      "  \n",
      " \n",
      " \n",
      "  \n",
      " \n",
      " \n",
      "y_train overview\n",
      "     0\n",
      "0  0.0\n",
      "1  0.0\n",
      "2  1.0\n",
      "3  0.0\n",
      "4  0.0\n",
      "\n",
      "  \n",
      " \n",
      " \n",
      "  \n",
      " \n",
      " \n"
     ]
    }
   ],
   "source": [
    "# DATA\n",
    "x_train, x_train_cv, y_train, y_train_cv, x_balanced_train, y_balanced_train, x_test, y_test = load_data(place=\"home\",\n",
    "                                                                                                         cv_size=.1,\n",
    "                                                                                                         log_transform=True)\n",
    "data_dim = x_train.shape[1]"
   ]
  },
  {
   "cell_type": "code",
   "execution_count": 4,
   "metadata": {},
   "outputs": [
    {
     "name": "stdout",
     "output_type": "stream",
     "text": [
      "WARNING:tensorflow:From /Users/ppx/anaconda3/lib/python3.6/site-packages/tensorflow/python/framework/op_def_library.py:263: colocate_with (from tensorflow.python.framework.ops) is deprecated and will be removed in a future version.\n",
      "Instructions for updating:\n",
      "Colocations handled automatically by placer.\n",
      "CHOSEN OPTIMIZER IS ADAM\n",
      "WARNING:tensorflow:From /Users/ppx/anaconda3/lib/python3.6/site-packages/keras/backend/tensorflow_backend.py:3138: calling dropout (from tensorflow.python.ops.nn_ops) with keep_prob is deprecated and will be removed in a future version.\n",
      "Instructions for updating:\n",
      "Please use `rate` instead of `keep_prob`. Rate should be set to `rate = 1 - keep_prob`.\n",
      "\n",
      " \n",
      " Discriminator Architecture \n",
      "_________________________________________________________________\n",
      "Layer (type)                 Output Shape              Param #   \n",
      "=================================================================\n",
      "dense_1 (Dense)              (None, 18)                2214      \n",
      "_________________________________________________________________\n",
      "leaky_re_lu_1 (LeakyReLU)    (None, 18)                0         \n",
      "_________________________________________________________________\n",
      "dense_2 (Dense)              (None, 12)                228       \n",
      "_________________________________________________________________\n",
      "leaky_re_lu_2 (LeakyReLU)    (None, 12)                0         \n",
      "_________________________________________________________________\n",
      "dropout_1 (Dropout)          (None, 12)                0         \n",
      "_________________________________________________________________\n",
      "dense_3 (Dense)              (None, 10)                130       \n",
      "_________________________________________________________________\n",
      "leaky_re_lu_3 (LeakyReLU)    (None, 10)                0         \n",
      "_________________________________________________________________\n",
      "dropout_2 (Dropout)          (None, 10)                0         \n",
      "_________________________________________________________________\n",
      "dense_4 (Dense)              (None, 1)                 11        \n",
      "_________________________________________________________________\n",
      "dense_5 (Dense)              (None, 1)                 2         \n",
      "=================================================================\n",
      "Total params: 2,585\n",
      "Trainable params: 2,585\n",
      "Non-trainable params: 0\n",
      "_________________________________________________________________\n",
      "\n",
      " \n",
      " Generator Architecture \n",
      "_________________________________________________________________\n",
      "Layer (type)                 Output Shape              Param #   \n",
      "=================================================================\n",
      "dense_6 (Dense)              (None, 12)                612       \n",
      "_________________________________________________________________\n",
      "leaky_re_lu_4 (LeakyReLU)    (None, 12)                0         \n",
      "_________________________________________________________________\n",
      "dropout_3 (Dropout)          (None, 12)                0         \n",
      "_________________________________________________________________\n",
      "dense_7 (Dense)              (None, 64)                832       \n",
      "_________________________________________________________________\n",
      "leaky_re_lu_5 (LeakyReLU)    (None, 64)                0         \n",
      "_________________________________________________________________\n",
      "dropout_4 (Dropout)          (None, 64)                0         \n",
      "_________________________________________________________________\n",
      "dense_8 (Dense)              (None, 122)               7930      \n",
      "=================================================================\n",
      "Total params: 9,374\n",
      "Trainable params: 9,374\n",
      "Non-trainable params: 0\n",
      "_________________________________________________________________\n"
     ]
    },
    {
     "name": "stderr",
     "output_type": "stream",
     "text": [
      "/Users/ppx/Desktop/gitELECOM/cGANoDEbergerac/loadingCGAN/cgan.py:111: UserWarning: Update your `Dense` call to the Keras 2 API: `Dense(12, input_dim=50, kernel_initializer=<keras.ini..., kernel_constraint=None)`\n",
      "  W_constraint=kernel_constraint))\n",
      "/Users/ppx/Desktop/gitELECOM/cGANoDEbergerac/loadingCGAN/cgan.py:117: UserWarning: Update your `Dense` call to the Keras 2 API: `Dense(64, kernel_initializer=<keras.ini..., kernel_constraint=None)`\n",
      "  W_constraint=kernel_constraint))\n",
      "/Users/ppx/Desktop/gitELECOM/cGANoDEbergerac/loadingCGAN/cgan.py:123: UserWarning: Update your `Dense` call to the Keras 2 API: `Dense(122, kernel_initializer=<keras.ini..., kernel_constraint=None)`\n",
      "  W_constraint=kernel_constraint))\n"
     ]
    },
    {
     "name": "stdout",
     "output_type": "stream",
     "text": [
      "CHOSEN OPTIMIZER IS ADAM\n",
      "\n",
      " \n",
      " Discriminator Architecture \n",
      "_________________________________________________________________\n",
      "Layer (type)                 Output Shape              Param #   \n",
      "=================================================================\n",
      "dense_9 (Dense)              (None, 18)                2214      \n",
      "_________________________________________________________________\n",
      "leaky_re_lu_6 (LeakyReLU)    (None, 18)                0         \n",
      "_________________________________________________________________\n",
      "dense_10 (Dense)             (None, 12)                228       \n",
      "_________________________________________________________________\n",
      "leaky_re_lu_7 (LeakyReLU)    (None, 12)                0         \n",
      "_________________________________________________________________\n",
      "dropout_5 (Dropout)          (None, 12)                0         \n",
      "_________________________________________________________________\n",
      "dense_11 (Dense)             (None, 10)                130       \n",
      "_________________________________________________________________\n",
      "leaky_re_lu_8 (LeakyReLU)    (None, 10)                0         \n",
      "_________________________________________________________________\n",
      "dropout_6 (Dropout)          (None, 10)                0         \n",
      "_________________________________________________________________\n",
      "dense_12 (Dense)             (None, 1)                 11        \n",
      "_________________________________________________________________\n",
      "dense_13 (Dense)             (None, 1)                 2         \n",
      "=================================================================\n",
      "Total params: 2,585\n",
      "Trainable params: 2,585\n",
      "Non-trainable params: 0\n",
      "_________________________________________________________________\n",
      "\n",
      " \n",
      " Generator Architecture \n",
      "_________________________________________________________________\n",
      "Layer (type)                 Output Shape              Param #   \n",
      "=================================================================\n",
      "dense_14 (Dense)             (None, 12)                612       \n",
      "_________________________________________________________________\n",
      "leaky_re_lu_9 (LeakyReLU)    (None, 12)                0         \n",
      "_________________________________________________________________\n",
      "dropout_7 (Dropout)          (None, 12)                0         \n",
      "_________________________________________________________________\n",
      "dense_15 (Dense)             (None, 64)                832       \n",
      "_________________________________________________________________\n",
      "leaky_re_lu_10 (LeakyReLU)   (None, 64)                0         \n",
      "_________________________________________________________________\n",
      "dropout_8 (Dropout)          (None, 64)                0         \n",
      "_________________________________________________________________\n",
      "dense_16 (Dense)             (None, 122)               7930      \n",
      "=================================================================\n",
      "Total params: 9,374\n",
      "Trainable params: 9,374\n",
      "Non-trainable params: 0\n",
      "_________________________________________________________________\n",
      "CHOSEN OPTIMIZER IS ADAM\n",
      "\n",
      " \n",
      " Discriminator Architecture \n",
      "_________________________________________________________________\n",
      "Layer (type)                 Output Shape              Param #   \n",
      "=================================================================\n",
      "dense_17 (Dense)             (None, 18)                2214      \n",
      "_________________________________________________________________\n",
      "leaky_re_lu_11 (LeakyReLU)   (None, 18)                0         \n",
      "_________________________________________________________________\n",
      "dense_18 (Dense)             (None, 12)                228       \n",
      "_________________________________________________________________\n",
      "leaky_re_lu_12 (LeakyReLU)   (None, 12)                0         \n",
      "_________________________________________________________________\n",
      "dropout_9 (Dropout)          (None, 12)                0         \n",
      "_________________________________________________________________\n",
      "dense_19 (Dense)             (None, 10)                130       \n",
      "_________________________________________________________________\n",
      "leaky_re_lu_13 (LeakyReLU)   (None, 10)                0         \n",
      "_________________________________________________________________\n",
      "dropout_10 (Dropout)         (None, 10)                0         \n",
      "_________________________________________________________________\n",
      "dense_20 (Dense)             (None, 1)                 11        \n",
      "_________________________________________________________________\n",
      "dense_21 (Dense)             (None, 1)                 2         \n",
      "=================================================================\n",
      "Total params: 2,585\n",
      "Trainable params: 2,585\n",
      "Non-trainable params: 0\n",
      "_________________________________________________________________\n",
      "\n",
      " \n",
      " Generator Architecture \n",
      "_________________________________________________________________\n",
      "Layer (type)                 Output Shape              Param #   \n",
      "=================================================================\n",
      "dense_22 (Dense)             (None, 12)                612       \n",
      "_________________________________________________________________\n",
      "leaky_re_lu_14 (LeakyReLU)   (None, 12)                0         \n",
      "_________________________________________________________________\n",
      "dropout_11 (Dropout)         (None, 12)                0         \n",
      "_________________________________________________________________\n",
      "dense_23 (Dense)             (None, 64)                832       \n",
      "_________________________________________________________________\n",
      "leaky_re_lu_15 (LeakyReLU)   (None, 64)                0         \n",
      "_________________________________________________________________\n",
      "dropout_12 (Dropout)         (None, 64)                0         \n",
      "_________________________________________________________________\n",
      "dense_24 (Dense)             (None, 122)               7930      \n",
      "=================================================================\n",
      "Total params: 9,374\n",
      "Trainable params: 9,374\n",
      "Non-trainable params: 0\n",
      "_________________________________________________________________\n"
     ]
    }
   ],
   "source": [
    "########\n",
    "# CGAN #\n",
    "########\n",
    "cgans = [Cgan(data_dim=data_dim,\n",
    "              latent_dim=latent_dim,\n",
    "              spectral_normalisation=False,\n",
    "              weight_clipping=False, verbose=True,\n",
    "              activation=\"tanh\") for _ in range(number_of_gans)]"
   ]
  },
  {
   "cell_type": "code",
   "execution_count": 5,
   "metadata": {
    "collapsed": true
   },
   "outputs": [],
   "source": [
    "disc = cgans[0].discriminator"
   ]
  },
  {
   "cell_type": "code",
   "execution_count": 6,
   "metadata": {
    "collapsed": true
   },
   "outputs": [],
   "source": [
    "couche = disc.layers"
   ]
  },
  {
   "cell_type": "code",
   "execution_count": 7,
   "metadata": {
    "collapsed": true
   },
   "outputs": [],
   "source": [
    "disc.layers[-1].trainable = False"
   ]
  },
  {
   "cell_type": "code",
   "execution_count": 8,
   "metadata": {
    "collapsed": true
   },
   "outputs": [],
   "source": [
    "d_w = couche[-1].get_weights()"
   ]
  },
  {
   "cell_type": "code",
   "execution_count": 9,
   "metadata": {},
   "outputs": [
    {
     "data": {
      "text/plain": [
       "array([[-1.5573204]], dtype=float32)"
      ]
     },
     "execution_count": 9,
     "metadata": {},
     "output_type": "execute_result"
    }
   ],
   "source": [
    "d_w[-2]"
   ]
  },
  {
   "cell_type": "code",
   "execution_count": 10,
   "metadata": {
    "scrolled": false
   },
   "outputs": [
    {
     "name": "stderr",
     "output_type": "stream",
     "text": [
      "\r",
      "  0%|          | 0/25 [00:00<?, ?it/s]"
     ]
    },
    {
     "name": "stdout",
     "output_type": "stream",
     "text": [
      "WARNING:tensorflow:From /Users/ppx/anaconda3/lib/python3.6/site-packages/tensorflow/python/ops/math_ops.py:3066: to_int32 (from tensorflow.python.ops.math_ops) is deprecated and will be removed in a future version.\n",
      "Instructions for updating:\n",
      "Use tf.cast instead.\n"
     ]
    },
    {
     "name": "stderr",
     "output_type": "stream",
     "text": [
      "/Users/ppx/anaconda3/lib/python3.6/site-packages/keras/engine/training.py:973: UserWarning: Discrepancy between trainable weights and collected trainable weights, did you set `model.trainable` without calling `model.compile` after ?\n",
      "  'Discrepancy between trainable weights and collected trainable'\n"
     ]
    },
    {
     "name": "stdout",
     "output_type": "stream",
     "text": [
      "Epoch 1/1\n",
      "128/128 [==============================] - 1s 8ms/step - loss: 0.6560\n",
      "Epoch 1/1\n",
      "128/128 [==============================] - 0s 255us/step - loss: 0.6994\n",
      "Epoch 1/1\n",
      "128/128 [==============================] - 1s 10ms/step - loss: 0.6909\n"
     ]
    },
    {
     "name": "stderr",
     "output_type": "stream",
     "text": [
      "\r",
      "  4%|▍         | 1/25 [00:05<02:16,  5.69s/it]"
     ]
    },
    {
     "name": "stdout",
     "output_type": "stream",
     "text": [
      "Epoch 1/1\n",
      "128/128 [==============================] - 0s 100us/step - loss: 0.6371\n",
      "Epoch 1/1\n",
      "128/128 [==============================] - 0s 101us/step - loss: 0.6982\n",
      "Epoch 1/1\n",
      "128/128 [==============================] - 0s 122us/step - loss: 0.6915\n"
     ]
    },
    {
     "name": "stderr",
     "output_type": "stream",
     "text": [
      "\r",
      "  8%|▊         | 2/25 [00:06<01:40,  4.35s/it]"
     ]
    },
    {
     "name": "stdout",
     "output_type": "stream",
     "text": [
      "Epoch 1/1\n",
      "128/128 [==============================] - 0s 137us/step - loss: 0.6239\n",
      "Epoch 1/1\n",
      "128/128 [==============================] - 0s 133us/step - loss: 0.6978\n",
      "Epoch 1/1\n",
      "128/128 [==============================] - 0s 125us/step - loss: 0.6916\n"
     ]
    },
    {
     "name": "stderr",
     "output_type": "stream",
     "text": [
      "\r",
      " 12%|█▏        | 3/25 [00:08<01:14,  3.39s/it]"
     ]
    },
    {
     "name": "stdout",
     "output_type": "stream",
     "text": [
      "Epoch 1/1\n",
      "128/128 [==============================] - 0s 110us/step - loss: 0.6091\n",
      "Epoch 1/1\n",
      "128/128 [==============================] - 0s 132us/step - loss: 0.6970\n",
      "Epoch 1/1\n",
      "128/128 [==============================] - 0s 116us/step - loss: 0.6922\n"
     ]
    },
    {
     "name": "stderr",
     "output_type": "stream",
     "text": [
      "\r",
      " 16%|█▌        | 4/25 [00:09<00:59,  2.81s/it]"
     ]
    },
    {
     "name": "stdout",
     "output_type": "stream",
     "text": [
      "Epoch 1/1\n",
      "128/128 [==============================] - 0s 245us/step - loss: 0.5810\n",
      "Epoch 1/1\n",
      "128/128 [==============================] - 0s 145us/step - loss: 0.6969\n",
      "Epoch 1/1\n",
      "128/128 [==============================] - 0s 130us/step - loss: 0.6919\n"
     ]
    },
    {
     "name": "stderr",
     "output_type": "stream",
     "text": [
      "\r",
      " 20%|██        | 5/25 [00:10<00:48,  2.41s/it]"
     ]
    },
    {
     "name": "stdout",
     "output_type": "stream",
     "text": [
      "Epoch 1/1\n",
      "128/128 [==============================] - 0s 178us/step - loss: 0.5651\n",
      "Epoch 1/1\n",
      "128/128 [==============================] - 0s 181us/step - loss: 0.6974\n",
      "Epoch 1/1\n",
      "128/128 [==============================] - 0s 102us/step - loss: 0.6926\n"
     ]
    },
    {
     "name": "stderr",
     "output_type": "stream",
     "text": [
      "\r",
      " 24%|██▍       | 6/25 [00:12<00:39,  2.10s/it]"
     ]
    },
    {
     "name": "stdout",
     "output_type": "stream",
     "text": [
      "Epoch 1/1\n",
      "128/128 [==============================] - 0s 114us/step - loss: 0.5279\n",
      "Epoch 1/1\n",
      "128/128 [==============================] - 0s 109us/step - loss: 0.6963\n",
      "Epoch 1/1\n",
      "128/128 [==============================] - 0s 103us/step - loss: 0.6929\n"
     ]
    },
    {
     "name": "stderr",
     "output_type": "stream",
     "text": [
      "\r",
      " 28%|██▊       | 7/25 [00:13<00:32,  1.78s/it]"
     ]
    },
    {
     "name": "stdout",
     "output_type": "stream",
     "text": [
      "Epoch 1/1\n",
      "128/128 [==============================] - 0s 93us/step - loss: 0.4875\n",
      "Epoch 1/1\n",
      "128/128 [==============================] - 0s 91us/step - loss: 0.6960\n",
      "Epoch 1/1\n",
      "128/128 [==============================] - 0s 96us/step - loss: 0.6936\n"
     ]
    },
    {
     "name": "stderr",
     "output_type": "stream",
     "text": [
      "\r",
      " 32%|███▏      | 8/25 [00:14<00:27,  1.64s/it]"
     ]
    },
    {
     "name": "stdout",
     "output_type": "stream",
     "text": [
      "Epoch 1/1\n",
      "128/128 [==============================] - 0s 118us/step - loss: 0.5028\n",
      "Epoch 1/1\n",
      "128/128 [==============================] - 0s 387us/step - loss: 0.6946\n",
      "Epoch 1/1\n",
      "128/128 [==============================] - 0s 175us/step - loss: 0.6939\n"
     ]
    },
    {
     "name": "stderr",
     "output_type": "stream",
     "text": [
      "\r",
      " 36%|███▌      | 9/25 [00:16<00:24,  1.56s/it]"
     ]
    },
    {
     "name": "stdout",
     "output_type": "stream",
     "text": [
      "Epoch 1/1\n",
      "128/128 [==============================] - 0s 112us/step - loss: 0.4490\n",
      "Epoch 1/1\n",
      "128/128 [==============================] - 0s 154us/step - loss: 0.6941\n",
      "Epoch 1/1\n",
      "128/128 [==============================] - 0s 274us/step - loss: 0.6944\n"
     ]
    },
    {
     "name": "stderr",
     "output_type": "stream",
     "text": [
      "\r",
      " 40%|████      | 10/25 [00:17<00:21,  1.43s/it]"
     ]
    },
    {
     "name": "stdout",
     "output_type": "stream",
     "text": [
      "Epoch 1/1\n",
      "128/128 [==============================] - 0s 250us/step - loss: 0.3905\n",
      "Epoch 1/1\n",
      "128/128 [==============================] - 0s 204us/step - loss: 0.6939\n",
      "Epoch 1/1\n",
      "128/128 [==============================] - 0s 214us/step - loss: 0.6950\n"
     ]
    },
    {
     "name": "stderr",
     "output_type": "stream",
     "text": [
      "\r",
      " 44%|████▍     | 11/25 [00:18<00:19,  1.41s/it]"
     ]
    },
    {
     "name": "stdout",
     "output_type": "stream",
     "text": [
      "Epoch 1/1\n",
      "128/128 [==============================] - 0s 118us/step - loss: 0.4140\n",
      "Epoch 1/1\n",
      "128/128 [==============================] - 0s 226us/step - loss: 0.6929\n",
      "Epoch 1/1\n",
      "128/128 [==============================] - 0s 135us/step - loss: 0.6958\n"
     ]
    },
    {
     "name": "stderr",
     "output_type": "stream",
     "text": [
      "\r",
      " 48%|████▊     | 12/25 [00:20<00:18,  1.44s/it]"
     ]
    },
    {
     "name": "stdout",
     "output_type": "stream",
     "text": [
      "Epoch 1/1\n",
      "128/128 [==============================] - 0s 104us/step - loss: 0.3686\n",
      "Epoch 1/1\n",
      "128/128 [==============================] - 0s 216us/step - loss: 0.6914\n",
      "Epoch 1/1\n",
      "128/128 [==============================] - 0s 128us/step - loss: 0.6938\n"
     ]
    },
    {
     "name": "stderr",
     "output_type": "stream",
     "text": [
      "\r",
      " 52%|█████▏    | 13/25 [00:22<00:19,  1.66s/it]"
     ]
    },
    {
     "name": "stdout",
     "output_type": "stream",
     "text": [
      "Epoch 1/1\n",
      "128/128 [==============================] - 0s 559us/step - loss: 0.3298\n",
      "Epoch 1/1\n",
      "128/128 [==============================] - 0s 350us/step - loss: 0.6971\n",
      "Epoch 1/1\n",
      "128/128 [==============================] - 0s 138us/step - loss: 0.6954\n"
     ]
    },
    {
     "name": "stderr",
     "output_type": "stream",
     "text": [
      "\r",
      " 56%|█████▌    | 14/25 [00:24<00:18,  1.70s/it]"
     ]
    },
    {
     "name": "stdout",
     "output_type": "stream",
     "text": [
      "Epoch 1/1\n",
      "128/128 [==============================] - 0s 178us/step - loss: 0.3372\n",
      "Epoch 1/1\n",
      "128/128 [==============================] - 0s 104us/step - loss: 0.6937\n",
      "Epoch 1/1\n",
      "128/128 [==============================] - 0s 304us/step - loss: 0.6970\n"
     ]
    },
    {
     "name": "stderr",
     "output_type": "stream",
     "text": [
      "\r",
      " 60%|██████    | 15/25 [00:26<00:18,  1.82s/it]"
     ]
    },
    {
     "name": "stdout",
     "output_type": "stream",
     "text": [
      "Epoch 1/1\n",
      "128/128 [==============================] - 0s 155us/step - loss: 0.3095\n",
      "Epoch 1/1\n",
      "128/128 [==============================] - 0s 329us/step - loss: 0.6883\n",
      "Epoch 1/1\n",
      "128/128 [==============================] - 0s 162us/step - loss: 0.6890\n"
     ]
    },
    {
     "name": "stderr",
     "output_type": "stream",
     "text": [
      "\r",
      " 64%|██████▍   | 16/25 [00:28<00:17,  1.96s/it]"
     ]
    },
    {
     "name": "stdout",
     "output_type": "stream",
     "text": [
      "Epoch 1/1\n",
      "128/128 [==============================] - 0s 119us/step - loss: 0.3035\n",
      "Epoch 1/1\n",
      "128/128 [==============================] - 0s 128us/step - loss: 0.7053\n",
      "Epoch 1/1\n",
      "128/128 [==============================] - 0s 287us/step - loss: 0.6840\n"
     ]
    },
    {
     "name": "stderr",
     "output_type": "stream",
     "text": [
      "\r",
      " 68%|██████▊   | 17/25 [00:30<00:16,  2.01s/it]"
     ]
    },
    {
     "name": "stdout",
     "output_type": "stream",
     "text": [
      "Epoch 1/1\n",
      "128/128 [==============================] - 0s 141us/step - loss: 0.2711\n",
      "Epoch 1/1\n",
      "128/128 [==============================] - 0s 181us/step - loss: 0.7065\n",
      "Epoch 1/1\n",
      "128/128 [==============================] - 0s 198us/step - loss: 0.6854\n"
     ]
    },
    {
     "name": "stderr",
     "output_type": "stream",
     "text": [
      "\r",
      " 72%|███████▏  | 18/25 [00:32<00:13,  1.97s/it]"
     ]
    },
    {
     "name": "stdout",
     "output_type": "stream",
     "text": [
      "Epoch 1/1\n",
      "128/128 [==============================] - 0s 283us/step - loss: 0.2679\n",
      "Epoch 1/1\n",
      "128/128 [==============================] - 0s 189us/step - loss: 0.7074\n",
      "Epoch 1/1\n",
      "128/128 [==============================] - 0s 206us/step - loss: 0.6829\n"
     ]
    },
    {
     "name": "stderr",
     "output_type": "stream",
     "text": [
      "\r",
      " 76%|███████▌  | 19/25 [00:34<00:11,  1.87s/it]"
     ]
    },
    {
     "name": "stdout",
     "output_type": "stream",
     "text": [
      "Epoch 1/1\n",
      "128/128 [==============================] - 0s 135us/step - loss: 0.2407\n",
      "Epoch 1/1\n",
      "128/128 [==============================] - 0s 121us/step - loss: 0.7061\n",
      "Epoch 1/1\n",
      "128/128 [==============================] - 0s 130us/step - loss: 0.6862\n"
     ]
    },
    {
     "name": "stderr",
     "output_type": "stream",
     "text": [
      "\r",
      " 80%|████████  | 20/25 [00:35<00:08,  1.73s/it]"
     ]
    },
    {
     "name": "stdout",
     "output_type": "stream",
     "text": [
      "Epoch 1/1\n",
      "128/128 [==============================] - 0s 161us/step - loss: 0.2555\n",
      "Epoch 1/1\n",
      "128/128 [==============================] - 0s 269us/step - loss: 0.7111\n",
      "Epoch 1/1\n",
      "128/128 [==============================] - 0s 230us/step - loss: 0.6810\n"
     ]
    },
    {
     "name": "stderr",
     "output_type": "stream",
     "text": [
      "\r",
      " 84%|████████▍ | 21/25 [00:37<00:07,  1.78s/it]"
     ]
    },
    {
     "name": "stdout",
     "output_type": "stream",
     "text": [
      "Epoch 1/1\n",
      "128/128 [==============================] - 0s 156us/step - loss: 0.2666\n",
      "Epoch 1/1\n",
      "128/128 [==============================] - 0s 205us/step - loss: 0.7132\n",
      "Epoch 1/1\n",
      "128/128 [==============================] - 0s 334us/step - loss: 0.6777\n"
     ]
    },
    {
     "name": "stderr",
     "output_type": "stream",
     "text": [
      "\r",
      " 88%|████████▊ | 22/25 [00:38<00:05,  1.69s/it]"
     ]
    },
    {
     "name": "stdout",
     "output_type": "stream",
     "text": [
      "Epoch 1/1\n",
      "128/128 [==============================] - 0s 106us/step - loss: 0.2738\n",
      "Epoch 1/1\n",
      "128/128 [==============================] - 0s 182us/step - loss: 0.7246\n",
      "Epoch 1/1\n",
      "128/128 [==============================] - 0s 187us/step - loss: 0.6722\n"
     ]
    },
    {
     "name": "stderr",
     "output_type": "stream",
     "text": [
      "\r",
      " 92%|█████████▏| 23/25 [00:40<00:03,  1.56s/it]"
     ]
    },
    {
     "name": "stdout",
     "output_type": "stream",
     "text": [
      "Epoch 1/1\n",
      "128/128 [==============================] - 0s 262us/step - loss: 0.2675\n",
      "Epoch 1/1\n",
      "128/128 [==============================] - 0s 130us/step - loss: 0.7185\n",
      "Epoch 1/1\n",
      "128/128 [==============================] - 0s 154us/step - loss: 0.6640\n"
     ]
    },
    {
     "name": "stderr",
     "output_type": "stream",
     "text": [
      "\r",
      " 96%|█████████▌| 24/25 [00:41<00:01,  1.46s/it]"
     ]
    },
    {
     "name": "stdout",
     "output_type": "stream",
     "text": [
      "Epoch 1/1\n",
      "128/128 [==============================] - 0s 143us/step - loss: 0.2423\n",
      "Epoch 1/1\n",
      "128/128 [==============================] - 0s 108us/step - loss: 0.7306\n",
      "Epoch 1/1\n",
      "128/128 [==============================] - 0s 122us/step - loss: 0.6703\n"
     ]
    },
    {
     "name": "stderr",
     "output_type": "stream",
     "text": [
      "100%|██████████| 25/25 [00:42<00:00,  1.39s/it]\n",
      "  0%|          | 0/25 [00:00<?, ?it/s]"
     ]
    },
    {
     "name": "stdout",
     "output_type": "stream",
     "text": [
      "Epoch 1/1\n",
      "128/128 [==============================] - 1s 12ms/step - loss: 0.6809\n",
      "Epoch 1/1\n",
      "128/128 [==============================] - 0s 169us/step - loss: 0.6974\n",
      "Epoch 1/1\n",
      "128/128 [==============================] - 2s 15ms/step - loss: 0.6911\n"
     ]
    },
    {
     "name": "stderr",
     "output_type": "stream",
     "text": [
      "\r",
      "  4%|▍         | 1/25 [00:08<03:26,  8.60s/it]"
     ]
    },
    {
     "name": "stdout",
     "output_type": "stream",
     "text": [
      "Epoch 1/1\n",
      "128/128 [==============================] - 0s 108us/step - loss: 0.6746\n",
      "Epoch 1/1\n",
      "128/128 [==============================] - 0s 163us/step - loss: 0.6969\n",
      "Epoch 1/1\n",
      "128/128 [==============================] - 0s 118us/step - loss: 0.6920\n"
     ]
    },
    {
     "name": "stderr",
     "output_type": "stream",
     "text": [
      "\r",
      "  8%|▊         | 2/25 [00:10<02:28,  6.44s/it]"
     ]
    },
    {
     "name": "stdout",
     "output_type": "stream",
     "text": [
      "Epoch 1/1\n",
      "128/128 [==============================] - 0s 211us/step - loss: 0.6651\n",
      "Epoch 1/1\n",
      "128/128 [==============================] - 0s 126us/step - loss: 0.6954\n",
      "Epoch 1/1\n",
      "128/128 [==============================] - 0s 127us/step - loss: 0.6944\n"
     ]
    },
    {
     "name": "stderr",
     "output_type": "stream",
     "text": [
      "\r",
      " 12%|█▏        | 3/25 [00:12<01:56,  5.32s/it]"
     ]
    },
    {
     "name": "stdout",
     "output_type": "stream",
     "text": [
      "Epoch 1/1\n",
      "128/128 [==============================] - 0s 103us/step - loss: 0.6602\n",
      "Epoch 1/1\n",
      "128/128 [==============================] - 0s 94us/step - loss: 0.6912\n",
      "Epoch 1/1\n",
      "128/128 [==============================] - 0s 156us/step - loss: 0.6987\n"
     ]
    },
    {
     "name": "stderr",
     "output_type": "stream",
     "text": [
      "\r",
      " 16%|█▌        | 4/25 [00:15<01:33,  4.45s/it]"
     ]
    },
    {
     "name": "stdout",
     "output_type": "stream",
     "text": [
      "Epoch 1/1\n",
      "128/128 [==============================] - 0s 167us/step - loss: 0.6492\n",
      "Epoch 1/1\n",
      "128/128 [==============================] - 0s 146us/step - loss: 0.6891\n",
      "Epoch 1/1\n",
      "128/128 [==============================] - 0s 146us/step - loss: 0.7023\n"
     ]
    },
    {
     "name": "stderr",
     "output_type": "stream",
     "text": [
      "\r",
      " 20%|██        | 5/25 [00:16<01:10,  3.54s/it]"
     ]
    },
    {
     "name": "stdout",
     "output_type": "stream",
     "text": [
      "Epoch 1/1\n",
      "128/128 [==============================] - 0s 193us/step - loss: 0.6449\n",
      "Epoch 1/1\n",
      "128/128 [==============================] - 0s 199us/step - loss: 0.6825\n",
      "Epoch 1/1\n",
      "128/128 [==============================] - 0s 310us/step - loss: 0.7082\n"
     ]
    },
    {
     "name": "stderr",
     "output_type": "stream",
     "text": [
      "\r",
      " 24%|██▍       | 6/25 [00:18<00:55,  2.94s/it]"
     ]
    },
    {
     "name": "stdout",
     "output_type": "stream",
     "text": [
      "Epoch 1/1\n",
      "128/128 [==============================] - 0s 334us/step - loss: 0.6390\n",
      "Epoch 1/1\n",
      "128/128 [==============================] - 0s 166us/step - loss: 0.6773\n",
      "Epoch 1/1\n",
      "128/128 [==============================] - 0s 192us/step - loss: 0.7153\n"
     ]
    },
    {
     "name": "stderr",
     "output_type": "stream",
     "text": [
      "\r",
      " 28%|██▊       | 7/25 [00:19<00:45,  2.54s/it]"
     ]
    },
    {
     "name": "stdout",
     "output_type": "stream",
     "text": [
      "Epoch 1/1\n",
      "128/128 [==============================] - 0s 223us/step - loss: 0.6200\n",
      "Epoch 1/1\n",
      "128/128 [==============================] - 0s 145us/step - loss: 0.6758\n",
      "Epoch 1/1\n",
      "128/128 [==============================] - 0s 205us/step - loss: 0.7206\n"
     ]
    },
    {
     "name": "stderr",
     "output_type": "stream",
     "text": [
      "\r",
      " 32%|███▏      | 8/25 [00:21<00:40,  2.40s/it]"
     ]
    },
    {
     "name": "stdout",
     "output_type": "stream",
     "text": [
      "Epoch 1/1\n",
      "128/128 [==============================] - 0s 217us/step - loss: 0.6139\n",
      "Epoch 1/1\n",
      "128/128 [==============================] - 0s 162us/step - loss: 0.6710\n",
      "Epoch 1/1\n",
      "128/128 [==============================] - 0s 130us/step - loss: 0.7227\n"
     ]
    },
    {
     "name": "stderr",
     "output_type": "stream",
     "text": [
      "\r",
      " 36%|███▌      | 9/25 [00:23<00:34,  2.15s/it]"
     ]
    },
    {
     "name": "stdout",
     "output_type": "stream",
     "text": [
      "Epoch 1/1\n",
      "128/128 [==============================] - 0s 203us/step - loss: 0.5963\n",
      "Epoch 1/1\n",
      "128/128 [==============================] - 0s 81us/step - loss: 0.6687\n",
      "Epoch 1/1\n",
      "128/128 [==============================] - 0s 84us/step - loss: 0.7277\n"
     ]
    },
    {
     "name": "stderr",
     "output_type": "stream",
     "text": [
      "\r",
      " 40%|████      | 10/25 [00:25<00:30,  2.07s/it]"
     ]
    },
    {
     "name": "stdout",
     "output_type": "stream",
     "text": [
      "Epoch 1/1\n",
      "128/128 [==============================] - 0s 184us/step - loss: 0.5775\n",
      "Epoch 1/1\n",
      "128/128 [==============================] - 0s 236us/step - loss: 0.6584\n",
      "Epoch 1/1\n",
      "128/128 [==============================] - 0s 192us/step - loss: 0.7334\n"
     ]
    },
    {
     "name": "stderr",
     "output_type": "stream",
     "text": [
      "\r",
      " 44%|████▍     | 11/25 [00:26<00:26,  1.91s/it]"
     ]
    },
    {
     "name": "stdout",
     "output_type": "stream",
     "text": [
      "Epoch 1/1\n",
      "128/128 [==============================] - 0s 129us/step - loss: 0.5551\n",
      "Epoch 1/1\n",
      "128/128 [==============================] - 0s 104us/step - loss: 0.6544\n",
      "Epoch 1/1\n",
      "128/128 [==============================] - 0s 111us/step - loss: 0.7334\n"
     ]
    },
    {
     "name": "stderr",
     "output_type": "stream",
     "text": [
      "\r",
      " 48%|████▊     | 12/25 [00:28<00:23,  1.84s/it]"
     ]
    },
    {
     "name": "stdout",
     "output_type": "stream",
     "text": [
      "Epoch 1/1\n",
      "128/128 [==============================] - 0s 121us/step - loss: 0.5606\n",
      "Epoch 1/1\n",
      "128/128 [==============================] - 0s 140us/step - loss: 0.6532\n",
      "Epoch 1/1\n",
      "128/128 [==============================] - 0s 145us/step - loss: 0.7424\n"
     ]
    },
    {
     "name": "stderr",
     "output_type": "stream",
     "text": [
      "\r",
      " 52%|█████▏    | 13/25 [00:29<00:20,  1.71s/it]"
     ]
    },
    {
     "name": "stdout",
     "output_type": "stream",
     "text": [
      "Epoch 1/1\n",
      "128/128 [==============================] - 0s 95us/step - loss: 0.5149\n",
      "Epoch 1/1\n",
      "128/128 [==============================] - 0s 119us/step - loss: 0.6441\n",
      "Epoch 1/1\n",
      "128/128 [==============================] - 0s 103us/step - loss: 0.7472\n"
     ]
    },
    {
     "name": "stderr",
     "output_type": "stream",
     "text": [
      "\r",
      " 56%|█████▌    | 14/25 [00:30<00:15,  1.40s/it]"
     ]
    },
    {
     "name": "stdout",
     "output_type": "stream",
     "text": [
      "Epoch 1/1\n",
      "128/128 [==============================] - 0s 93us/step - loss: 0.4940\n",
      "Epoch 1/1\n",
      "128/128 [==============================] - 0s 102us/step - loss: 0.6494\n",
      "Epoch 1/1\n",
      "128/128 [==============================] - 0s 118us/step - loss: 0.7412\n"
     ]
    },
    {
     "name": "stderr",
     "output_type": "stream",
     "text": [
      "\r",
      " 60%|██████    | 15/25 [00:31<00:11,  1.18s/it]"
     ]
    },
    {
     "name": "stdout",
     "output_type": "stream",
     "text": [
      "Epoch 1/1\n",
      "128/128 [==============================] - 0s 87us/step - loss: 0.4745\n",
      "Epoch 1/1\n",
      "128/128 [==============================] - 0s 92us/step - loss: 0.6517\n",
      "Epoch 1/1\n",
      "128/128 [==============================] - 0s 99us/step - loss: 0.7518\n"
     ]
    },
    {
     "name": "stderr",
     "output_type": "stream",
     "text": [
      "\r",
      " 64%|██████▍   | 16/25 [00:31<00:09,  1.03s/it]"
     ]
    },
    {
     "name": "stdout",
     "output_type": "stream",
     "text": [
      "Epoch 1/1\n",
      "128/128 [==============================] - 0s 127us/step - loss: 0.4471\n",
      "Epoch 1/1\n",
      "128/128 [==============================] - 0s 200us/step - loss: 0.6431\n",
      "Epoch 1/1\n",
      "128/128 [==============================] - 0s 125us/step - loss: 0.7508\n"
     ]
    },
    {
     "name": "stderr",
     "output_type": "stream",
     "text": [
      "\r",
      " 68%|██████▊   | 17/25 [00:32<00:07,  1.03it/s]"
     ]
    },
    {
     "name": "stdout",
     "output_type": "stream",
     "text": [
      "Epoch 1/1\n",
      "128/128 [==============================] - 0s 177us/step - loss: 0.4673\n",
      "Epoch 1/1\n",
      "128/128 [==============================] - 0s 162us/step - loss: 0.6432\n",
      "Epoch 1/1\n",
      "128/128 [==============================] - 0s 181us/step - loss: 0.7448\n"
     ]
    },
    {
     "name": "stderr",
     "output_type": "stream",
     "text": [
      "\r",
      " 72%|███████▏  | 18/25 [00:33<00:06,  1.03it/s]"
     ]
    },
    {
     "name": "stdout",
     "output_type": "stream",
     "text": [
      "Epoch 1/1\n",
      "128/128 [==============================] - 0s 101us/step - loss: 0.4389\n",
      "Epoch 1/1\n",
      "128/128 [==============================] - 0s 102us/step - loss: 0.6470\n",
      "Epoch 1/1\n",
      "128/128 [==============================] - 0s 108us/step - loss: 0.7494\n"
     ]
    },
    {
     "name": "stderr",
     "output_type": "stream",
     "text": [
      "\r",
      " 76%|███████▌  | 19/25 [00:34<00:05,  1.01it/s]"
     ]
    },
    {
     "name": "stdout",
     "output_type": "stream",
     "text": [
      "Epoch 1/1\n",
      "128/128 [==============================] - 0s 109us/step - loss: 0.4441\n",
      "Epoch 1/1\n",
      "128/128 [==============================] - 0s 289us/step - loss: 0.6522\n",
      "Epoch 1/1\n",
      "128/128 [==============================] - 0s 202us/step - loss: 0.7526\n"
     ]
    },
    {
     "name": "stderr",
     "output_type": "stream",
     "text": [
      "\r",
      " 80%|████████  | 20/25 [00:36<00:05,  1.15s/it]"
     ]
    },
    {
     "name": "stdout",
     "output_type": "stream",
     "text": [
      "Epoch 1/1\n",
      "128/128 [==============================] - 0s 185us/step - loss: 0.4686\n",
      "Epoch 1/1\n",
      "128/128 [==============================] - 0s 161us/step - loss: 0.6500\n",
      "Epoch 1/1\n",
      "128/128 [==============================] - 0s 152us/step - loss: 0.7485\n"
     ]
    },
    {
     "name": "stderr",
     "output_type": "stream",
     "text": [
      "\r",
      " 84%|████████▍ | 21/25 [00:37<00:04,  1.21s/it]"
     ]
    },
    {
     "name": "stdout",
     "output_type": "stream",
     "text": [
      "Epoch 1/1\n",
      "128/128 [==============================] - 0s 121us/step - loss: 0.4032\n",
      "Epoch 1/1\n",
      "128/128 [==============================] - 0s 126us/step - loss: 0.6627\n",
      "Epoch 1/1\n",
      "128/128 [==============================] - 0s 174us/step - loss: 0.7476\n"
     ]
    },
    {
     "name": "stderr",
     "output_type": "stream",
     "text": [
      "\r",
      " 88%|████████▊ | 22/25 [00:38<00:03,  1.23s/it]"
     ]
    },
    {
     "name": "stdout",
     "output_type": "stream",
     "text": [
      "Epoch 1/1\n",
      "128/128 [==============================] - 0s 234us/step - loss: 0.4509\n",
      "Epoch 1/1\n",
      "128/128 [==============================] - 0s 189us/step - loss: 0.6435\n",
      "Epoch 1/1\n",
      "128/128 [==============================] - 0s 275us/step - loss: 0.7466\n"
     ]
    },
    {
     "name": "stderr",
     "output_type": "stream",
     "text": [
      "\r",
      " 92%|█████████▏| 23/25 [00:40<00:02,  1.25s/it]"
     ]
    },
    {
     "name": "stdout",
     "output_type": "stream",
     "text": [
      "Epoch 1/1\n",
      "128/128 [==============================] - 0s 194us/step - loss: 0.4113\n",
      "Epoch 1/1\n",
      "128/128 [==============================] - 0s 450us/step - loss: 0.6560\n",
      "Epoch 1/1\n",
      "128/128 [==============================] - 0s 628us/step - loss: 0.7549\n"
     ]
    },
    {
     "name": "stderr",
     "output_type": "stream",
     "text": [
      "\r",
      " 96%|█████████▌| 24/25 [00:41<00:01,  1.28s/it]"
     ]
    },
    {
     "name": "stdout",
     "output_type": "stream",
     "text": [
      "Epoch 1/1\n",
      "128/128 [==============================] - 0s 183us/step - loss: 0.4462\n",
      "Epoch 1/1\n",
      "128/128 [==============================] - 0s 270us/step - loss: 0.6550\n",
      "Epoch 1/1\n",
      "128/128 [==============================] - 0s 108us/step - loss: 0.7678\n"
     ]
    },
    {
     "name": "stderr",
     "output_type": "stream",
     "text": [
      "100%|██████████| 25/25 [00:42<00:00,  1.33s/it]\n",
      "  0%|          | 0/25 [00:00<?, ?it/s]"
     ]
    },
    {
     "name": "stdout",
     "output_type": "stream",
     "text": [
      "Epoch 1/1\n",
      "128/128 [==============================] - 2s 14ms/step - loss: 0.6981\n",
      "Epoch 1/1\n",
      "128/128 [==============================] - 0s 192us/step - loss: 0.6946\n",
      "Epoch 1/1\n",
      "128/128 [==============================] - 2s 15ms/step - loss: 0.6925\n"
     ]
    },
    {
     "name": "stderr",
     "output_type": "stream",
     "text": [
      "\r",
      "  4%|▍         | 1/25 [00:07<03:01,  7.55s/it]"
     ]
    },
    {
     "name": "stdout",
     "output_type": "stream",
     "text": [
      "Epoch 1/1\n",
      "128/128 [==============================] - 0s 134us/step - loss: 0.6926\n",
      "Epoch 1/1\n",
      "128/128 [==============================] - 0s 183us/step - loss: 0.6945\n",
      "Epoch 1/1\n",
      "128/128 [==============================] - 0s 155us/step - loss: 0.6926\n"
     ]
    },
    {
     "name": "stderr",
     "output_type": "stream",
     "text": [
      "\r",
      "  8%|▊         | 2/25 [00:08<02:11,  5.70s/it]"
     ]
    },
    {
     "name": "stdout",
     "output_type": "stream",
     "text": [
      "Epoch 1/1\n",
      "128/128 [==============================] - 0s 190us/step - loss: 0.6892\n",
      "Epoch 1/1\n",
      "128/128 [==============================] - 0s 214us/step - loss: 0.6946\n",
      "Epoch 1/1\n",
      "128/128 [==============================] - 0s 152us/step - loss: 0.6924\n"
     ]
    },
    {
     "name": "stderr",
     "output_type": "stream",
     "text": [
      "\r",
      " 12%|█▏        | 3/25 [00:10<01:35,  4.34s/it]"
     ]
    },
    {
     "name": "stdout",
     "output_type": "stream",
     "text": [
      "Epoch 1/1\n",
      "128/128 [==============================] - 0s 99us/step - loss: 0.6850\n",
      "Epoch 1/1\n",
      "128/128 [==============================] - 0s 110us/step - loss: 0.6945\n",
      "Epoch 1/1\n",
      "128/128 [==============================] - 0s 110us/step - loss: 0.6929\n"
     ]
    },
    {
     "name": "stderr",
     "output_type": "stream",
     "text": [
      "\r",
      " 16%|█▌        | 4/25 [00:11<01:11,  3.38s/it]"
     ]
    },
    {
     "name": "stdout",
     "output_type": "stream",
     "text": [
      "Epoch 1/1\n",
      "128/128 [==============================] - 0s 125us/step - loss: 0.6821\n",
      "Epoch 1/1\n",
      "128/128 [==============================] - 0s 126us/step - loss: 0.6935\n",
      "Epoch 1/1\n",
      "128/128 [==============================] - 0s 132us/step - loss: 0.6942\n"
     ]
    },
    {
     "name": "stderr",
     "output_type": "stream",
     "text": [
      "\r",
      " 20%|██        | 5/25 [00:12<00:55,  2.79s/it]"
     ]
    },
    {
     "name": "stdout",
     "output_type": "stream",
     "text": [
      "Epoch 1/1\n",
      "128/128 [==============================] - 0s 193us/step - loss: 0.6795\n",
      "Epoch 1/1\n",
      "128/128 [==============================] - 0s 205us/step - loss: 0.6920\n",
      "Epoch 1/1\n",
      "128/128 [==============================] - 0s 122us/step - loss: 0.6959\n"
     ]
    },
    {
     "name": "stderr",
     "output_type": "stream",
     "text": [
      "\r",
      " 24%|██▍       | 6/25 [00:14<00:45,  2.39s/it]"
     ]
    },
    {
     "name": "stdout",
     "output_type": "stream",
     "text": [
      "Epoch 1/1\n",
      "128/128 [==============================] - 0s 231us/step - loss: 0.6776\n",
      "Epoch 1/1\n",
      "128/128 [==============================] - 0s 155us/step - loss: 0.6903\n",
      "Epoch 1/1\n",
      "128/128 [==============================] - 0s 178us/step - loss: 0.6978\n"
     ]
    },
    {
     "name": "stderr",
     "output_type": "stream",
     "text": [
      "\r",
      " 28%|██▊       | 7/25 [00:15<00:38,  2.13s/it]"
     ]
    },
    {
     "name": "stdout",
     "output_type": "stream",
     "text": [
      "Epoch 1/1\n",
      "128/128 [==============================] - 0s 203us/step - loss: 0.6742\n",
      "Epoch 1/1\n",
      "128/128 [==============================] - 0s 246us/step - loss: 0.6895\n",
      "Epoch 1/1\n",
      "128/128 [==============================] - 0s 193us/step - loss: 0.6997\n"
     ]
    },
    {
     "name": "stderr",
     "output_type": "stream",
     "text": [
      "\r",
      " 32%|███▏      | 8/25 [00:17<00:33,  1.96s/it]"
     ]
    },
    {
     "name": "stdout",
     "output_type": "stream",
     "text": [
      "Epoch 1/1\n",
      "128/128 [==============================] - 0s 101us/step - loss: 0.6660\n",
      "Epoch 1/1\n",
      "128/128 [==============================] - 0s 164us/step - loss: 0.6874\n",
      "Epoch 1/1\n",
      "128/128 [==============================] - 0s 167us/step - loss: 0.7027\n"
     ]
    },
    {
     "name": "stderr",
     "output_type": "stream",
     "text": [
      "\r",
      " 36%|███▌      | 9/25 [00:18<00:28,  1.80s/it]"
     ]
    },
    {
     "name": "stdout",
     "output_type": "stream",
     "text": [
      "Epoch 1/1\n",
      "128/128 [==============================] - 0s 135us/step - loss: 0.6659\n",
      "Epoch 1/1\n",
      "128/128 [==============================] - 0s 99us/step - loss: 0.6821\n",
      "Epoch 1/1\n",
      "128/128 [==============================] - 0s 199us/step - loss: 0.7023\n"
     ]
    },
    {
     "name": "stderr",
     "output_type": "stream",
     "text": [
      "\r",
      " 40%|████      | 10/25 [00:19<00:24,  1.65s/it]"
     ]
    },
    {
     "name": "stdout",
     "output_type": "stream",
     "text": [
      "Epoch 1/1\n",
      "128/128 [==============================] - 0s 98us/step - loss: 0.6600\n",
      "Epoch 1/1\n",
      "128/128 [==============================] - 0s 94us/step - loss: 0.6820\n",
      "Epoch 1/1\n",
      "128/128 [==============================] - 0s 115us/step - loss: 0.7023\n"
     ]
    },
    {
     "name": "stderr",
     "output_type": "stream",
     "text": [
      "\r",
      " 44%|████▍     | 11/25 [00:21<00:23,  1.71s/it]"
     ]
    },
    {
     "name": "stdout",
     "output_type": "stream",
     "text": [
      "Epoch 1/1\n",
      "128/128 [==============================] - 0s 217us/step - loss: 0.6527\n",
      "Epoch 1/1\n",
      "128/128 [==============================] - 0s 119us/step - loss: 0.6819\n",
      "Epoch 1/1\n",
      "128/128 [==============================] - 0s 140us/step - loss: 0.7090\n"
     ]
    },
    {
     "name": "stderr",
     "output_type": "stream",
     "text": [
      "\r",
      " 48%|████▊     | 12/25 [00:23<00:21,  1.62s/it]"
     ]
    },
    {
     "name": "stdout",
     "output_type": "stream",
     "text": [
      "Epoch 1/1\n",
      "128/128 [==============================] - 0s 229us/step - loss: 0.6581\n",
      "Epoch 1/1\n",
      "128/128 [==============================] - 0s 112us/step - loss: 0.6810\n",
      "Epoch 1/1\n",
      "128/128 [==============================] - 0s 107us/step - loss: 0.7116\n"
     ]
    },
    {
     "name": "stderr",
     "output_type": "stream",
     "text": [
      "\r",
      " 52%|█████▏    | 13/25 [00:24<00:18,  1.52s/it]"
     ]
    },
    {
     "name": "stdout",
     "output_type": "stream",
     "text": [
      "Epoch 1/1\n",
      "128/128 [==============================] - 0s 179us/step - loss: 0.6472\n",
      "Epoch 1/1\n",
      "128/128 [==============================] - 0s 129us/step - loss: 0.6772\n",
      "Epoch 1/1\n",
      "128/128 [==============================] - 0s 120us/step - loss: 0.7099\n"
     ]
    },
    {
     "name": "stderr",
     "output_type": "stream",
     "text": [
      "\r",
      " 56%|█████▌    | 14/25 [00:25<00:15,  1.45s/it]"
     ]
    },
    {
     "name": "stdout",
     "output_type": "stream",
     "text": [
      "Epoch 1/1\n",
      "128/128 [==============================] - 0s 118us/step - loss: 0.6415\n",
      "Epoch 1/1\n",
      "128/128 [==============================] - 0s 193us/step - loss: 0.6785\n",
      "Epoch 1/1\n",
      "128/128 [==============================] - 0s 234us/step - loss: 0.7170\n"
     ]
    },
    {
     "name": "stderr",
     "output_type": "stream",
     "text": [
      "\r",
      " 60%|██████    | 15/25 [00:27<00:15,  1.50s/it]"
     ]
    },
    {
     "name": "stdout",
     "output_type": "stream",
     "text": [
      "Epoch 1/1\n",
      "128/128 [==============================] - 0s 325us/step - loss: 0.6334\n",
      "Epoch 1/1\n",
      "128/128 [==============================] - 0s 301us/step - loss: 0.6721\n",
      "Epoch 1/1\n",
      "128/128 [==============================] - 0s 218us/step - loss: 0.7154\n"
     ]
    },
    {
     "name": "stderr",
     "output_type": "stream",
     "text": [
      "\r",
      " 64%|██████▍   | 16/25 [00:29<00:14,  1.62s/it]"
     ]
    },
    {
     "name": "stdout",
     "output_type": "stream",
     "text": [
      "Epoch 1/1\n",
      "128/128 [==============================] - 0s 273us/step - loss: 0.6366\n",
      "Epoch 1/1\n",
      "128/128 [==============================] - 0s 182us/step - loss: 0.6702\n",
      "Epoch 1/1\n",
      "128/128 [==============================] - 0s 130us/step - loss: 0.7232\n"
     ]
    },
    {
     "name": "stderr",
     "output_type": "stream",
     "text": [
      "\r",
      " 68%|██████▊   | 17/25 [00:30<00:12,  1.62s/it]"
     ]
    },
    {
     "name": "stdout",
     "output_type": "stream",
     "text": [
      "Epoch 1/1\n",
      "128/128 [==============================] - 0s 264us/step - loss: 0.6172\n",
      "Epoch 1/1\n",
      "128/128 [==============================] - 0s 110us/step - loss: 0.6725\n",
      "Epoch 1/1\n",
      "128/128 [==============================] - 0s 131us/step - loss: 0.7214\n"
     ]
    },
    {
     "name": "stderr",
     "output_type": "stream",
     "text": [
      "\r",
      " 72%|███████▏  | 18/25 [00:32<00:11,  1.59s/it]"
     ]
    },
    {
     "name": "stdout",
     "output_type": "stream",
     "text": [
      "Epoch 1/1\n",
      "128/128 [==============================] - 0s 97us/step - loss: 0.6132\n",
      "Epoch 1/1\n",
      "128/128 [==============================] - 0s 95us/step - loss: 0.6666\n",
      "Epoch 1/1\n",
      "128/128 [==============================] - 0s 104us/step - loss: 0.7242\n"
     ]
    },
    {
     "name": "stderr",
     "output_type": "stream",
     "text": [
      "\r",
      " 76%|███████▌  | 19/25 [00:33<00:09,  1.59s/it]"
     ]
    },
    {
     "name": "stdout",
     "output_type": "stream",
     "text": [
      "Epoch 1/1\n",
      "128/128 [==============================] - 0s 191us/step - loss: 0.6187\n",
      "Epoch 1/1\n",
      "128/128 [==============================] - 0s 115us/step - loss: 0.6668\n",
      "Epoch 1/1\n",
      "128/128 [==============================] - 0s 149us/step - loss: 0.7259\n"
     ]
    },
    {
     "name": "stderr",
     "output_type": "stream",
     "text": [
      "\r",
      " 80%|████████  | 20/25 [00:35<00:07,  1.53s/it]"
     ]
    },
    {
     "name": "stdout",
     "output_type": "stream",
     "text": [
      "Epoch 1/1\n",
      "128/128 [==============================] - 0s 125us/step - loss: 0.5944\n",
      "Epoch 1/1\n",
      "128/128 [==============================] - 0s 148us/step - loss: 0.6590\n",
      "Epoch 1/1\n",
      "128/128 [==============================] - 0s 247us/step - loss: 0.7296\n"
     ]
    },
    {
     "name": "stderr",
     "output_type": "stream",
     "text": [
      "\r",
      " 84%|████████▍ | 21/25 [00:36<00:05,  1.42s/it]"
     ]
    },
    {
     "name": "stdout",
     "output_type": "stream",
     "text": [
      "Epoch 1/1\n",
      "128/128 [==============================] - 0s 133us/step - loss: 0.6078\n",
      "Epoch 1/1\n",
      "128/128 [==============================] - 0s 230us/step - loss: 0.6604\n",
      "Epoch 1/1\n",
      "128/128 [==============================] - 0s 117us/step - loss: 0.7357\n"
     ]
    },
    {
     "name": "stderr",
     "output_type": "stream",
     "text": [
      "\r",
      " 88%|████████▊ | 22/25 [00:37<00:04,  1.35s/it]"
     ]
    },
    {
     "name": "stdout",
     "output_type": "stream",
     "text": [
      "Epoch 1/1\n",
      "128/128 [==============================] - 0s 187us/step - loss: 0.5869\n",
      "Epoch 1/1\n",
      "128/128 [==============================] - 0s 112us/step - loss: 0.6563\n",
      "Epoch 1/1\n",
      "128/128 [==============================] - 0s 106us/step - loss: 0.7421\n"
     ]
    },
    {
     "name": "stderr",
     "output_type": "stream",
     "text": [
      "\r",
      " 92%|█████████▏| 23/25 [00:38<00:02,  1.26s/it]"
     ]
    },
    {
     "name": "stdout",
     "output_type": "stream",
     "text": [
      "Epoch 1/1\n",
      "128/128 [==============================] - 0s 129us/step - loss: 0.5804\n",
      "Epoch 1/1\n",
      "128/128 [==============================] - 0s 155us/step - loss: 0.6566\n",
      "Epoch 1/1\n",
      "128/128 [==============================] - 0s 131us/step - loss: 0.7420\n"
     ]
    },
    {
     "name": "stderr",
     "output_type": "stream",
     "text": [
      "\r",
      " 96%|█████████▌| 24/25 [00:39<00:01,  1.23s/it]"
     ]
    },
    {
     "name": "stdout",
     "output_type": "stream",
     "text": [
      "Epoch 1/1\n",
      "128/128 [==============================] - 0s 103us/step - loss: 0.5600\n",
      "Epoch 1/1\n",
      "128/128 [==============================] - 0s 103us/step - loss: 0.6529\n",
      "Epoch 1/1\n",
      "128/128 [==============================] - 0s 94us/step - loss: 0.7494\n"
     ]
    },
    {
     "name": "stderr",
     "output_type": "stream",
     "text": [
      "100%|██████████| 25/25 [00:41<00:00,  1.19s/it]\n"
     ]
    },
    {
     "name": "stdout",
     "output_type": "stream",
     "text": [
      "Let's switch the GANs\n",
      "There are 1 fixed points\n",
      "GANs switched\n"
     ]
    },
    {
     "name": "stderr",
     "output_type": "stream",
     "text": [
      "/Users/ppx/anaconda3/lib/python3.6/site-packages/sklearn/metrics/classification.py:1143: UndefinedMetricWarning: Precision is ill-defined and being set to 0.0 due to no predicted samples.\n",
      "  'precision', 'predicted', average, warn_for)\n",
      "/Users/ppx/anaconda3/lib/python3.6/site-packages/sklearn/metrics/classification.py:1143: UndefinedMetricWarning: F-score is ill-defined and being set to 0.0 due to no predicted samples.\n",
      "  'precision', 'predicted', average, warn_for)\n"
     ]
    },
    {
     "name": "stdout",
     "output_type": "stream",
     "text": [
      "1000/1000 [==============================] - 1s 538us/step\n",
      "1000/1000 [==============================] - 0s 461us/step\n",
      "1000/1000 [==============================] - 0s 490us/step\n",
      "Let's switch the GANs\n",
      "There are 1 fixed points\n",
      "GANs switched\n",
      "1000/1000 [==============================] - 1s 866us/step\n",
      "1000/1000 [==============================] - 1s 719us/step\n",
      "1000/1000 [==============================] - 1s 897us/step\n",
      "Let's switch the GANs\n",
      "There are 1 fixed points\n",
      "GANs switched\n",
      "1000/1000 [==============================] - 1s 734us/step\n",
      "1000/1000 [==============================] - 1s 926us/step\n",
      "1000/1000 [==============================] - 1s 932us/step\n",
      "Let's switch the GANs\n",
      "There are 0 fixed points\n",
      "GANs switched\n",
      "1000/1000 [==============================] - 1s 773us/step\n",
      "1000/1000 [==============================] - 1s 696us/step\n",
      "1000/1000 [==============================] - 1s 853us/step\n",
      "Let's switch the GANs\n",
      "There are 0 fixed points\n",
      "GANs switched\n",
      "1000/1000 [==============================] - 1s 930us/step\n",
      "1000/1000 [==============================] - 1s 833us/step\n",
      "1000/1000 [==============================] - 1s 788us/step\n",
      "\n",
      "\n",
      "\n",
      "best generator loss is 0.23628670948545916\n",
      "\n",
      "\n",
      "\n",
      "f1 score is 0.6612997782230378\n",
      "f1 score is 0.6041538843512535\n",
      "f1 score is 0.5545309258252382\n"
     ]
    },
    {
     "name": "stderr",
     "output_type": "stream",
     "text": [
      "\r",
      "  0%|          | 0/25 [00:00<?, ?it/s]"
     ]
    },
    {
     "name": "stdout",
     "output_type": "stream",
     "text": [
      "Epoch 1/1\n",
      "128/128 [==============================] - 0s 131us/step - loss: 0.5740\n",
      "Epoch 1/1\n",
      "128/128 [==============================] - 0s 157us/step - loss: 0.6454\n",
      "Epoch 1/1\n",
      "128/128 [==============================] - 2s 15ms/step - loss: 0.7457\n"
     ]
    },
    {
     "name": "stderr",
     "output_type": "stream",
     "text": [
      "\r",
      "  4%|▍         | 1/25 [00:04<01:59,  4.98s/it]"
     ]
    },
    {
     "name": "stdout",
     "output_type": "stream",
     "text": [
      "Epoch 1/1\n",
      "128/128 [==============================] - 0s 117us/step - loss: 0.5605\n",
      "Epoch 1/1\n",
      "128/128 [==============================] - 0s 144us/step - loss: 0.6647\n",
      "Epoch 1/1\n",
      "128/128 [==============================] - 0s 158us/step - loss: 0.7289\n"
     ]
    },
    {
     "name": "stderr",
     "output_type": "stream",
     "text": [
      "\r",
      "  8%|▊         | 2/25 [00:06<01:28,  3.83s/it]"
     ]
    },
    {
     "name": "stdout",
     "output_type": "stream",
     "text": [
      "Epoch 1/1\n",
      "128/128 [==============================] - 0s 116us/step - loss: 0.5550\n",
      "Epoch 1/1\n",
      "128/128 [==============================] - 0s 99us/step - loss: 0.6674\n",
      "Epoch 1/1\n",
      "128/128 [==============================] - 0s 113us/step - loss: 0.7327\n"
     ]
    },
    {
     "name": "stderr",
     "output_type": "stream",
     "text": [
      "\r",
      " 12%|█▏        | 3/25 [00:07<01:08,  3.11s/it]"
     ]
    },
    {
     "name": "stdout",
     "output_type": "stream",
     "text": [
      "Epoch 1/1\n",
      "128/128 [==============================] - 0s 238us/step - loss: 0.5490\n",
      "Epoch 1/1\n",
      "128/128 [==============================] - 0s 115us/step - loss: 0.6763\n",
      "Epoch 1/1\n",
      "128/128 [==============================] - 0s 112us/step - loss: 0.7163\n"
     ]
    },
    {
     "name": "stderr",
     "output_type": "stream",
     "text": [
      "\r",
      " 16%|█▌        | 4/25 [00:08<00:53,  2.54s/it]"
     ]
    },
    {
     "name": "stdout",
     "output_type": "stream",
     "text": [
      "Epoch 1/1\n",
      "128/128 [==============================] - 0s 105us/step - loss: 0.5303\n",
      "Epoch 1/1\n",
      "128/128 [==============================] - 0s 123us/step - loss: 0.6766\n",
      "Epoch 1/1\n",
      "128/128 [==============================] - 0s 121us/step - loss: 0.7350\n"
     ]
    },
    {
     "name": "stderr",
     "output_type": "stream",
     "text": [
      "\r",
      " 20%|██        | 5/25 [00:09<00:42,  2.15s/it]"
     ]
    },
    {
     "name": "stdout",
     "output_type": "stream",
     "text": [
      "Epoch 1/1\n",
      "128/128 [==============================] - 0s 107us/step - loss: 0.5505\n",
      "Epoch 1/1\n",
      "128/128 [==============================] - 0s 134us/step - loss: 0.6816\n",
      "Epoch 1/1\n",
      "128/128 [==============================] - 0s 164us/step - loss: 0.7286\n"
     ]
    },
    {
     "name": "stderr",
     "output_type": "stream",
     "text": [
      "\r",
      " 24%|██▍       | 6/25 [00:11<00:35,  1.89s/it]"
     ]
    },
    {
     "name": "stdout",
     "output_type": "stream",
     "text": [
      "Epoch 1/1\n",
      "128/128 [==============================] - 0s 108us/step - loss: 0.5647\n",
      "Epoch 1/1\n",
      "128/128 [==============================] - 0s 114us/step - loss: 0.6844\n",
      "Epoch 1/1\n",
      "128/128 [==============================] - 0s 128us/step - loss: 0.7325\n"
     ]
    },
    {
     "name": "stderr",
     "output_type": "stream",
     "text": [
      "\r",
      " 28%|██▊       | 7/25 [00:12<00:31,  1.73s/it]"
     ]
    },
    {
     "name": "stdout",
     "output_type": "stream",
     "text": [
      "Epoch 1/1\n",
      "128/128 [==============================] - 0s 176us/step - loss: 0.5599\n",
      "Epoch 1/1\n",
      "128/128 [==============================] - 0s 142us/step - loss: 0.6940\n",
      "Epoch 1/1\n",
      "128/128 [==============================] - 0s 152us/step - loss: 0.7318\n"
     ]
    },
    {
     "name": "stderr",
     "output_type": "stream",
     "text": [
      "\r",
      " 32%|███▏      | 8/25 [00:13<00:26,  1.55s/it]"
     ]
    },
    {
     "name": "stdout",
     "output_type": "stream",
     "text": [
      "Epoch 1/1\n",
      "128/128 [==============================] - 0s 141us/step - loss: 0.5582\n",
      "Epoch 1/1\n",
      "128/128 [==============================] - 0s 142us/step - loss: 0.6847\n",
      "Epoch 1/1\n",
      "128/128 [==============================] - 0s 94us/step - loss: 0.7325\n"
     ]
    },
    {
     "name": "stderr",
     "output_type": "stream",
     "text": [
      "\r",
      " 36%|███▌      | 9/25 [00:15<00:23,  1.49s/it]"
     ]
    },
    {
     "name": "stdout",
     "output_type": "stream",
     "text": [
      "Epoch 1/1\n",
      "128/128 [==============================] - 0s 136us/step - loss: 0.5582\n",
      "Epoch 1/1\n",
      "128/128 [==============================] - 0s 104us/step - loss: 0.6847\n",
      "Epoch 1/1\n",
      "128/128 [==============================] - 0s 113us/step - loss: 0.7466\n"
     ]
    },
    {
     "name": "stderr",
     "output_type": "stream",
     "text": [
      "\r",
      " 40%|████      | 10/25 [00:16<00:21,  1.41s/it]"
     ]
    },
    {
     "name": "stdout",
     "output_type": "stream",
     "text": [
      "Epoch 1/1\n",
      "128/128 [==============================] - 0s 111us/step - loss: 0.5689\n",
      "Epoch 1/1\n",
      "128/128 [==============================] - 0s 322us/step - loss: 0.6635\n",
      "Epoch 1/1\n",
      "128/128 [==============================] - 0s 296us/step - loss: 0.7476\n"
     ]
    },
    {
     "name": "stderr",
     "output_type": "stream",
     "text": [
      "\r",
      " 44%|████▍     | 11/25 [00:17<00:18,  1.31s/it]"
     ]
    },
    {
     "name": "stdout",
     "output_type": "stream",
     "text": [
      "Epoch 1/1\n",
      "128/128 [==============================] - 0s 99us/step - loss: 0.5528\n",
      "Epoch 1/1\n",
      "128/128 [==============================] - 0s 111us/step - loss: 0.6724\n",
      "Epoch 1/1\n",
      "128/128 [==============================] - 0s 110us/step - loss: 0.7219\n"
     ]
    },
    {
     "name": "stderr",
     "output_type": "stream",
     "text": [
      "\r",
      " 48%|████▊     | 12/25 [00:18<00:17,  1.37s/it]"
     ]
    },
    {
     "name": "stdout",
     "output_type": "stream",
     "text": [
      "Epoch 1/1\n",
      "128/128 [==============================] - 0s 230us/step - loss: 0.5491\n",
      "Epoch 1/1\n",
      "128/128 [==============================] - 0s 212us/step - loss: 0.6497\n",
      "Epoch 1/1\n",
      "128/128 [==============================] - 0s 152us/step - loss: 0.7396\n"
     ]
    },
    {
     "name": "stderr",
     "output_type": "stream",
     "text": [
      "\r",
      " 52%|█████▏    | 13/25 [00:20<00:18,  1.50s/it]"
     ]
    },
    {
     "name": "stdout",
     "output_type": "stream",
     "text": [
      "Epoch 1/1\n",
      "128/128 [==============================] - 0s 144us/step - loss: 0.5459\n",
      "Epoch 1/1\n",
      "128/128 [==============================] - 0s 132us/step - loss: 0.6750\n",
      "Epoch 1/1\n",
      "128/128 [==============================] - 0s 125us/step - loss: 0.7534\n"
     ]
    },
    {
     "name": "stderr",
     "output_type": "stream",
     "text": [
      "\r",
      " 56%|█████▌    | 14/25 [00:22<00:16,  1.47s/it]"
     ]
    },
    {
     "name": "stdout",
     "output_type": "stream",
     "text": [
      "Epoch 1/1\n",
      "128/128 [==============================] - 0s 174us/step - loss: 0.5297\n",
      "Epoch 1/1\n",
      "128/128 [==============================] - 0s 266us/step - loss: 0.6838\n",
      "Epoch 1/1\n",
      "128/128 [==============================] - 0s 166us/step - loss: 0.7409\n"
     ]
    },
    {
     "name": "stderr",
     "output_type": "stream",
     "text": [
      "\r",
      " 60%|██████    | 15/25 [00:23<00:14,  1.50s/it]"
     ]
    },
    {
     "name": "stdout",
     "output_type": "stream",
     "text": [
      "Epoch 1/1\n",
      "128/128 [==============================] - 0s 106us/step - loss: 0.5562\n",
      "Epoch 1/1\n",
      "128/128 [==============================] - 0s 140us/step - loss: 0.6696\n",
      "Epoch 1/1\n",
      "128/128 [==============================] - 0s 137us/step - loss: 0.7365\n"
     ]
    },
    {
     "name": "stderr",
     "output_type": "stream",
     "text": [
      "\r",
      " 64%|██████▍   | 16/25 [00:25<00:13,  1.51s/it]"
     ]
    },
    {
     "name": "stdout",
     "output_type": "stream",
     "text": [
      "Epoch 1/1\n",
      "128/128 [==============================] - 0s 223us/step - loss: 0.5775\n",
      "Epoch 1/1\n",
      "128/128 [==============================] - 0s 119us/step - loss: 0.6597\n",
      "Epoch 1/1\n",
      "128/128 [==============================] - 0s 266us/step - loss: 0.7425\n"
     ]
    },
    {
     "name": "stderr",
     "output_type": "stream",
     "text": [
      "\r",
      " 68%|██████▊   | 17/25 [00:26<00:11,  1.48s/it]"
     ]
    },
    {
     "name": "stdout",
     "output_type": "stream",
     "text": [
      "Epoch 1/1\n",
      "128/128 [==============================] - 0s 150us/step - loss: 0.5697\n",
      "Epoch 1/1\n",
      "128/128 [==============================] - 0s 108us/step - loss: 0.6742\n",
      "Epoch 1/1\n",
      "128/128 [==============================] - 0s 110us/step - loss: 0.7477\n"
     ]
    },
    {
     "name": "stderr",
     "output_type": "stream",
     "text": [
      "\r",
      " 72%|███████▏  | 18/25 [00:27<00:09,  1.42s/it]"
     ]
    },
    {
     "name": "stdout",
     "output_type": "stream",
     "text": [
      "Epoch 1/1\n",
      "128/128 [==============================] - 0s 131us/step - loss: 0.5451\n",
      "Epoch 1/1\n",
      "128/128 [==============================] - 0s 114us/step - loss: 0.6850\n",
      "Epoch 1/1\n",
      "128/128 [==============================] - 0s 106us/step - loss: 0.7432\n"
     ]
    },
    {
     "name": "stderr",
     "output_type": "stream",
     "text": [
      "\r",
      " 76%|███████▌  | 19/25 [00:29<00:08,  1.45s/it]"
     ]
    },
    {
     "name": "stdout",
     "output_type": "stream",
     "text": [
      "Epoch 1/1\n",
      "128/128 [==============================] - 0s 148us/step - loss: 0.5793\n",
      "Epoch 1/1\n",
      "128/128 [==============================] - 0s 132us/step - loss: 0.5489\n",
      "Epoch 1/1\n",
      "128/128 [==============================] - 0s 132us/step - loss: 0.7070\n"
     ]
    },
    {
     "name": "stderr",
     "output_type": "stream",
     "text": [
      "\r",
      " 80%|████████  | 20/25 [00:31<00:07,  1.51s/it]"
     ]
    },
    {
     "name": "stdout",
     "output_type": "stream",
     "text": [
      "Epoch 1/1\n",
      "128/128 [==============================] - 0s 226us/step - loss: 0.5610\n",
      "Epoch 1/1\n",
      "128/128 [==============================] - 0s 185us/step - loss: 0.7252\n",
      "Epoch 1/1\n",
      "128/128 [==============================] - 0s 270us/step - loss: 0.7060\n"
     ]
    },
    {
     "name": "stderr",
     "output_type": "stream",
     "text": [
      "\r",
      " 84%|████████▍ | 21/25 [00:32<00:05,  1.44s/it]"
     ]
    },
    {
     "name": "stdout",
     "output_type": "stream",
     "text": [
      "Epoch 1/1\n",
      "128/128 [==============================] - 0s 126us/step - loss: 0.5830\n",
      "Epoch 1/1\n",
      "128/128 [==============================] - 0s 186us/step - loss: 0.7374\n",
      "Epoch 1/1\n",
      "128/128 [==============================] - 0s 228us/step - loss: 0.7033\n"
     ]
    },
    {
     "name": "stderr",
     "output_type": "stream",
     "text": [
      "\r",
      " 88%|████████▊ | 22/25 [00:33<00:04,  1.41s/it]"
     ]
    },
    {
     "name": "stdout",
     "output_type": "stream",
     "text": [
      "Epoch 1/1\n",
      "128/128 [==============================] - 0s 179us/step - loss: 0.5668\n",
      "Epoch 1/1\n",
      "128/128 [==============================] - 0s 238us/step - loss: 0.7034\n",
      "Epoch 1/1\n",
      "128/128 [==============================] - 0s 126us/step - loss: 0.7258\n"
     ]
    },
    {
     "name": "stderr",
     "output_type": "stream",
     "text": [
      "\r",
      " 92%|█████████▏| 23/25 [00:35<00:02,  1.42s/it]"
     ]
    },
    {
     "name": "stdout",
     "output_type": "stream",
     "text": [
      "Epoch 1/1\n",
      "128/128 [==============================] - 0s 110us/step - loss: 0.5787\n",
      "Epoch 1/1\n",
      "128/128 [==============================] - 0s 164us/step - loss: 0.7097\n",
      "Epoch 1/1\n",
      "128/128 [==============================] - 0s 159us/step - loss: 0.7050\n"
     ]
    },
    {
     "name": "stderr",
     "output_type": "stream",
     "text": [
      "\r",
      " 96%|█████████▌| 24/25 [00:36<00:01,  1.41s/it]"
     ]
    },
    {
     "name": "stdout",
     "output_type": "stream",
     "text": [
      "Epoch 1/1\n",
      "128/128 [==============================] - 0s 132us/step - loss: 0.5885\n",
      "Epoch 1/1\n",
      "128/128 [==============================] - 0s 146us/step - loss: 0.7429\n",
      "Epoch 1/1\n",
      "128/128 [==============================] - 0s 138us/step - loss: 0.7119\n"
     ]
    },
    {
     "name": "stderr",
     "output_type": "stream",
     "text": [
      "100%|██████████| 25/25 [00:37<00:00,  1.42s/it]\n",
      "  0%|          | 0/25 [00:00<?, ?it/s]"
     ]
    },
    {
     "name": "stdout",
     "output_type": "stream",
     "text": [
      "Epoch 1/1\n",
      "128/128 [==============================] - 0s 118us/step - loss: 0.2741\n",
      "Epoch 1/1\n",
      "128/128 [==============================] - 0s 200us/step - loss: 0.6788\n",
      "Epoch 1/1\n",
      "128/128 [==============================] - 4s 30ms/step - loss: 0.7074\n"
     ]
    },
    {
     "name": "stderr",
     "output_type": "stream",
     "text": [
      "\r",
      "  4%|▍         | 1/25 [00:06<02:39,  6.66s/it]"
     ]
    },
    {
     "name": "stdout",
     "output_type": "stream",
     "text": [
      "Epoch 1/1\n",
      "128/128 [==============================] - 0s 650us/step - loss: 0.2257\n",
      "Epoch 1/1\n",
      "128/128 [==============================] - 0s 424us/step - loss: 0.6670\n",
      "Epoch 1/1\n",
      "128/128 [==============================] - 0s 118us/step - loss: 0.6619\n"
     ]
    },
    {
     "name": "stderr",
     "output_type": "stream",
     "text": [
      "\r",
      "  8%|▊         | 2/25 [00:08<01:58,  5.15s/it]"
     ]
    },
    {
     "name": "stdout",
     "output_type": "stream",
     "text": [
      "Epoch 1/1\n",
      "128/128 [==============================] - 0s 171us/step - loss: 0.2863\n",
      "Epoch 1/1\n",
      "128/128 [==============================] - 0s 128us/step - loss: 0.8024\n",
      "Epoch 1/1\n",
      "128/128 [==============================] - 0s 173us/step - loss: 0.6240\n"
     ]
    },
    {
     "name": "stderr",
     "output_type": "stream",
     "text": [
      "\r",
      " 12%|█▏        | 3/25 [00:09<01:29,  4.07s/it]"
     ]
    },
    {
     "name": "stdout",
     "output_type": "stream",
     "text": [
      "Epoch 1/1\n",
      "128/128 [==============================] - 0s 170us/step - loss: 0.2244\n",
      "Epoch 1/1\n",
      "128/128 [==============================] - 0s 124us/step - loss: 0.8094\n",
      "Epoch 1/1\n",
      "128/128 [==============================] - 0s 209us/step - loss: 0.6143\n"
     ]
    },
    {
     "name": "stderr",
     "output_type": "stream",
     "text": [
      "\r",
      " 16%|█▌        | 4/25 [00:10<01:06,  3.19s/it]"
     ]
    },
    {
     "name": "stdout",
     "output_type": "stream",
     "text": [
      "Epoch 1/1\n",
      "128/128 [==============================] - 0s 211us/step - loss: 0.2205\n",
      "Epoch 1/1\n",
      "128/128 [==============================] - 0s 142us/step - loss: 0.8099\n",
      "Epoch 1/1\n",
      "128/128 [==============================] - 0s 177us/step - loss: 0.6323\n"
     ]
    },
    {
     "name": "stderr",
     "output_type": "stream",
     "text": [
      "\r",
      " 20%|██        | 5/25 [00:12<00:51,  2.60s/it]"
     ]
    },
    {
     "name": "stdout",
     "output_type": "stream",
     "text": [
      "Epoch 1/1\n",
      "128/128 [==============================] - 0s 99us/step - loss: 0.2465\n",
      "Epoch 1/1\n",
      "128/128 [==============================] - 0s 107us/step - loss: 0.8268\n",
      "Epoch 1/1\n",
      "128/128 [==============================] - 0s 107us/step - loss: 0.6202\n"
     ]
    },
    {
     "name": "stderr",
     "output_type": "stream",
     "text": [
      "\r",
      " 24%|██▍       | 6/25 [00:13<00:40,  2.15s/it]"
     ]
    },
    {
     "name": "stdout",
     "output_type": "stream",
     "text": [
      "Epoch 1/1\n",
      "128/128 [==============================] - 0s 143us/step - loss: 0.2392\n",
      "Epoch 1/1\n",
      "128/128 [==============================] - 0s 134us/step - loss: 0.8004\n",
      "Epoch 1/1\n",
      "128/128 [==============================] - 0s 143us/step - loss: 0.6285\n"
     ]
    },
    {
     "name": "stderr",
     "output_type": "stream",
     "text": [
      "\r",
      " 28%|██▊       | 7/25 [00:14<00:34,  1.90s/it]"
     ]
    },
    {
     "name": "stdout",
     "output_type": "stream",
     "text": [
      "Epoch 1/1\n",
      "128/128 [==============================] - 0s 252us/step - loss: 0.3220\n",
      "Epoch 1/1\n",
      "128/128 [==============================] - 0s 90us/step - loss: 0.8068\n",
      "Epoch 1/1\n",
      "128/128 [==============================] - 0s 275us/step - loss: 0.6263\n"
     ]
    },
    {
     "name": "stderr",
     "output_type": "stream",
     "text": [
      "\r",
      " 32%|███▏      | 8/25 [00:16<00:29,  1.76s/it]"
     ]
    },
    {
     "name": "stdout",
     "output_type": "stream",
     "text": [
      "Epoch 1/1\n",
      "128/128 [==============================] - 0s 112us/step - loss: 0.3083\n",
      "Epoch 1/1\n",
      "128/128 [==============================] - 0s 101us/step - loss: 0.7984\n",
      "Epoch 1/1\n",
      "128/128 [==============================] - 0s 298us/step - loss: 0.6158\n"
     ]
    },
    {
     "name": "stderr",
     "output_type": "stream",
     "text": [
      "\r",
      " 36%|███▌      | 9/25 [00:17<00:26,  1.64s/it]"
     ]
    },
    {
     "name": "stdout",
     "output_type": "stream",
     "text": [
      "Epoch 1/1\n",
      "128/128 [==============================] - 0s 129us/step - loss: 0.3262\n",
      "Epoch 1/1\n",
      "128/128 [==============================] - 0s 104us/step - loss: 0.7978\n",
      "Epoch 1/1\n",
      "128/128 [==============================] - 0s 162us/step - loss: 0.6358\n"
     ]
    },
    {
     "name": "stderr",
     "output_type": "stream",
     "text": [
      "\r",
      " 40%|████      | 10/25 [00:18<00:23,  1.55s/it]"
     ]
    },
    {
     "name": "stdout",
     "output_type": "stream",
     "text": [
      "Epoch 1/1\n",
      "128/128 [==============================] - 0s 112us/step - loss: 0.3615\n",
      "Epoch 1/1\n",
      "128/128 [==============================] - 0s 100us/step - loss: 0.7908\n",
      "Epoch 1/1\n",
      "128/128 [==============================] - 0s 207us/step - loss: 0.6354\n"
     ]
    },
    {
     "name": "stderr",
     "output_type": "stream",
     "text": [
      "\r",
      " 44%|████▍     | 11/25 [00:20<00:22,  1.63s/it]"
     ]
    },
    {
     "name": "stdout",
     "output_type": "stream",
     "text": [
      "Epoch 1/1\n",
      "128/128 [==============================] - 0s 115us/step - loss: 0.2899\n",
      "Epoch 1/1\n",
      "128/128 [==============================] - 0s 145us/step - loss: 0.8035\n",
      "Epoch 1/1\n",
      "128/128 [==============================] - 0s 250us/step - loss: 0.6444\n"
     ]
    },
    {
     "name": "stderr",
     "output_type": "stream",
     "text": [
      "\r",
      " 48%|████▊     | 12/25 [00:21<00:19,  1.50s/it]"
     ]
    },
    {
     "name": "stdout",
     "output_type": "stream",
     "text": [
      "Epoch 1/1\n",
      "128/128 [==============================] - 0s 104us/step - loss: 0.3422\n",
      "Epoch 1/1\n",
      "128/128 [==============================] - 0s 102us/step - loss: 0.7876\n",
      "Epoch 1/1\n",
      "128/128 [==============================] - 0s 109us/step - loss: 0.6516\n"
     ]
    },
    {
     "name": "stderr",
     "output_type": "stream",
     "text": [
      "\r",
      " 52%|█████▏    | 13/25 [00:22<00:17,  1.42s/it]"
     ]
    },
    {
     "name": "stdout",
     "output_type": "stream",
     "text": [
      "Epoch 1/1\n",
      "128/128 [==============================] - 0s 109us/step - loss: 0.3500\n",
      "Epoch 1/1\n",
      "128/128 [==============================] - 0s 103us/step - loss: 0.7739\n",
      "Epoch 1/1\n",
      "128/128 [==============================] - 0s 109us/step - loss: 0.6268\n"
     ]
    },
    {
     "name": "stderr",
     "output_type": "stream",
     "text": [
      "\r",
      " 56%|█████▌    | 14/25 [00:24<00:15,  1.44s/it]"
     ]
    },
    {
     "name": "stdout",
     "output_type": "stream",
     "text": [
      "Epoch 1/1\n",
      "128/128 [==============================] - 0s 132us/step - loss: 0.3711\n",
      "Epoch 1/1\n",
      "128/128 [==============================] - 0s 120us/step - loss: 0.8049\n",
      "Epoch 1/1\n",
      "128/128 [==============================] - 0s 131us/step - loss: 0.6627\n"
     ]
    },
    {
     "name": "stderr",
     "output_type": "stream",
     "text": [
      "\r",
      " 60%|██████    | 15/25 [00:25<00:14,  1.45s/it]"
     ]
    },
    {
     "name": "stdout",
     "output_type": "stream",
     "text": [
      "Epoch 1/1\n",
      "128/128 [==============================] - 0s 87us/step - loss: 0.3912\n",
      "Epoch 1/1\n",
      "128/128 [==============================] - 0s 146us/step - loss: 0.7867\n",
      "Epoch 1/1\n",
      "128/128 [==============================] - 0s 183us/step - loss: 0.6434\n"
     ]
    },
    {
     "name": "stderr",
     "output_type": "stream",
     "text": [
      "\r",
      " 64%|██████▍   | 16/25 [00:27<00:12,  1.37s/it]"
     ]
    },
    {
     "name": "stdout",
     "output_type": "stream",
     "text": [
      "Epoch 1/1\n",
      "128/128 [==============================] - 0s 164us/step - loss: 0.3937\n",
      "Epoch 1/1\n",
      "128/128 [==============================] - 0s 159us/step - loss: 0.7737\n",
      "Epoch 1/1\n",
      "128/128 [==============================] - 0s 125us/step - loss: 0.6530\n"
     ]
    },
    {
     "name": "stderr",
     "output_type": "stream",
     "text": [
      "\r",
      " 68%|██████▊   | 17/25 [00:28<00:10,  1.37s/it]"
     ]
    },
    {
     "name": "stdout",
     "output_type": "stream",
     "text": [
      "Epoch 1/1\n",
      "128/128 [==============================] - 0s 131us/step - loss: 0.4282\n",
      "Epoch 1/1\n",
      "128/128 [==============================] - 0s 117us/step - loss: 0.8120\n",
      "Epoch 1/1\n",
      "128/128 [==============================] - 0s 120us/step - loss: 0.6593\n"
     ]
    },
    {
     "name": "stderr",
     "output_type": "stream",
     "text": [
      "\r",
      " 72%|███████▏  | 18/25 [00:29<00:09,  1.39s/it]"
     ]
    },
    {
     "name": "stdout",
     "output_type": "stream",
     "text": [
      "Epoch 1/1\n",
      "128/128 [==============================] - 0s 123us/step - loss: 0.4298\n",
      "Epoch 1/1\n",
      "128/128 [==============================] - 0s 148us/step - loss: 0.7581\n",
      "Epoch 1/1\n",
      "128/128 [==============================] - 0s 230us/step - loss: 0.6552\n"
     ]
    },
    {
     "name": "stderr",
     "output_type": "stream",
     "text": [
      "\r",
      " 76%|███████▌  | 19/25 [00:31<00:08,  1.42s/it]"
     ]
    },
    {
     "name": "stdout",
     "output_type": "stream",
     "text": [
      "Epoch 1/1\n",
      "128/128 [==============================] - 0s 172us/step - loss: 0.4702\n",
      "Epoch 1/1\n",
      "128/128 [==============================] - 0s 138us/step - loss: 0.7629\n",
      "Epoch 1/1\n",
      "128/128 [==============================] - 0s 118us/step - loss: 0.6590\n"
     ]
    },
    {
     "name": "stderr",
     "output_type": "stream",
     "text": [
      "\r",
      " 80%|████████  | 20/25 [00:32<00:07,  1.45s/it]"
     ]
    },
    {
     "name": "stdout",
     "output_type": "stream",
     "text": [
      "Epoch 1/1\n",
      "128/128 [==============================] - 0s 219us/step - loss: 0.4811\n",
      "Epoch 1/1\n",
      "128/128 [==============================] - 0s 106us/step - loss: 0.6170\n",
      "Epoch 1/1\n",
      "128/128 [==============================] - 0s 111us/step - loss: 0.5776\n"
     ]
    },
    {
     "name": "stderr",
     "output_type": "stream",
     "text": [
      "\r",
      " 84%|████████▍ | 21/25 [00:34<00:05,  1.42s/it]"
     ]
    },
    {
     "name": "stdout",
     "output_type": "stream",
     "text": [
      "Epoch 1/1\n",
      "128/128 [==============================] - 0s 127us/step - loss: 0.4344\n",
      "Epoch 1/1\n",
      "128/128 [==============================] - 0s 157us/step - loss: 0.9903\n",
      "Epoch 1/1\n",
      "128/128 [==============================] - 0s 130us/step - loss: 0.6268\n"
     ]
    },
    {
     "name": "stderr",
     "output_type": "stream",
     "text": [
      "\r",
      " 88%|████████▊ | 22/25 [00:35<00:04,  1.46s/it]"
     ]
    },
    {
     "name": "stdout",
     "output_type": "stream",
     "text": [
      "Epoch 1/1\n",
      "128/128 [==============================] - 0s 204us/step - loss: 0.5442\n",
      "Epoch 1/1\n",
      "128/128 [==============================] - 0s 256us/step - loss: 0.8116\n",
      "Epoch 1/1\n",
      "128/128 [==============================] - 0s 141us/step - loss: 0.6505\n"
     ]
    },
    {
     "name": "stderr",
     "output_type": "stream",
     "text": [
      "\r",
      " 92%|█████████▏| 23/25 [00:37<00:03,  1.53s/it]"
     ]
    },
    {
     "name": "stdout",
     "output_type": "stream",
     "text": [
      "Epoch 1/1\n",
      "128/128 [==============================] - 0s 135us/step - loss: 0.5399\n",
      "Epoch 1/1\n",
      "128/128 [==============================] - 0s 107us/step - loss: 0.8175\n",
      "Epoch 1/1\n",
      "128/128 [==============================] - 0s 102us/step - loss: 0.6693\n"
     ]
    },
    {
     "name": "stderr",
     "output_type": "stream",
     "text": [
      "\r",
      " 96%|█████████▌| 24/25 [00:39<00:01,  1.53s/it]"
     ]
    },
    {
     "name": "stdout",
     "output_type": "stream",
     "text": [
      "Epoch 1/1\n",
      "128/128 [==============================] - 0s 112us/step - loss: 0.5902\n",
      "Epoch 1/1\n",
      "128/128 [==============================] - 0s 162us/step - loss: 0.7729\n",
      "Epoch 1/1\n",
      "128/128 [==============================] - 0s 193us/step - loss: 0.6960\n"
     ]
    },
    {
     "name": "stderr",
     "output_type": "stream",
     "text": [
      "100%|██████████| 25/25 [00:40<00:00,  1.51s/it]\n"
     ]
    },
    {
     "name": "stdout",
     "output_type": "stream",
     "text": [
      "Let's switch the GANs\n",
      "There are 2 fixed points\n",
      "GANs switched\n",
      "1000/1000 [==============================] - 1s 1ms/step\n",
      "1000/1000 [==============================] - 1s 1ms/step\n",
      "Let's switch the GANs\n",
      "There are 0 fixed points\n",
      "GANs switched\n",
      "1000/1000 [==============================] - 1s 1ms/step\n",
      "1000/1000 [==============================] - 1s 1ms/step\n",
      "Let's switch the GANs\n",
      "There are 2 fixed points\n",
      "GANs switched\n",
      "1000/1000 [==============================] - 1s 839us/step\n",
      "1000/1000 [==============================] - 1s 827us/step\n",
      "Let's switch the GANs\n",
      "There are 2 fixed points\n",
      "GANs switched\n",
      "1000/1000 [==============================] - 1s 812us/step\n",
      "1000/1000 [==============================] - 1s 753us/step\n",
      "Let's switch the GANs\n",
      "There are 2 fixed points\n",
      "GANs switched\n",
      "1000/1000 [==============================] - 1s 877us/step\n",
      "1000/1000 [==============================] - 1s 748us/step\n",
      "\n",
      "\n",
      "\n",
      "best generator loss is 0.4012839020446495\n",
      "\n",
      "\n",
      "\n",
      "f1 score is 0.5750289811193943\n",
      "f1 score is 0.6194503393769264\n"
     ]
    }
   ],
   "source": [
    "cgans = learning(cgans=cgans, x=x_balanced_train, y=y_balanced_train, x_cv=x_train_cv,\n",
    "                 y_cv=y_train_cv, number_of_gans=number_of_gans,\n",
    "                 epochs=epochs, switches=switches, print_mode=False, mode_d_loss=False,\n",
    "                 reload_images_p=reload_images_p, show_past_p=show_past_p,\n",
    "                 smooth_zero=smooth_zero, smooth_one=smooth_one)"
   ]
  },
  {
   "cell_type": "code",
   "execution_count": 22,
   "metadata": {
    "collapsed": true
   },
   "outputs": [],
   "source": [
    "cgan = cgans[0]"
   ]
  },
  {
   "cell_type": "code",
   "execution_count": 23,
   "metadata": {
    "collapsed": true
   },
   "outputs": [],
   "source": [
    "noise = np.random.normal(0, 1, (100, latent_dim))"
   ]
  },
  {
   "cell_type": "code",
   "execution_count": 24,
   "metadata": {},
   "outputs": [
    {
     "data": {
      "text/plain": [
       "(100, 50)"
      ]
     },
     "execution_count": 24,
     "metadata": {},
     "output_type": "execute_result"
    }
   ],
   "source": [
    "noise.shape"
   ]
  },
  {
   "cell_type": "code",
   "execution_count": 25,
   "metadata": {
    "collapsed": true
   },
   "outputs": [],
   "source": [
    "traffic = cgan.generator.predict([noise, np.zeros(100)])"
   ]
  },
  {
   "cell_type": "code",
   "execution_count": 26,
   "metadata": {},
   "outputs": [
    {
     "data": {
      "text/plain": [
       "array([-1.        , -1.        , -1.        , -1.        , -1.        ,\n",
       "       -1.        , -1.        , -1.        , -1.        , -1.        ,\n",
       "       -1.        , -1.        , -1.        ,  0.80073062, -0.09167492,\n",
       "        1.        ,  1.        , -1.        , -1.        , -0.83187147,\n",
       "       -0.83187147, -1.        ,  1.        ,  0.02186571, -0.83187147,\n",
       "       -0.83187147, -1.        , -1.        ,  1.        ,  1.        ,\n",
       "       -1.        , -1.        , -1.        , -1.        , -1.        ,\n",
       "       -1.        , -1.        , -1.        , -1.        ,  1.        ,\n",
       "       -1.        , -1.        , -1.        , -1.        , -1.        ,\n",
       "       -1.        ,  1.        , -1.        , -1.        , -1.        ,\n",
       "       -1.        , -1.        , -1.        , -1.        , -1.        ,\n",
       "       -1.        , -1.        , -1.        , -1.        , -1.        ,\n",
       "       -1.        , -1.        , -1.        , -1.        , -1.        ,\n",
       "       -1.        , -1.        , -1.        , -1.        , -1.        ,\n",
       "       -1.        , -1.        , -1.        , -1.        , -1.        ,\n",
       "       -1.        ,  1.        , -1.        , -1.        , -1.        ,\n",
       "       -1.        , -1.        , -1.        , -1.        , -1.        ,\n",
       "       -1.        , -1.        , -1.        , -1.        , -1.        ,\n",
       "       -1.        , -1.        , -1.        , -1.        , -1.        ,\n",
       "       -1.        , -1.        , -1.        , -1.        , -1.        ,\n",
       "       -1.        , -1.        , -1.        , -1.        , -1.        ,\n",
       "       -1.        , -1.        , -1.        , -1.        , -1.        ,\n",
       "       -1.        , -1.        , -1.        , -1.        , -1.        ,\n",
       "       -1.        , -1.        , -1.        , -1.        , -1.        ,\n",
       "       -1.        , -1.        ])"
      ]
     },
     "execution_count": 26,
     "metadata": {},
     "output_type": "execute_result"
    }
   ],
   "source": [
    "x_train[0]"
   ]
  },
  {
   "cell_type": "code",
   "execution_count": 27,
   "metadata": {},
   "outputs": [
    {
     "data": {
      "text/plain": [
       "array([[0.45065084],\n",
       "       [0.45115742],\n",
       "       [0.45132723],\n",
       "       [0.4511232 ],\n",
       "       [0.45066586],\n",
       "       [0.4501908 ],\n",
       "       [0.4507029 ],\n",
       "       [0.45120662],\n",
       "       [0.45116204],\n",
       "       [0.45122403],\n",
       "       [0.4517334 ],\n",
       "       [0.44997343],\n",
       "       [0.4517378 ],\n",
       "       [0.4511933 ],\n",
       "       [0.45045048],\n",
       "       [0.45158818],\n",
       "       [0.4511935 ],\n",
       "       [0.4510529 ],\n",
       "       [0.45084193],\n",
       "       [0.450309  ],\n",
       "       [0.4498901 ],\n",
       "       [0.4521944 ],\n",
       "       [0.45186713],\n",
       "       [0.45106173],\n",
       "       [0.45152396],\n",
       "       [0.45042118],\n",
       "       [0.45173818],\n",
       "       [0.45110676],\n",
       "       [0.45103994],\n",
       "       [0.45040056],\n",
       "       [0.45053646],\n",
       "       [0.45168877],\n",
       "       [0.45158187],\n",
       "       [0.45074952],\n",
       "       [0.4508346 ],\n",
       "       [0.45084345],\n",
       "       [0.45229596],\n",
       "       [0.4517596 ],\n",
       "       [0.45234305],\n",
       "       [0.45199135],\n",
       "       [0.45035025],\n",
       "       [0.45137432],\n",
       "       [0.45046717],\n",
       "       [0.4517776 ],\n",
       "       [0.45109725],\n",
       "       [0.4505214 ],\n",
       "       [0.44988874],\n",
       "       [0.451364  ],\n",
       "       [0.44987655],\n",
       "       [0.44994843],\n",
       "       [0.45120496],\n",
       "       [0.451436  ],\n",
       "       [0.4506256 ],\n",
       "       [0.4511627 ],\n",
       "       [0.45085362],\n",
       "       [0.45025098],\n",
       "       [0.45160088],\n",
       "       [0.45125186],\n",
       "       [0.45147485],\n",
       "       [0.4516994 ],\n",
       "       [0.45092607],\n",
       "       [0.45109636],\n",
       "       [0.45190755],\n",
       "       [0.45125663],\n",
       "       [0.45080134],\n",
       "       [0.4516711 ],\n",
       "       [0.4512475 ],\n",
       "       [0.4508458 ],\n",
       "       [0.45114625],\n",
       "       [0.45016208],\n",
       "       [0.4511442 ],\n",
       "       [0.45094758],\n",
       "       [0.45047683],\n",
       "       [0.45106536],\n",
       "       [0.45143983],\n",
       "       [0.45097795],\n",
       "       [0.45083165],\n",
       "       [0.45112777],\n",
       "       [0.45077458],\n",
       "       [0.4504636 ],\n",
       "       [0.45138562],\n",
       "       [0.45107192],\n",
       "       [0.45125547],\n",
       "       [0.45014617],\n",
       "       [0.45055634],\n",
       "       [0.45135212],\n",
       "       [0.45114645],\n",
       "       [0.45068008],\n",
       "       [0.45194384],\n",
       "       [0.4505117 ],\n",
       "       [0.45173672],\n",
       "       [0.45141277],\n",
       "       [0.45112374],\n",
       "       [0.45076972],\n",
       "       [0.4505787 ],\n",
       "       [0.45082763],\n",
       "       [0.45129573],\n",
       "       [0.4509746 ],\n",
       "       [0.45067808],\n",
       "       [0.44985864]], dtype=float32)"
      ]
     },
     "execution_count": 27,
     "metadata": {},
     "output_type": "execute_result"
    }
   ],
   "source": [
    "cgan.discriminator.predict([traffic, np.zeros(100)])"
   ]
  },
  {
   "cell_type": "code",
   "execution_count": null,
   "metadata": {
    "collapsed": true
   },
   "outputs": [],
   "source": []
  },
  {
   "cell_type": "code",
   "execution_count": null,
   "metadata": {
    "collapsed": true
   },
   "outputs": [],
   "source": []
  },
  {
   "cell_type": "code",
   "execution_count": null,
   "metadata": {
    "collapsed": true
   },
   "outputs": [],
   "source": []
  },
  {
   "cell_type": "code",
   "execution_count": null,
   "metadata": {},
   "outputs": [
    {
     "data": {
      "image/png": "[encoded data removed]",
      "text/plain": [
       "<matplotlib.figure.Figure at 0x13a41f550>"
      ]
     },
     "metadata": {},
     "output_type": "display_data"
    }
   ],
   "source": [
    "cgan.plot_learning()\n",
    "\n",
    "result_cgan = evaluate(y_true=y_test, y_pred=cgan.predict(x=x_test))\n",
    "generated_one = cgan.generate(number=examples, labels=np.ones(examples))\n",
    "generated_zero = cgan.generate(number=examples, labels=np.zeros(examples))"
   ]
  },
  {
   "cell_type": "code",
   "execution_count": null,
   "metadata": {
    "collapsed": true
   },
   "outputs": [],
   "source": [
    "#################\n",
    "# Classical MLP #\n",
    "#################\n",
    "mlp = Mlp(data_dim=data_dim)\n",
    "d_loss_classical = mlp.train(x_train=x_balanced_train,\n",
    "                             y_train=y_balanced_train,\n",
    "                             epochs=epochs*switches)\n",
    "\n",
    "result_mlp = evaluate(y_true=y_test, y_pred=mlp.predict(x=x_test))\n",
    "result_mlp_fooling = evaluate(y_true=np.zeros(examples+examples),\n",
    "                              y_pred=mlp.predict(np.concatenate((generated_one, generated_zero))))"
   ]
  },
  {
   "cell_type": "code",
   "execution_count": null,
   "metadata": {
    "collapsed": true
   },
   "outputs": [],
   "source": [
    "print(\"CGAN result\")\n",
    "print(result_cgan)\n",
    "print(\"\\n\"*2 + \"MLP result\")\n",
    "print(result_mlp)\n",
    "print(\"\\n\"*2 + \"MLP fooled by attacker\")\n",
    "print(result_mlp_fooling)"
   ]
  },
  {
   "cell_type": "code",
   "execution_count": 17,
   "metadata": {},
   "outputs": [
    {
     "name": "stderr",
     "output_type": "stream",
     "text": [
      "  0%|          | 0/48 [00:00<?, ?it/s]\n"
     ]
    }
   ],
   "source": [
    "d_loss_classical = mlp.train(x_train=x_balanced_train,\n",
    "                             y_train=y_balanced_train,\n",
    "                             epochs=epochs*switches)"
   ]
  },
  {
   "cell_type": "code",
   "execution_count": 18,
   "metadata": {
    "collapsed": true
   },
   "outputs": [],
   "source": [
    "\n",
    "result_mlp = evaluate(y_true=y_test, y_pred=mlp.predict(x=x_test))"
   ]
  },
  {
   "cell_type": "code",
   "execution_count": 20,
   "metadata": {},
   "outputs": [
    {
     "data": {
      "text/plain": [
       "{'accuracy': 0.5345828074269883, 'confusion_matrix': array([[67343,     0],\n",
       "        [58630,     0]]), 'f1_score': 0.0, 'precision': 0.0, 'recall': 0.0}"
      ]
     },
     "execution_count": 20,
     "metadata": {},
     "output_type": "execute_result"
    }
   ],
   "source": [
    "result_cgan"
   ]
  },
  {
   "cell_type": "code",
   "execution_count": 21,
   "metadata": {},
   "outputs": [
    {
     "data": {
      "text/plain": [
       "array([[0.50717956],\n",
       "       [0.51183236],\n",
       "       [0.5938702 ],\n",
       "       ...,\n",
       "       [0.6341873 ],\n",
       "       [0.5888709 ],\n",
       "       [0.53216994]], dtype=float32)"
      ]
     },
     "execution_count": 21,
     "metadata": {},
     "output_type": "execute_result"
    }
   ],
   "source": [
    "mlp.mlp.predict(x_test)"
   ]
  },
  {
   "cell_type": "code",
   "execution_count": null,
   "metadata": {
    "collapsed": true
   },
   "outputs": [],
   "source": []
  }
 ],
 "metadata": {
  "kernelspec": {
   "display_name": "Python 3",
   "language": "python",
   "name": "python3"
  },
  "language_info": {
   "codemirror_mode": {
    "name": "ipython",
    "version": 3
   },
   "file_extension": ".py",
   "mimetype": "text/x-python",
   "name": "python",
   "nbconvert_exporter": "python",
   "pygments_lexer": "ipython3",
   "version": "3.6.7"
  }
 },
 "nbformat": 4,
 "nbformat_minor": 2
}
