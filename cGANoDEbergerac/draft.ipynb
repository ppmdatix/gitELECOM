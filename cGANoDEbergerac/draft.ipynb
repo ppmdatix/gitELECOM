{
 "cells": [
  {
   "cell_type": "code",
   "execution_count": 1,
   "metadata": {},
   "outputs": [
    {
     "name": "stderr",
     "output_type": "stream",
     "text": [
      "Using TensorFlow backend.\n"
     ]
    }
   ],
   "source": [
    "from loadingCGAN.novgan import Novgan\n",
    "from load_data.load_data import load_data\n",
    "from utils.config_novgan import nrows, place, activation, latent_dim, leaky_relu, alpha, offset\n",
    "from utils.config_novgan import balanced_train_size, shuffle, cv_size, smooth_one, smooth_zero, batch_size\n",
    "from loadingCGAN.utils_cgan import creating_dico_index\n",
    "import numpy as np"
   ]
  },
  {
   "cell_type": "code",
   "execution_count": 2,
   "metadata": {},
   "outputs": [
    {
     "name": "stderr",
     "output_type": "stream",
     "text": [
      "/home/peseux/.local/lib/python3.6/site-packages/sklearn/preprocessing/data.py:334: DataConversionWarning: Data with input dtype uint8, int64, float64 were all converted to float64 by MinMaxScaler.\n",
      "  return self.partial_fit(X, y)\n",
      "/home/peseux/.local/lib/python3.6/site-packages/sklearn/preprocessing/data.py:334: DataConversionWarning: Data with input dtype uint8, int64, float64 were all converted to float64 by MinMaxScaler.\n",
      "  return self.partial_fit(X, y)\n"
     ]
    },
    {
     "name": "stdout",
     "output_type": "stream",
     "text": [
      "122\n"
     ]
    }
   ],
   "source": [
    "# DATA\n",
    "x_train, x_train_cv, y_train, y_train_cv, x_balanced_train, y_balanced_train, x_test, y_test, colnames = load_data(place=place,\n",
    "                                                                                                                   verbose=False,\n",
    "                                                                                                                   nrows=nrows,\n",
    "                                                                                                                   cv_size=cv_size,\n",
    "                                                                                                                   log_transform=True,\n",
    "                                                                                                                   shuffle=shuffle, return_colnames=True)\n",
    "if balanced_train_size is not None:\n",
    "    x_balanced_train, y_balanced_train = x_balanced_train[:balanced_train_size], y_balanced_train[:balanced_train_size]\n",
    "\n",
    "data_dim = x_train.shape[1]\n",
    "\n",
    "print(data_dim)"
   ]
  },
  {
   "cell_type": "code",
   "execution_count": 3,
   "metadata": {},
   "outputs": [
    {
     "name": "stdout",
     "output_type": "stream",
     "text": [
      "{'num_access_files': 11, 'num_shells': 10, 'src_bytes': 1, 'dst_bytes': 2, 'root_shell': 34, 'num_root': 8, 'su_attempted': 37, 'num_file_creations': 9}\n"
     ]
    }
   ],
   "source": [
    "dico_index = creating_dico_index(colnames=colnames)\n",
    "\n",
    "print(dico_index)"
   ]
  },
  {
   "cell_type": "markdown",
   "metadata": {},
   "source": [
    "# NovGan "
   ]
  },
  {
   "cell_type": "code",
   "execution_count": 4,
   "metadata": {},
   "outputs": [
    {
     "name": "stdout",
     "output_type": "stream",
     "text": [
      "WARNING:tensorflow:From /home/peseux/.local/lib/python3.6/site-packages/tensorflow/python/framework/op_def_library.py:263: colocate_with (from tensorflow.python.framework.ops) is deprecated and will be removed in a future version.\n",
      "Instructions for updating:\n",
      "Colocations handled automatically by placer.\n",
      "CHOSEN OPTIMIZER IS ADAM\n",
      "\n",
      " \n",
      " Generator Architecture \n",
      "_________________________________________________________________\n",
      "Layer (type)                 Output Shape              Param #   \n",
      "=================================================================\n",
      "dense_1 (Dense)              (None, 64)                3264      \n",
      "_________________________________________________________________\n",
      "leaky_re_lu_1 (LeakyReLU)    (None, 64)                0         \n",
      "_________________________________________________________________\n",
      "dense_2 (Dense)              (None, 128)               8320      \n",
      "_________________________________________________________________\n",
      "leaky_re_lu_2 (LeakyReLU)    (None, 128)               0         \n",
      "_________________________________________________________________\n",
      "dense_3 (Dense)              (None, 122)               15738     \n",
      "=================================================================\n",
      "Total params: 27,322\n",
      "Trainable params: 27,322\n",
      "Non-trainable params: 0\n",
      "_________________________________________________________________\n",
      "WARNING:tensorflow:From /home/peseux/.local/lib/python3.6/site-packages/keras/backend/tensorflow_backend.py:3445: calling dropout (from tensorflow.python.ops.nn_ops) with keep_prob is deprecated and will be removed in a future version.\n",
      "Instructions for updating:\n",
      "Please use `rate` instead of `keep_prob`. Rate should be set to `rate = 1 - keep_prob`.\n"
     ]
    }
   ],
   "source": [
    "novgan = Novgan(data_dim=data_dim, activation=activation, verbose=True,\n",
    "                latent_dim=latent_dim,\n",
    "                leaky_relu=leaky_relu, offset=offset, alpha=alpha, dropout=.2,\n",
    "                dico_index=dico_index,\n",
    "                noise=\"normal\",\n",
    "                smooth_one=smooth_one, smooth_zero=smooth_zero, batch_size=batch_size)"
   ]
  },
  {
   "cell_type": "code",
   "execution_count": 5,
   "metadata": {},
   "outputs": [],
   "source": [
    "x = novgan.gan.loss(y_true=np.ones(1), y_pred=novgan.discriminator.predict(novgan.generate(1))[0])"
   ]
  },
  {
   "cell_type": "code",
   "execution_count": 6,
   "metadata": {},
   "outputs": [
    {
     "data": {
      "text/plain": [
       "34"
      ]
     },
     "execution_count": 6,
     "metadata": {},
     "output_type": "execute_result"
    }
   ],
   "source": [
    "dico_index[\"root_shell\"]"
   ]
  },
  {
   "cell_type": "code",
   "execution_count": 7,
   "metadata": {},
   "outputs": [
    {
     "name": "stdout",
     "output_type": "stream",
     "text": [
      "\r",
      "1/1 [==============================] - 0s 29ms/step\n"
     ]
    },
    {
     "data": {
      "text/plain": [
       "1.4410496950149536"
      ]
     },
     "execution_count": 7,
     "metadata": {},
     "output_type": "execute_result"
    }
   ],
   "source": [
    "novgan.discriminator.evaluate(x_test[:1], np.zeros(1))"
   ]
  },
  {
   "cell_type": "code",
   "execution_count": 8,
   "metadata": {},
   "outputs": [
    {
     "data": {
      "text/plain": [
       "array([[-3.57836396e-01, -2.40170971e-01,  6.17761910e-01,\n",
       "         4.21874851e-01,  5.98325789e-01, -1.47016138e-01,\n",
       "         2.03336492e-01,  4.72753495e-01, -2.99418896e-01,\n",
       "        -2.98380941e-01,  5.29275164e-02,  6.58842549e-02,\n",
       "        -3.30174595e-01, -5.83755732e-01, -4.86912757e-01,\n",
       "        -7.41322815e-01, -4.02606577e-01,  2.26165965e-01,\n",
       "        -7.36953735e-01, -2.45988339e-01,  6.85438693e-01,\n",
       "         1.90775245e-01,  4.52914201e-02, -1.97554454e-01,\n",
       "        -2.60531366e-01, -2.94368088e-01,  5.52503288e-01,\n",
       "         1.08068839e-01,  6.92036629e-01, -4.07111287e-01,\n",
       "         7.31732666e-01, -5.59507132e-01, -1.09112374e-01,\n",
       "         7.20791042e-01,  6.44313037e-01,  2.01583698e-01,\n",
       "         1.86177373e-01,  6.45056129e-01,  4.58213031e-01,\n",
       "         2.73944378e-01, -1.19219281e-01, -7.65826628e-02,\n",
       "        -1.39387295e-01, -5.75172782e-01,  3.88916016e-01,\n",
       "         1.68995466e-02, -1.13205090e-01,  3.80498797e-01,\n",
       "         7.52105892e-01,  1.34788603e-01,  8.45044076e-01,\n",
       "         8.85143578e-01, -4.32875901e-01,  3.46804947e-01,\n",
       "        -3.38602692e-01,  3.34441274e-01, -2.27415681e-01,\n",
       "        -1.49200752e-01, -2.19068974e-01, -4.74478066e-01,\n",
       "        -3.00280005e-01,  1.84749179e-02,  4.48182132e-03,\n",
       "         2.46235193e-03, -7.73585081e-01,  6.72396183e-01,\n",
       "        -3.40711892e-01, -1.75280496e-02,  3.84408385e-01,\n",
       "         1.19164558e-02, -5.73983908e-01, -2.61082739e-01,\n",
       "        -3.25599194e-01,  6.48104608e-01, -9.73538309e-02,\n",
       "         3.71444762e-01,  8.37968290e-01, -5.23720324e-01,\n",
       "         1.10715233e-01, -1.98983744e-01, -1.99208036e-01,\n",
       "         8.94546160e-04,  1.71809971e-01, -6.04104817e-01,\n",
       "        -4.21282917e-01,  6.24868989e-01, -2.72888601e-01,\n",
       "        -4.74265311e-03, -3.66034508e-01,  3.00820827e-01,\n",
       "         5.83275676e-01,  7.33529329e-01, -2.39483744e-01,\n",
       "         2.89114952e-01,  1.69461355e-01, -5.95299125e-01,\n",
       "        -1.88428298e-01, -6.25187576e-01, -7.71291316e-01,\n",
       "         6.25106394e-01,  8.46191943e-01, -1.75451353e-01,\n",
       "        -4.82742116e-02,  6.08927310e-01,  5.56695402e-01,\n",
       "        -5.98453656e-02, -9.29615736e-01,  1.57376751e-01,\n",
       "         2.71718860e-01,  3.20595205e-01,  5.97335458e-01,\n",
       "         3.86743993e-01, -5.37641466e-01,  1.36803880e-01,\n",
       "         5.08461595e-01, -9.70958099e-02,  2.75867820e-01,\n",
       "         1.70972675e-01,  8.71869683e-01, -5.10048509e-01,\n",
       "        -1.57654472e-02, -6.90892100e-01]], dtype=float32)"
      ]
     },
     "execution_count": 8,
     "metadata": {},
     "output_type": "execute_result"
    }
   ],
   "source": [
    "novgan.generate(1)"
   ]
  },
  {
   "cell_type": "code",
   "execution_count": 38,
   "metadata": {
    "scrolled": false
   },
   "outputs": [
    {
     "name": "stderr",
     "output_type": "stream",
     "text": [
      "/home/peseux/.local/lib/python3.6/site-packages/keras/engine/training.py:490: UserWarning: Discrepancy between trainable weights and collected trainable weights, did you set `model.trainable` without calling `model.compile` after ?\n",
      "  'Discrepancy between trainable weights and collected trainable'\n"
     ]
    },
    {
     "name": "stdout",
     "output_type": "stream",
     "text": [
      "683.7234464883804\n",
      "107.75051422417164\n",
      "635.4040719270706\n",
      "124.7746799737215\n",
      "591.9182845950127\n",
      "141.82548581063747\n",
      "586.5917547941208\n",
      "146.70935033261776\n",
      "540.9918575286865\n",
      "168.5640260130167\n",
      "531.3356814980507\n",
      "174.78276392817497\n",
      "476.4107412099838\n",
      "207.64759156107903\n",
      "434.3006122112274\n",
      "239.1081435084343\n",
      "427.3222609758377\n",
      "246.90983265638351\n",
      "426.4490203857422\n",
      "256.7203172147274\n",
      "394.5513528585434\n",
      "290.19176840782166\n",
      "367.2790894508362\n",
      "328.29906964302063\n",
      "477.4748486280441\n",
      "259.11405849456787\n",
      "523.1278762221336\n",
      "232.67201825976372\n",
      "562.302962064743\n",
      "192.50476014614105\n",
      "538.2829458713531\n",
      "199.75371804833412\n",
      "516.0552139282227\n",
      "212.68793532252312\n",
      "524.6670769453049\n",
      "205.5268533229828\n",
      "524.5014139413834\n",
      "203.32693937420845\n",
      "517.8041320443153\n",
      "202.43095162510872\n",
      "500.17334496974945\n",
      "214.64712092280388\n",
      "477.368291079998\n",
      "227.06477835774422\n",
      "494.1920590996742\n",
      "217.91422745585442\n",
      "502.93341904878616\n",
      "221.25874656438828\n",
      "479.5420161485672\n",
      "232.6532030403614\n",
      "459.53556591272354\n",
      "249.5639033615589\n",
      "525.6051531434059\n",
      "213.24263259768486\n",
      "492.29959869384766\n",
      "228.15116581320763\n",
      "493.60829293727875\n",
      "225.12120619416237\n",
      "480.68472212553024\n",
      "232.37402594089508\n",
      "470.04039216041565\n",
      "242.58021092414856\n",
      "475.0578860640526\n",
      "239.13386851549149\n",
      "486.89395982027054\n",
      "223.6969192326069\n",
      "489.66146767139435\n",
      "231.96963968873024\n",
      "486.2874485254288\n",
      "232.5309834778309\n",
      "489.19383931159973\n",
      "227.89027121663094\n",
      "464.4060874581337\n",
      "252.75680541992188\n",
      "496.0747699737549\n",
      "222.8967134654522\n",
      "493.56302267313004\n",
      "225.30403411388397\n",
      "506.28068655729294\n",
      "216.36069059371948\n",
      "510.98783272504807\n",
      "205.6493707895279\n",
      "527.4121290445328\n",
      "198.43581408262253\n",
      "535.9522156119347\n",
      "191.46808379888535\n",
      "523.2400476932526\n",
      "201.43254986405373\n",
      "520.4677658081055\n",
      "203.5359652042389\n",
      "521.1839324831963\n",
      "202.7793506681919\n",
      "526.4054152369499\n",
      "197.3162976205349\n",
      "528.5384524464607\n",
      "195.89892700314522\n",
      "529.547780752182\n",
      "195.08594220876694\n",
      "533.9120503664017\n",
      "190.5778977572918\n",
      "[1.5907649287223815, 1.4736153560638428, 1.0939575143814086, 1.016646515083313, 0.9470692553520202, 0.9385468076705933, 0.8655869720458984, 0.8501370903968811, 0.7622571859359741, 0.6948809795379639, 0.6837156175613404, 0.6823184326171875, 0.6312821645736695, 0.5876465431213379, 0.7639597578048706, 0.8370046019554138, 0.8996847393035888, 0.8612527133941651, 0.8256883422851562, 0.8394673231124878, 0.8392022623062134, 0.8284866112709045, 0.8002773519515991, 0.7637892657279969, 0.7907072945594787, 0.8046934704780578, 0.7672672258377076, 0.7352569054603577, 0.8409682450294494, 0.7876793579101562, 0.789773268699646, 0.7690955554008484, 0.752064627456665, 0.7600926177024842, 0.7790303357124329, 0.783458348274231, 0.778059917640686, 0.7827101428985596, 0.7430497399330139, 0.7937196319580078, 0.789700836277008, 0.8100490984916687, 0.8175805323600769, 0.8438594064712525, 0.8575235449790954, 0.8371840763092041, 0.8327484252929688, 0.833894291973114, 0.8422486643791198, 0.8456615239143371, 0.8472764492034912, 0.8542592805862427]\n"
     ]
    },
    {
     "data": {
      "image/png": "[encoded data removed]",
      "text/plain": [
       "<Figure size 432x288 with 1 Axes>"
      ]
     },
     "metadata": {
      "needs_background": "light"
     },
     "output_type": "display_data"
    },
    {
     "data": {
      "text/plain": [
       "True"
      ]
     },
     "execution_count": 38,
     "metadata": {},
     "output_type": "execute_result"
    }
   ],
   "source": [
    "learned = novgan.train(x_train=x_train, epochs=50, print_recap=False)\n",
    "\n",
    "\n",
    "novgan.plot_learning()"
   ]
  },
  {
   "cell_type": "code",
   "execution_count": 39,
   "metadata": {},
   "outputs": [
    {
     "data": {
      "text/plain": [
       "{'d_loss': [1.5907649287223815,\n",
       "  1.4736153560638428,\n",
       "  1.0939575143814086,\n",
       "  1.016646515083313,\n",
       "  0.9470692553520202,\n",
       "  0.9385468076705933,\n",
       "  0.8655869720458984,\n",
       "  0.8501370903968811,\n",
       "  0.7622571859359741,\n",
       "  0.6948809795379639,\n",
       "  0.6837156175613404,\n",
       "  0.6823184326171875,\n",
       "  0.6312821645736695,\n",
       "  0.5876465431213379,\n",
       "  0.7639597578048706,\n",
       "  0.8370046019554138,\n",
       "  0.8996847393035888,\n",
       "  0.8612527133941651,\n",
       "  0.8256883422851562,\n",
       "  0.8394673231124878,\n",
       "  0.8392022623062134,\n",
       "  0.8284866112709045,\n",
       "  0.8002773519515991,\n",
       "  0.7637892657279969,\n",
       "  0.7907072945594787,\n",
       "  0.8046934704780578,\n",
       "  0.7672672258377076,\n",
       "  0.7352569054603577,\n",
       "  0.8409682450294494,\n",
       "  0.7876793579101562,\n",
       "  0.789773268699646,\n",
       "  0.7690955554008484,\n",
       "  0.752064627456665,\n",
       "  0.7600926177024842,\n",
       "  0.7790303357124329,\n",
       "  0.783458348274231,\n",
       "  0.778059917640686,\n",
       "  0.7827101428985596,\n",
       "  0.7430497399330139,\n",
       "  0.7937196319580078,\n",
       "  0.789700836277008,\n",
       "  0.8100490984916687,\n",
       "  0.8175805323600769,\n",
       "  0.8438594064712525,\n",
       "  0.8575235449790954,\n",
       "  0.8371840763092041,\n",
       "  0.8327484252929688,\n",
       "  0.833894291973114,\n",
       "  0.8422486643791198,\n",
       "  0.8456615239143371,\n",
       "  0.8472764492034912,\n",
       "  0.8542592805862427],\n",
       " 'g_loss': [0.08677607737779618,\n",
       "  0.09806082381010056,\n",
       "  0.17240082275867463,\n",
       "  0.19963948795795441,\n",
       "  0.22692077729701995,\n",
       "  0.23473496053218842,\n",
       "  0.26970244162082674,\n",
       "  0.27965242228507997,\n",
       "  0.3322361464977264,\n",
       "  0.3825730296134949,\n",
       "  0.3950557322502136,\n",
       "  0.41075250754356385,\n",
       "  0.46430682945251467,\n",
       "  0.525278511428833,\n",
       "  0.4145824935913086,\n",
       "  0.37227522921562195,\n",
       "  0.30800761623382567,\n",
       "  0.3196059488773346,\n",
       "  0.340300696516037,\n",
       "  0.3288429653167725,\n",
       "  0.3253231029987335,\n",
       "  0.32388952260017395,\n",
       "  0.3434353934764862,\n",
       "  0.36330364537239074,\n",
       "  0.34866276392936707,\n",
       "  0.35401399450302123,\n",
       "  0.3722451248645782,\n",
       "  0.39930224537849424,\n",
       "  0.3411882121562958,\n",
       "  0.3650418653011322,\n",
       "  0.3601939299106598,\n",
       "  0.3717984415054321,\n",
       "  0.3881283374786377,\n",
       "  0.3826141896247864,\n",
       "  0.357915070772171,\n",
       "  0.3711514235019684,\n",
       "  0.37204957356452945,\n",
       "  0.3646244339466095,\n",
       "  0.404410888671875,\n",
       "  0.3566347415447235,\n",
       "  0.36048645458221434,\n",
       "  0.3461771049499512,\n",
       "  0.32903899326324465,\n",
       "  0.31749730253219605,\n",
       "  0.30634893407821656,\n",
       "  0.322292079782486,\n",
       "  0.32565754432678223,\n",
       "  0.32444696106910703,\n",
       "  0.31570607619285584,\n",
       "  0.31343828320503236,\n",
       "  0.3121375075340271,\n",
       "  0.3049246364116669],\n",
       " 'hurting': [0.00046976636997165546,\n",
       "  0.0,\n",
       "  0.9366450689455116,\n",
       "  0.9733436281199221,\n",
       "  0.9740191500964658,\n",
       "  0.520387576499339,\n",
       "  0.15406056299274876,\n",
       "  0.3416468941533737,\n",
       "  0.9752665386084111,\n",
       "  0.5039061141615153,\n",
       "  0.035537547398990565,\n",
       "  0.18891550648786584,\n",
       "  0.24365254274870107,\n",
       "  0.35006254697409733,\n",
       "  0.9755209854088213,\n",
       "  0.9756443612217715,\n",
       "  0.3009673519051043,\n",
       "  0.8990140300502116,\n",
       "  0.8359464197443973,\n",
       "  0.5313462537327769,\n",
       "  0.8869270573731195,\n",
       "  0.5256167925084518,\n",
       "  0.5602275631264845,\n",
       "  0.4244701989072817,\n",
       "  0.11217991024442146,\n",
       "  0.7629527726300608,\n",
       "  0.3337705399722315,\n",
       "  0.8005701279328561,\n",
       "  0.9733561034589613,\n",
       "  0.9736110431248016,\n",
       "  0.8564474331445677,\n",
       "  0.24221185558881594,\n",
       "  0.21905621105226378,\n",
       "  0.8555090316086756,\n",
       "  0.07203692018223061,\n",
       "  0.6454206850317975,\n",
       "  0.746683389520726,\n",
       "  0.9154175772738474,\n",
       "  0.335621068238458,\n",
       "  0.9733370343880368,\n",
       "  0.917725267646555,\n",
       "  0.5923331394255276,\n",
       "  0.46494632802137403,\n",
       "  0.7771757468484856,\n",
       "  0.6865296017891171,\n",
       "  0.8118466521591576,\n",
       "  0.5931875885876647,\n",
       "  0.8254545202495852,\n",
       "  0.714414783191577,\n",
       "  0.7067983990179055,\n",
       "  0.8689071703481275,\n",
       "  0.7061644658485077]}"
      ]
     },
     "execution_count": 39,
     "metadata": {},
     "output_type": "execute_result"
    }
   ],
   "source": [
    "novgan.history"
   ]
  },
  {
   "cell_type": "code",
   "execution_count": 21,
   "metadata": {},
   "outputs": [],
   "source": [
    "one_index = [i for i in range(len(y_train)) if y_train[i]>.5]\n",
    "zero_index = [i for i in range(len(y_train)) if y_train[i]<.5]"
   ]
  },
  {
   "cell_type": "code",
   "execution_count": 22,
   "metadata": {},
   "outputs": [
    {
     "data": {
      "image/png": "[encoded data removed]",
      "text/plain": [
       "<Figure size 432x288 with 1 Axes>"
      ]
     },
     "metadata": {
      "needs_background": "light"
     },
     "output_type": "display_data"
    },
    {
     "data": {
      "image/png": "[encoded data removed]",
      "text/plain": [
       "<Figure size 432x288 with 1 Axes>"
      ]
     },
     "metadata": {
      "needs_background": "light"
     },
     "output_type": "display_data"
    },
    {
     "data": {
      "text/plain": [
       "array([0.7112781 , 0.6725111 , 0.78283555, ..., 0.51525871, 0.39464077,\n",
       "       0.50921204])"
      ]
     },
     "execution_count": 22,
     "metadata": {},
     "output_type": "execute_result"
    }
   ],
   "source": [
    "novgan.hurting(x_train[one_index], print_mode=True)\n",
    "novgan.hurting(x_train[zero_index], print_mode=True)"
   ]
  },
  {
   "cell_type": "code",
   "execution_count": 24,
   "metadata": {},
   "outputs": [],
   "source": [
    "hx = novgan.hurting(x_test, print_mode=False)"
   ]
  },
  {
   "cell_type": "code",
   "execution_count": 27,
   "metadata": {},
   "outputs": [
    {
     "data": {
      "text/plain": [
       "array([0., 0., 1., ..., 0., 0., 1.])"
      ]
     },
     "execution_count": 27,
     "metadata": {},
     "output_type": "execute_result"
    }
   ],
   "source": [
    "y_test"
   ]
  },
  {
   "cell_type": "code",
   "execution_count": null,
   "metadata": {},
   "outputs": [],
   "source": []
  },
  {
   "cell_type": "code",
   "execution_count": 34,
   "metadata": {},
   "outputs": [],
   "source": [
    "from sklearn.metrics import confusion_matrix as confusion_matrix, precision_score,f1_score, recall_score, accuracy_score\n"
   ]
  },
  {
   "cell_type": "code",
   "execution_count": 35,
   "metadata": {},
   "outputs": [],
   "source": [
    "y_pred=[float(h>.8) for h in hx]\n",
    "y_true=y_test"
   ]
  },
  {
   "cell_type": "code",
   "execution_count": 36,
   "metadata": {},
   "outputs": [
    {
     "data": {
      "text/plain": [
       "{'confusion_matrix': array([[48458,  4987],\n",
       "        [ 4071, 42484]]),\n",
       " 'precision': 0.894,\n",
       " 'recall': 0.912,\n",
       " 'f1_score': 0.903,\n",
       " 'accuracy': 0.909}"
      ]
     },
     "execution_count": 36,
     "metadata": {},
     "output_type": "execute_result"
    }
   ],
   "source": [
    "from sklearn.metrics import confusion_matrix as confusion_matrix\n",
    "cm = confusion_matrix(y_true=y_true, y_pred=y_pred)\n",
    "ps = .001 * int(1000 * precision_score(y_true=y_true, y_pred=y_pred))\n",
    "rs = .001 * int(1000 * recall_score(y_true=y_true, y_pred=y_pred))\n",
    "f1 = .001 * int(1000 * f1_score(y_true=y_true, y_pred=y_pred))\n",
    "acc = .001 * int(1000 * accuracy_score(y_true=y_true, y_pred=y_pred))\n",
    "{\"confusion_matrix\": cm, \"precision\": ps, \"recall\": rs, \"f1_score\": f1, \"accuracy\": acc}\n"
   ]
  },
  {
   "cell_type": "code",
   "execution_count": null,
   "metadata": {},
   "outputs": [],
   "source": []
  }
 ],
 "metadata": {
  "kernelspec": {
   "display_name": "Python 3",
   "language": "python",
   "name": "python3"
  },
  "language_info": {
   "codemirror_mode": {
    "name": "ipython",
    "version": 3
   },
   "file_extension": ".py",
   "mimetype": "text/x-python",
   "name": "python",
   "nbconvert_exporter": "python",
   "pygments_lexer": "ipython3",
   "version": "3.6.7"
  }
 },
 "nbformat": 4,
 "nbformat_minor": 2
}
