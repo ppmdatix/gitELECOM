{
 "cells": [
  {
   "cell_type": "code",
   "execution_count": 1,
   "metadata": {},
   "outputs": [
    {
     "name": "stderr",
     "output_type": "stream",
     "text": [
      "Using TensorFlow backend.\n"
     ]
    }
   ],
   "source": [
    "from loadingCGAN.swagan_trafic_input import Swagan_trafic_input\n",
    "from learning_swagan_trafic_input import learning_swagan_trafic_input\n",
    "from utils.config_swagan_trafic_input import *\n",
    "import numpy as np\n",
    "from load_data.load_data import load_data\n",
    "from time import time\n",
    "from loadingCGAN.utils_cgan import save_time\n",
    "from loadingCGAN.utils_cgan import creating_dico_index\n",
    "from evaluation.evaluation import evaluate\n",
    "from loadingCGAN.mlp import Mlp\n",
    "from sklearn.model_selection import train_test_split"
   ]
  },
  {
   "cell_type": "code",
   "execution_count": 2,
   "metadata": {},
   "outputs": [],
   "source": [
    "epochs = 2\n",
    "number_of_gans = 2\n",
    "switches = 2\n",
    "examples = 10\n",
    "smooth_zero = .1\n",
    "smooth_one = .9\n",
    "x_train_size = None\n",
    "dropout = .2\n",
    "leaky_relu = 0.1\n",
    "noise = \"normal\"\n",
    "activation = \"tanh\"\n",
    "title = \"swagan_trafic_input\"\n",
    "save_model = True\n",
    "attack_mode = None\n",
    "attack = None\n",
    "noise_dim = 9\n",
    "nrows = 10000\n",
    "cv_size = .2\n",
    "place = \"home\"\n",
    "balanced_train_size = None\n",
    "spectral_normalisation = False\n",
    "shuffle = True\n",
    "alpha = 1.\n",
    "offset = 0.\n",
    "batch_size = 128\n"
   ]
  },
  {
   "cell_type": "code",
   "execution_count": 3,
   "metadata": {},
   "outputs": [
    {
     "name": "stderr",
     "output_type": "stream",
     "text": [
      "/anaconda3/lib/python3.7/site-packages/sklearn/preprocessing/data.py:334: DataConversionWarning: Data with input dtype uint8, int64, float64 were all converted to float64 by MinMaxScaler.\n",
      "  return self.partial_fit(X, y)\n"
     ]
    },
    {
     "name": "stdout",
     "output_type": "stream",
     "text": [
      "Train data shape is (10000, 116)\n",
      "Test data shape is (10000, 116)\n",
      "\n",
      "  \n",
      " \n",
      " \n",
      "  \n",
      " \n",
      " \n",
      "Train data shape is (9416, 116)\n",
      "\n",
      "  \n",
      " \n",
      " \n",
      "  \n",
      " \n",
      " \n",
      "x_train overview\n",
      "        0         1         2    3    4    5    6    7    8    9    ...  106  \\\n",
      "0 -1.000000 -0.803047 -1.000000 -1.0 -1.0 -1.0 -1.0 -1.0 -1.0 -1.0  ... -1.0   \n",
      "1 -1.000000 -0.293427 -0.236489 -1.0 -1.0 -1.0 -1.0 -1.0 -1.0 -1.0  ... -1.0   \n",
      "2 -1.000000 -0.527996 -0.354184 -1.0 -1.0 -1.0 -1.0 -1.0 -1.0 -1.0  ... -1.0   \n",
      "3 -0.869718 -0.317171 -0.251113 -1.0 -1.0 -1.0 -1.0 -1.0 -1.0 -1.0  ... -1.0   \n",
      "4 -1.000000 -1.000000 -1.000000 -1.0 -1.0 -1.0 -1.0 -1.0 -1.0 -1.0  ... -1.0   \n",
      "\n",
      "   107  108  109  110  111  112  113  114  115  \n",
      "0 -1.0 -1.0 -1.0 -1.0 -1.0 -1.0 -1.0 -1.0 -1.0  \n",
      "1 -1.0 -1.0 -1.0 -1.0 -1.0 -1.0 -1.0 -1.0 -1.0  \n",
      "2 -1.0 -1.0 -1.0 -1.0 -1.0 -1.0 -1.0 -1.0 -1.0  \n",
      "3 -1.0 -1.0 -1.0 -1.0 -1.0 -1.0 -1.0 -1.0 -1.0  \n",
      "4 -1.0 -1.0 -1.0 -1.0 -1.0 -1.0 -1.0 -1.0 -1.0  \n",
      "\n",
      "[5 rows x 116 columns]\n",
      "\n",
      "  \n",
      " \n",
      " \n",
      "  \n",
      " \n",
      " \n",
      "y_train overview\n",
      "     0\n",
      "0  1.0\n",
      "1  0.0\n",
      "2  0.0\n",
      "3  0.0\n",
      "4  1.0\n",
      "\n",
      "  \n",
      " \n",
      " \n",
      "  \n",
      " \n",
      " \n"
     ]
    },
    {
     "name": "stderr",
     "output_type": "stream",
     "text": [
      "/anaconda3/lib/python3.7/site-packages/sklearn/preprocessing/data.py:334: DataConversionWarning: Data with input dtype uint8, int64, float64 were all converted to float64 by MinMaxScaler.\n",
      "  return self.partial_fit(X, y)\n"
     ]
    }
   ],
   "source": [
    "########\n",
    "# DATA #\n",
    "########\n",
    "x_train, _, y_train, _, x_balanced_train, _, x_test, y_test, colnames = load_data(place=place,\n",
    "                                                                                  attack_mode=attack_mode,\n",
    "                                                                                  attack=attack,\n",
    "                                                                                  nrows=nrows,\n",
    "                                                                                  cv_size=cv_size,\n",
    "                                                                                  log_transform=True,\n",
    "                                                                                  shuffle=shuffle,\n",
    "                                                                                  return_colnames=True)\n",
    "x_train_bad = np.array([x for x, y in zip(x_train, y_train) if int(y) == 1])\n",
    "x_train = np.array([x for x, y in zip(x_train, y_train) if int(y) == 0])\n",
    "\n",
    "x_test_bad = np.array([x for x, y in zip(x_test, y_test) if int(y) == 1])\n",
    "x_test = np.array([x for x, y in zip(x_test, y_test) if int(y) == 0])\n",
    "\n",
    "\n",
    "\n",
    "x_train, x_train_cv = train_test_split(x_train, test_size=cv_size)\n",
    "x_train_bad, x_train_bad_cv = train_test_split(x_train_bad, test_size=cv_size)\n",
    "\n",
    "\n",
    "if balanced_train_size is not None:\n",
    "    x_balanced_train = x_balanced_train[:balanced_train_size]\n",
    "\n",
    "data_dim = x_train.shape[1]\n",
    "dico_index = creating_dico_index(colnames=colnames)"
   ]
  },
  {
   "cell_type": "code",
   "execution_count": 4,
   "metadata": {},
   "outputs": [
    {
     "name": "stdout",
     "output_type": "stream",
     "text": [
      "WARNING:tensorflow:From /anaconda3/lib/python3.7/site-packages/tensorflow/python/framework/op_def_library.py:263: colocate_with (from tensorflow.python.framework.ops) is deprecated and will be removed in a future version.\n",
      "Instructions for updating:\n",
      "Colocations handled automatically by placer.\n",
      "CHOSEN OPTIMIZER IS ADAM\n",
      "WARNING:tensorflow:From /anaconda3/lib/python3.7/site-packages/keras/backend/tensorflow_backend.py:3445: calling dropout (from tensorflow.python.ops.nn_ops) with keep_prob is deprecated and will be removed in a future version.\n",
      "Instructions for updating:\n",
      "Please use `rate` instead of `keep_prob`. Rate should be set to `rate = 1 - keep_prob`.\n",
      "\n",
      " \n",
      " Discriminator Architecture \n",
      "_________________________________________________________________\n",
      "Layer (type)                 Output Shape              Param #   \n",
      "=================================================================\n",
      "dense_1 (Dense)              (None, 18)                2106      \n",
      "_________________________________________________________________\n",
      "leaky_re_lu_1 (LeakyReLU)    (None, 18)                0         \n",
      "_________________________________________________________________\n",
      "dropout_1 (Dropout)          (None, 18)                0         \n",
      "_________________________________________________________________\n",
      "dense_2 (Dense)              (None, 12)                228       \n",
      "_________________________________________________________________\n",
      "leaky_re_lu_2 (LeakyReLU)    (None, 12)                0         \n",
      "_________________________________________________________________\n",
      "dropout_2 (Dropout)          (None, 12)                0         \n",
      "_________________________________________________________________\n",
      "dense_3 (Dense)              (None, 10)                130       \n",
      "_________________________________________________________________\n",
      "leaky_re_lu_3 (LeakyReLU)    (None, 10)                0         \n",
      "_________________________________________________________________\n",
      "dropout_3 (Dropout)          (None, 10)                0         \n",
      "_________________________________________________________________\n",
      "dense_4 (Dense)              (None, 1)                 11        \n",
      "=================================================================\n",
      "Total params: 2,475\n",
      "Trainable params: 2,475\n",
      "Non-trainable params: 0\n",
      "_________________________________________________________________\n",
      "\n",
      " \n",
      " Generator Architecture \n",
      "_________________________________________________________________\n",
      "Layer (type)                 Output Shape              Param #   \n",
      "=================================================================\n",
      "dense_5 (Dense)              (None, 256)               32256     \n",
      "_________________________________________________________________\n",
      "leaky_re_lu_4 (LeakyReLU)    (None, 256)               0         \n",
      "_________________________________________________________________\n",
      "dense_6 (Dense)              (None, 128)               32896     \n",
      "_________________________________________________________________\n",
      "batch_normalization_1 (Batch (None, 128)               512       \n",
      "_________________________________________________________________\n",
      "dropout_4 (Dropout)          (None, 128)               0         \n",
      "_________________________________________________________________\n",
      "leaky_re_lu_5 (LeakyReLU)    (None, 128)               0         \n",
      "_________________________________________________________________\n",
      "dense_7 (Dense)              (None, 116)               14964     \n",
      "=================================================================\n",
      "Total params: 80,628\n",
      "Trainable params: 80,372\n",
      "Non-trainable params: 256\n",
      "_________________________________________________________________\n",
      "CHOSEN OPTIMIZER IS ADAM\n",
      "\n",
      " \n",
      " Discriminator Architecture \n",
      "_________________________________________________________________\n",
      "Layer (type)                 Output Shape              Param #   \n",
      "=================================================================\n",
      "dense_8 (Dense)              (None, 18)                2106      \n",
      "_________________________________________________________________\n",
      "leaky_re_lu_6 (LeakyReLU)    (None, 18)                0         \n",
      "_________________________________________________________________\n",
      "dropout_5 (Dropout)          (None, 18)                0         \n",
      "_________________________________________________________________\n",
      "dense_9 (Dense)              (None, 12)                228       \n",
      "_________________________________________________________________\n",
      "leaky_re_lu_7 (LeakyReLU)    (None, 12)                0         \n",
      "_________________________________________________________________\n",
      "dropout_6 (Dropout)          (None, 12)                0         \n",
      "_________________________________________________________________\n",
      "dense_10 (Dense)             (None, 10)                130       \n",
      "_________________________________________________________________\n",
      "leaky_re_lu_8 (LeakyReLU)    (None, 10)                0         \n",
      "_________________________________________________________________\n",
      "dropout_7 (Dropout)          (None, 10)                0         \n",
      "_________________________________________________________________\n",
      "dense_11 (Dense)             (None, 1)                 11        \n",
      "=================================================================\n",
      "Total params: 2,475\n",
      "Trainable params: 2,475\n",
      "Non-trainable params: 0\n",
      "_________________________________________________________________\n",
      "\n",
      " \n",
      " Generator Architecture \n",
      "_________________________________________________________________\n",
      "Layer (type)                 Output Shape              Param #   \n",
      "=================================================================\n",
      "dense_12 (Dense)             (None, 256)               32256     \n",
      "_________________________________________________________________\n",
      "leaky_re_lu_9 (LeakyReLU)    (None, 256)               0         \n",
      "_________________________________________________________________\n",
      "dense_13 (Dense)             (None, 128)               32896     \n",
      "_________________________________________________________________\n",
      "batch_normalization_2 (Batch (None, 128)               512       \n",
      "_________________________________________________________________\n",
      "dropout_8 (Dropout)          (None, 128)               0         \n",
      "_________________________________________________________________\n",
      "leaky_re_lu_10 (LeakyReLU)   (None, 128)               0         \n",
      "_________________________________________________________________\n",
      "dense_14 (Dense)             (None, 116)               14964     \n",
      "=================================================================\n",
      "Total params: 80,628\n",
      "Trainable params: 80,372\n",
      "Non-trainable params: 256\n",
      "_________________________________________________________________\n"
     ]
    }
   ],
   "source": [
    "##########\n",
    "# SWAGAN #\n",
    "##########\n",
    "swagans = [Swagan_trafic_input(data_dim=data_dim, noise_dim=noise_dim, leaky_relu=leaky_relu, dropout=dropout,\n",
    "                  spectral_normalisation=False,\n",
    "                  weight_clipping=False, verbose=True,\n",
    "                  activation=activation,\n",
    "                  noise=noise) for _ in range(number_of_gans)]"
   ]
  },
  {
   "cell_type": "code",
   "execution_count": 5,
   "metadata": {},
   "outputs": [
    {
     "name": "stderr",
     "output_type": "stream",
     "text": [
      "\r",
      "  0%|          | 0/4 [00:00<?, ?it/s]"
     ]
    },
    {
     "name": "stdout",
     "output_type": "stream",
     "text": [
      "WARNING:tensorflow:From /anaconda3/lib/python3.7/site-packages/tensorflow/python/ops/math_ops.py:3066: to_int32 (from tensorflow.python.ops.math_ops) is deprecated and will be removed in a future version.\n",
      "Instructions for updating:\n",
      "Use tf.cast instead.\n"
     ]
    },
    {
     "name": "stderr",
     "output_type": "stream",
     "text": [
      "100%|██████████| 4/4 [00:09<00:00,  2.89s/it]\n",
      "100%|██████████| 2/2 [00:01<00:00,  1.47it/s]\n",
      "100%|██████████| 2/2 [00:07<00:00,  4.96s/it]\n"
     ]
    },
    {
     "name": "stdout",
     "output_type": "stream",
     "text": [
      "Let's switch the GANs\n",
      "There are 2 fixed points\n",
      "GANs switched\n",
      "Let's switch the GANs\n",
      "There are 0 fixed points\n",
      "GANs switched\n",
      "\n",
      "\n",
      "\n",
      "best generator loss is 0.3884947421983776\n",
      "\n",
      "\n",
      "\n",
      "f1 score is 1.660468256623317\n",
      "f1 score is 1.2511330210337273\n"
     ]
    },
    {
     "data": {
      "text/plain": [
       "True"
      ]
     },
     "execution_count": 5,
     "metadata": {},
     "output_type": "execute_result"
    }
   ],
   "source": [
    "############\n",
    "# LEARNING #\n",
    "############\n",
    "start = time()\n",
    "swagans, swagan_base = learning_swagan_trafic_input(swagans=swagans, x=x_train,\n",
    "                                                    x_cv=x_train_cv, x_bad=x_train_bad, x_bad_cv=x_train_bad_cv,\n",
    "                                                    number_of_gans=number_of_gans,\n",
    "                                                    epochs=epochs, switches=switches, print_mode=True,\n",
    "                                                    smooth_zero=smooth_zero, smooth_one=smooth_one, title=title)\n",
    "end = time()\n",
    "duration = end - start\n",
    "save_time(duration=duration, location=\"tmp/\", title=title)"
   ]
  },
  {
   "cell_type": "code",
   "execution_count": 6,
   "metadata": {},
   "outputs": [
    {
     "data": {
      "image/png": "[encoded data removed]",
      "text/plain": [
       "<Figure size 432x288 with 1 Axes>"
      ]
     },
     "metadata": {
      "needs_background": "light"
     },
     "output_type": "display_data"
    }
   ],
   "source": [
    "##################\n",
    "# SAVING RESULTS #\n",
    "##################\n",
    "swagan = swagans[0]\n",
    "swagan.plot_learning(save_mode=False, title=title)\n",
    "if False:\n",
    "    swagan.save_model(model_name=title)"
   ]
  },
  {
   "cell_type": "code",
   "execution_count": 18,
   "metadata": {},
   "outputs": [],
   "source": [
    "x_eval = np.concatenate((x_test, x_test_bad))\n",
    "\n",
    "result_swagan = evaluate(y_true=np.array([0. for _ in x_test] + [1. for _ in x_test_bad]),\n",
    "                         y_pred=swagan.predict(x=x_eval))\n",
    "print(\"\\n\"*4 + \"=\"*15 + \"\\n\" + \"SWAGAN result\")\n",
    "print(result_swagan)\n",
    "#################\n",
    "# Classical MLP #\n",
    "#################\n",
    "mlp = Mlp(data_dim=data_dim, verbose=False)\n",
    "d_loss_classical = mlp.train(x_train=np.concatenate((x_train, x_train_bad)),# x_balanced_train\n",
    "                             y_train=np.array([0. for _ in x_train] + [1. for _ in x_train_bad]),# y_balanced_train\n",
    "                             epochs=epochs*(switches+1))\n",
    "result_mlp = evaluate(y_true=np.array([0. for _ in x_test] + [1. for _ in x_test_bad]),\n",
    "                      y_pred=mlp.predict(x=x_eval))\n",
    "\n",
    "print(\"\\n\"*2 + \"=\"*15 + \"\\n\" + \"MLP result\")\n",
    "print(result_mlp)"
   ]
  },
  {
   "cell_type": "markdown",
   "metadata": {},
   "source": [
    "# PCA"
   ]
  },
  {
   "cell_type": "code",
   "execution_count": 17,
   "metadata": {},
   "outputs": [
    {
     "data": {
      "text/plain": [
       "PCA(copy=True, iterated_power='auto', n_components=2, random_state=None,\n",
       "  svd_solver='auto', tol=0.0, whiten=False)"
      ]
     },
     "execution_count": 17,
     "metadata": {},
     "output_type": "execute_result"
    }
   ],
   "source": [
    "import numpy as np\n",
    "from sklearn.decomposition import PCA\n",
    "pca = PCA(n_components=2)\n",
    "pca.fit(x_train)  "
   ]
  },
  {
   "cell_type": "code",
   "execution_count": 19,
   "metadata": {},
   "outputs": [],
   "source": [
    "generated = swagan.generate(number=1000, x_bad=x_test_bad)"
   ]
  },
  {
   "cell_type": "code",
   "execution_count": 20,
   "metadata": {},
   "outputs": [],
   "source": [
    "x_pca = pca.transform(x_train)\n",
    "x_pca_gen = pca.transform(generated)\n",
    "x_pca_ae = pca.transform(x_train_bad)"
   ]
  },
  {
   "cell_type": "code",
   "execution_count": 21,
   "metadata": {},
   "outputs": [],
   "source": [
    "from matplotlib import pyplot as plt"
   ]
  },
  {
   "cell_type": "code",
   "execution_count": 23,
   "metadata": {},
   "outputs": [
    {
     "data": {
      "image/png": "[encoded data removed]",
      "text/plain": [
       "<Figure size 432x288 with 1 Axes>"
      ]
     },
     "metadata": {
      "needs_background": "light"
     },
     "output_type": "display_data"
    }
   ],
   "source": [
    "plt.scatter(x_pca[:,0].tolist(),x_pca[:,1].tolist(), label=\"x_test\")\n",
    "plt.scatter(x_pca_gen[:,0].tolist(),x_pca_gen[:,1].tolist(), label=\"generated\")\n",
    "# plt.scatter(x_pca_ae[:,0].tolist(),x_pca_ae[:,1].tolist(), label=\"auto_encoded\")\n",
    "plt.legend()\n",
    "plt.savefig(\"PCA_swagan_trafic_input.png\")\n",
    "plt.show()\n",
    "plt.close()"
   ]
  },
  {
   "cell_type": "code",
   "execution_count": 63,
   "metadata": {},
   "outputs": [
    {
     "data": {
      "image/png": "[encoded data removed]",
      "text/plain": [
       "<Figure size 432x288 with 1 Axes>"
      ]
     },
     "metadata": {
      "needs_background": "light"
     },
     "output_type": "display_data"
    },
    {
     "data": {
      "image/png": "[encoded data removed]",
      "text/plain": [
       "<Figure size 432x288 with 1 Axes>"
      ]
     },
     "metadata": {
      "needs_background": "light"
     },
     "output_type": "display_data"
    }
   ],
   "source": [
    "############\n",
    "# Plotting #\n",
    "############\n",
    "benin_data = novgan_trafic_input.hurting(x=x_train, print_mode=True,title=\"Real Data\")\n",
    "malicious_data = novgan_trafic_input.hurting(x=x_train_bad, print_mode=True,title=\"Real Data\")\n"
   ]
  },
  {
   "cell_type": "code",
   "execution_count": 64,
   "metadata": {},
   "outputs": [
    {
     "name": "stderr",
     "output_type": "stream",
     "text": [
      "/home/peseux/.local/lib/python3.6/site-packages/matplotlib/axes/_axes.py:6521: MatplotlibDeprecationWarning: \n",
      "The 'normed' kwarg was deprecated in Matplotlib 2.1 and will be removed in 3.1. Use 'density' instead.\n",
      "  alternative=\"'density'\", removal=\"3.1\")\n"
     ]
    },
    {
     "data": {
      "image/png": "[encoded data removed]",
      "text/plain": [
       "<Figure size 432x288 with 1 Axes>"
      ]
     },
     "metadata": {
      "needs_background": "light"
     },
     "output_type": "display_data"
    }
   ],
   "source": [
    "plt.hist(benin_data, normed=True, bins=120, label=\"benin\")\n",
    "plt.hist(malicious_data, normed=True, bins=10, label=\"malicious\")\n",
    "plt.xlim(-0.05,1.05)\n",
    "plt.yticks([])\n",
    "plt.ylim(0, 8)\n",
    "plt.title(\"Hurting value distribution\")\n",
    "plt.savefig(\"hurting-distrib.png\")\n",
    "plt.show()\n",
    "plt.close()"
   ]
  },
  {
   "cell_type": "code",
   "execution_count": 65,
   "metadata": {},
   "outputs": [],
   "source": [
    "def eigth_threshold(x):\n",
    "    if x>.8:\n",
    "        return 1.0\n",
    "    else:\n",
    "        return 0."
   ]
  },
  {
   "cell_type": "code",
   "execution_count": 66,
   "metadata": {},
   "outputs": [],
   "source": [
    "benin_data = novgan_trafic_input.hurting(x=x_test, print_mode=False,title=\"Real Data\")\n",
    "malicious_data = novgan_trafic_input.hurting(x=x_test_bad, print_mode=False,title=\"Real Data\")"
   ]
  },
  {
   "cell_type": "code",
   "execution_count": 70,
   "metadata": {},
   "outputs": [],
   "source": [
    "y_pred= [eigth_threshold(b) for b in benin_data] + [eigth_threshold(m) for m in malicious_data] "
   ]
  },
  {
   "cell_type": "code",
   "execution_count": 71,
   "metadata": {},
   "outputs": [],
   "source": [
    "y_true = [.0 for _ in benin_data] + [1.0 for _ in malicious_data]"
   ]
  },
  {
   "cell_type": "code",
   "execution_count": 72,
   "metadata": {},
   "outputs": [],
   "source": [
    "from sklearn.metrics import confusion_matrix as confusion_matrix, precision_score,f1_score, recall_score, accuracy_score\n"
   ]
  },
  {
   "cell_type": "code",
   "execution_count": 75,
   "metadata": {},
   "outputs": [
    {
     "data": {
      "text/plain": [
       "0.912468019785093"
      ]
     },
     "execution_count": 75,
     "metadata": {},
     "output_type": "execute_result"
    }
   ],
   "source": [
    "recall_score(y_pred=y_pred, y_true=y_true)"
   ]
  },
  {
   "cell_type": "code",
   "execution_count": 76,
   "metadata": {},
   "outputs": [
    {
     "data": {
      "text/plain": [
       "0.8942116435723001"
      ]
     },
     "execution_count": 76,
     "metadata": {},
     "output_type": "execute_result"
    }
   ],
   "source": [
    "precision_score(y_pred=y_pred, y_true=y_true)"
   ]
  },
  {
   "cell_type": "code",
   "execution_count": 77,
   "metadata": {},
   "outputs": [
    {
     "data": {
      "text/plain": [
       "0.9032475919531983"
      ]
     },
     "execution_count": 77,
     "metadata": {},
     "output_type": "execute_result"
    }
   ],
   "source": [
    "f1_score(y_pred=y_pred, y_true=y_true)"
   ]
  },
  {
   "cell_type": "code",
   "execution_count": 78,
   "metadata": {},
   "outputs": [
    {
     "data": {
      "text/plain": [
       "0.9090201868654394"
      ]
     },
     "execution_count": 78,
     "metadata": {},
     "output_type": "execute_result"
    }
   ],
   "source": [
    "accuracy_score(y_pred=y_pred, y_true=y_true)"
   ]
  },
  {
   "cell_type": "code",
   "execution_count": null,
   "metadata": {},
   "outputs": [],
   "source": []
  },
  {
   "cell_type": "code",
   "execution_count": null,
   "metadata": {},
   "outputs": [],
   "source": []
  },
  {
   "cell_type": "code",
   "execution_count": null,
   "metadata": {},
   "outputs": [],
   "source": []
  },
  {
   "cell_type": "code",
   "execution_count": null,
   "metadata": {},
   "outputs": [],
   "source": []
  }
 ],
 "metadata": {
  "kernelspec": {
   "display_name": "Python 3",
   "language": "python",
   "name": "python3"
  },
  "language_info": {
   "codemirror_mode": {
    "name": "ipython",
    "version": 3
   },
   "file_extension": ".py",
   "mimetype": "text/x-python",
   "name": "python",
   "nbconvert_exporter": "python",
   "pygments_lexer": "ipython3",
   "version": "3.7.3"
  }
 },
 "nbformat": 4,
 "nbformat_minor": 2
}
