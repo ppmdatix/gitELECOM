{
 "cells": [
  {
   "cell_type": "code",
   "execution_count": 1,
   "metadata": {},
   "outputs": [
    {
     "name": "stderr",
     "output_type": "stream",
     "text": [
      "Using TensorFlow backend.\n"
     ]
    }
   ],
   "source": [
    "from loadingCGAN.novgan_trafic_input import Novgan_trafic_input\n",
    "from load_data.load_data import load_data\n",
    "from utils.config_novgan_trafic_input import *\n",
    "from loadingCGAN.utils_cgan import creating_dico_index\n",
    "from time import time\n",
    "import numpy as np\n",
    "from loadingCGAN.utils_cgan import save_time"
   ]
  },
  {
   "cell_type": "code",
   "execution_count": 2,
   "metadata": {},
   "outputs": [
    {
     "name": "stderr",
     "output_type": "stream",
     "text": [
      "/home/peseux/.local/lib/python3.6/site-packages/sklearn/preprocessing/data.py:334: DataConversionWarning: Data with input dtype uint8, int64, float64 were all converted to float64 by MinMaxScaler.\n",
      "  return self.partial_fit(X, y)\n",
      "/home/peseux/.local/lib/python3.6/site-packages/sklearn/preprocessing/data.py:334: DataConversionWarning: Data with input dtype uint8, int64, float64 were all converted to float64 by MinMaxScaler.\n",
      "  return self.partial_fit(X, y)\n"
     ]
    },
    {
     "name": "stdout",
     "output_type": "stream",
     "text": [
      "Train data shape is (86174, 115)\n",
      "Test data shape is (86174, 115)\n",
      "\n",
      "  \n",
      " \n",
      " \n",
      "  \n",
      " \n",
      " \n",
      "Train data shape is (65458, 115)\n",
      "\n",
      "  \n",
      " \n",
      " \n",
      "  \n",
      " \n",
      " \n",
      "x_train overview\n",
      "        0         1         2    3    4         5    6    7    8    9    ...  \\\n",
      "0 -1.000000 -0.999975 -0.999891 -1.0 -1.0 -1.000000 -1.0 -1.0 -1.0 -1.0  ...   \n",
      "1 -0.998667 -0.999880 -0.998383 -1.0 -1.0 -0.220779 -1.0 -1.0 -1.0 -1.0  ...   \n",
      "2 -1.000000 -0.999990 -1.000000 -1.0 -1.0 -1.000000 -1.0 -1.0 -1.0 -1.0  ...   \n",
      "3 -1.000000 -0.999974 -0.999849 -1.0 -1.0 -1.000000 -1.0 -1.0 -1.0 -1.0  ...   \n",
      "4 -1.000000 -0.999872 -0.999849 -1.0 -1.0 -1.000000 -1.0 -1.0 -1.0 -1.0  ...   \n",
      "\n",
      "   105  106  107  108  109  110  111  112  113  114  \n",
      "0 -1.0 -1.0 -1.0 -1.0 -1.0 -1.0 -1.0 -1.0 -1.0 -1.0  \n",
      "1 -1.0 -1.0 -1.0 -1.0 -1.0 -1.0 -1.0 -1.0 -1.0 -1.0  \n",
      "2 -1.0 -1.0 -1.0 -1.0 -1.0  1.0 -1.0 -1.0 -1.0 -1.0  \n",
      "3 -1.0 -1.0 -1.0 -1.0 -1.0 -1.0 -1.0 -1.0 -1.0 -1.0  \n",
      "4 -1.0 -1.0 -1.0 -1.0 -1.0 -1.0 -1.0 -1.0 -1.0 -1.0  \n",
      "\n",
      "[5 rows x 115 columns]\n",
      "\n",
      "  \n",
      " \n",
      " \n",
      "  \n",
      " \n",
      " \n",
      "y_train overview\n",
      "     0\n",
      "0  0.0\n",
      "1  0.0\n",
      "2  0.0\n",
      "3  0.0\n",
      "4  0.0\n",
      "\n",
      "  \n",
      " \n",
      " \n",
      "  \n",
      " \n",
      " \n"
     ]
    }
   ],
   "source": [
    "########\n",
    "# DATA #\n",
    "########\n",
    "x_train, _, y_train, _, x_balanced_train, _, x_test, y_test, colnames = load_data(place=place,\n",
    "                                                                                  attack_mode=attack_mode,\n",
    "                                                                                  attack=attack,\n",
    "                                                                                  nrows=nrows,\n",
    "                                                                                  cv_size=cv_size,\n",
    "                                                                                  log_transform=False,\n",
    "                                                                                  shuffle=shuffle,\n",
    "                                                                                  return_colnames=True)\n",
    "x_train_bad = np.array([x for x, y in zip(x_train, y_train) if int(y) == 1])\n",
    "x_train = np.array([x for x, y in zip(x_train, y_train) if int(y) == 0])\n",
    "\n",
    "x_test_bad = np.array([x for x, y in zip(x_test, y_test) if int(y) == 1])\n",
    "x_test = np.array([x for x, y in zip(x_test, y_test) if int(y) == 0])\n",
    "\n",
    "\n",
    "if balanced_train_size is not None:\n",
    "    x_balanced_train = x_balanced_train[:balanced_train_size]\n",
    "\n",
    "data_dim = x_train.shape[1]\n",
    "dico_index = creating_dico_index(colnames=colnames)"
   ]
  },
  {
   "cell_type": "code",
   "execution_count": 3,
   "metadata": {},
   "outputs": [
    {
     "name": "stdout",
     "output_type": "stream",
     "text": [
      "WARNING:tensorflow:From /home/peseux/.local/lib/python3.6/site-packages/tensorflow/python/framework/op_def_library.py:263: colocate_with (from tensorflow.python.framework.ops) is deprecated and will be removed in a future version.\n",
      "Instructions for updating:\n",
      "Colocations handled automatically by placer.\n",
      "CHOSEN OPTIMIZER IS ADAM\n",
      "WARNING:tensorflow:From /home/peseux/.local/lib/python3.6/site-packages/keras/backend/tensorflow_backend.py:3445: calling dropout (from tensorflow.python.ops.nn_ops) with keep_prob is deprecated and will be removed in a future version.\n",
      "Instructions for updating:\n",
      "Please use `rate` instead of `keep_prob`. Rate should be set to `rate = 1 - keep_prob`.\n",
      "\n",
      " \n",
      " Generator Architecture \n",
      "_________________________________________________________________\n",
      "Layer (type)                 Output Shape              Param #   \n",
      "=================================================================\n",
      "dense_1 (Dense)              (None, 256)               32000     \n",
      "_________________________________________________________________\n",
      "leaky_re_lu_1 (LeakyReLU)    (None, 256)               0         \n",
      "_________________________________________________________________\n",
      "dense_2 (Dense)              (None, 128)               32896     \n",
      "_________________________________________________________________\n",
      "batch_normalization_1 (Batch (None, 128)               512       \n",
      "_________________________________________________________________\n",
      "dropout_1 (Dropout)          (None, 128)               0         \n",
      "_________________________________________________________________\n",
      "leaky_re_lu_2 (LeakyReLU)    (None, 128)               0         \n",
      "_________________________________________________________________\n",
      "dense_3 (Dense)              (None, 115)               14835     \n",
      "=================================================================\n",
      "Total params: 80,243\n",
      "Trainable params: 79,987\n",
      "Non-trainable params: 256\n",
      "_________________________________________________________________\n",
      "\n",
      " \n",
      " Discriminator Architecture \n",
      "_________________________________________________________________\n",
      "Layer (type)                 Output Shape              Param #   \n",
      "=================================================================\n",
      "dense_4 (Dense)              (None, 18)                2088      \n",
      "_________________________________________________________________\n",
      "leaky_re_lu_3 (LeakyReLU)    (None, 18)                0         \n",
      "_________________________________________________________________\n",
      "dropout_2 (Dropout)          (None, 18)                0         \n",
      "_________________________________________________________________\n",
      "dense_5 (Dense)              (None, 12)                228       \n",
      "_________________________________________________________________\n",
      "leaky_re_lu_4 (LeakyReLU)    (None, 12)                0         \n",
      "_________________________________________________________________\n",
      "dropout_3 (Dropout)          (None, 12)                0         \n",
      "_________________________________________________________________\n",
      "dense_6 (Dense)              (None, 10)                130       \n",
      "_________________________________________________________________\n",
      "leaky_re_lu_5 (LeakyReLU)    (None, 10)                0         \n",
      "_________________________________________________________________\n",
      "dropout_4 (Dropout)          (None, 10)                0         \n",
      "_________________________________________________________________\n",
      "dense_7 (Dense)              (None, 1)                 11        \n",
      "=================================================================\n",
      "Total params: 2,457\n",
      "Trainable params: 2,457\n",
      "Non-trainable params: 0\n",
      "_________________________________________________________________\n"
     ]
    }
   ],
   "source": [
    "##########\n",
    "# NovGan #\n",
    "##########\n",
    "novgan_trafic_input = Novgan_trafic_input(data_dim=data_dim, activation=activation, verbose=True,\n",
    "                                          noise_dim=noise_dim,\n",
    "                                          leaky_relu=leaky_relu, offset=offset, alpha=alpha, dropout=dropout,\n",
    "                                          dico_index=dico_index,\n",
    "                                          noise=\"normal\",\n",
    "                                          smooth_one=smooth_one,\n",
    "                                          smooth_zero=smooth_zero, batch_size=batch_size)"
   ]
  },
  {
   "cell_type": "code",
   "execution_count": 4,
   "metadata": {},
   "outputs": [
    {
     "name": "stdout",
     "output_type": "stream",
     "text": [
      "# Epoch 0/100\n",
      "WARNING:tensorflow:From /home/peseux/.local/lib/python3.6/site-packages/tensorflow/python/ops/math_ops.py:3066: to_int32 (from tensorflow.python.ops.math_ops) is deprecated and will be removed in a future version.\n",
      "Instructions for updating:\n",
      "Use tf.cast instead.\n"
     ]
    },
    {
     "name": "stderr",
     "output_type": "stream",
     "text": [
      "/home/peseux/.local/lib/python3.6/site-packages/keras/engine/training.py:490: UserWarning: Discrepancy between trainable weights and collected trainable weights, did you set `model.trainable` without calling `model.compile` after ?\n",
      "  'Discrepancy between trainable weights and collected trainable'\n"
     ]
    },
    {
     "name": "stdout",
     "output_type": "stream",
     "text": [
      "# Epoch 1/100\n",
      "# Epoch 2/100\n",
      "# Epoch 3/100\n",
      "# Epoch 4/100\n",
      "# Epoch 5/100\n",
      "# Epoch 6/100\n",
      "# Epoch 7/100\n",
      "# Epoch 8/100\n",
      "# Epoch 9/100\n",
      "# Epoch 10/100\n",
      "# Epoch 11/100\n",
      "# Epoch 12/100\n",
      "# Epoch 13/100\n",
      "# Epoch 14/100\n",
      "# Epoch 15/100\n",
      "# Epoch 16/100\n",
      "# Epoch 17/100\n",
      "# Epoch 18/100\n",
      "# Epoch 19/100\n",
      "# Epoch 20/100\n",
      "# Epoch 21/100\n",
      "# Epoch 22/100\n",
      "# Epoch 23/100\n",
      "# Epoch 24/100\n",
      "# Epoch 25/100\n",
      "# Epoch 26/100\n",
      "# Epoch 27/100\n",
      "# Epoch 28/100\n",
      "# Epoch 29/100\n",
      "# Epoch 30/100\n",
      "# Epoch 31/100\n",
      "# Epoch 32/100\n",
      "# Epoch 33/100\n",
      "# Epoch 34/100\n",
      "# Epoch 35/100\n",
      "# Epoch 36/100\n",
      "# Epoch 37/100\n",
      "# Epoch 38/100\n",
      "# Epoch 39/100\n",
      "# Epoch 40/100\n",
      "# Epoch 41/100\n",
      "# Epoch 42/100\n",
      "# Epoch 43/100\n",
      "# Epoch 44/100\n",
      "# Epoch 45/100\n",
      "# Epoch 46/100\n",
      "# Epoch 47/100\n",
      "# Epoch 48/100\n",
      "# Epoch 49/100\n",
      "# Epoch 50/100\n",
      "# Epoch 51/100\n",
      "# Epoch 52/100\n",
      "# Epoch 53/100\n",
      "# Epoch 54/100\n",
      "# Epoch 55/100\n",
      "# Epoch 56/100\n",
      "# Epoch 57/100\n",
      "# Epoch 58/100\n",
      "# Epoch 59/100\n",
      "# Epoch 60/100\n",
      "# Epoch 61/100\n",
      "# Epoch 62/100\n",
      "# Epoch 63/100\n",
      "# Epoch 64/100\n",
      "# Epoch 65/100\n",
      "# Epoch 66/100\n",
      "# Epoch 67/100\n",
      "# Epoch 68/100\n",
      "# Epoch 69/100\n",
      "# Epoch 70/100\n",
      "# Epoch 71/100\n",
      "# Epoch 72/100\n",
      "# Epoch 73/100\n",
      "# Epoch 74/100\n",
      "# Epoch 75/100\n",
      "# Epoch 76/100\n",
      "# Epoch 77/100\n",
      "# Epoch 78/100\n",
      "# Epoch 79/100\n",
      "# Epoch 80/100\n",
      "# Epoch 81/100\n",
      "# Epoch 82/100\n",
      "# Epoch 83/100\n",
      "# Epoch 84/100\n",
      "# Epoch 85/100\n",
      "# Epoch 86/100\n",
      "# Epoch 87/100\n",
      "# Epoch 88/100\n",
      "# Epoch 89/100\n",
      "# Epoch 90/100\n",
      "# Epoch 91/100\n",
      "# Epoch 92/100\n",
      "# Epoch 93/100\n",
      "# Epoch 94/100\n",
      "# Epoch 95/100\n",
      "# Epoch 96/100\n",
      "# Epoch 97/100\n",
      "# Epoch 98/100\n",
      "# Epoch 99/100\n"
     ]
    },
    {
     "data": {
      "image/png": "[encoded data removed]",
      "text/plain": [
       "<Figure size 432x288 with 1 Axes>"
      ]
     },
     "metadata": {
      "needs_background": "light"
     },
     "output_type": "display_data"
    },
    {
     "data": {
      "image/png": "[encoded data removed]",
      "text/plain": [
       "<Figure size 432x288 with 1 Axes>"
      ]
     },
     "metadata": {
      "needs_background": "light"
     },
     "output_type": "display_data"
    },
    {
     "data": {
      "image/png": "[encoded data removed]",
      "text/plain": [
       "<Figure size 432x288 with 1 Axes>"
      ]
     },
     "metadata": {
      "needs_background": "light"
     },
     "output_type": "display_data"
    },
    {
     "data": {
      "text/plain": [
       "array([0.97572952, 0.97572952, 0.97572952, ..., 0.97572952, 0.97572952,\n",
       "       0.97572952])"
      ]
     },
     "execution_count": 4,
     "metadata": {},
     "output_type": "execute_result"
    }
   ],
   "source": [
    "############\n",
    "# Training #\n",
    "############\n",
    "start = time()\n",
    "learned = novgan_trafic_input.train(x_train=x_train, epochs=epochs,\n",
    "                                    x_train_bad=x_train_bad,\n",
    "                                    print_recap=True)\n",
    "end = time()\n",
    "duration = end - start\n",
    "save_time(duration=duration, location=\"tmp/\", title=title)\n",
    "\n",
    "novgan_trafic_input.hurting(x=x_test, title=\"benin test\", print_mode=True)\n",
    "novgan_trafic_input.hurting(x=x_test_bad, title=\"malveillant test\", print_mode=True)"
   ]
  },
  {
   "cell_type": "code",
   "execution_count": 5,
   "metadata": {},
   "outputs": [],
   "source": [
    "generated = novgan_trafic_input.generate(number=10000, x_bad=x_test[:1000])"
   ]
  },
  {
   "cell_type": "code",
   "execution_count": 6,
   "metadata": {},
   "outputs": [
    {
     "name": "stdout",
     "output_type": "stream",
     "text": [
      "Epoch 1/10\n",
      "42707/42707 [==============================] - 2s 38us/step - loss: 1.4687\n",
      "Epoch 2/10\n",
      "42707/42707 [==============================] - 1s 19us/step - loss: 0.9169\n",
      "Epoch 3/10\n",
      "42707/42707 [==============================] - 1s 19us/step - loss: 0.7149\n",
      "Epoch 4/10\n",
      "42707/42707 [==============================] - 1s 18us/step - loss: 0.5926\n",
      "Epoch 5/10\n",
      "42707/42707 [==============================] - 1s 20us/step - loss: 0.4969\n",
      "Epoch 6/10\n",
      "42707/42707 [==============================] - 1s 21us/step - loss: 0.4171\n",
      "Epoch 7/10\n",
      "42707/42707 [==============================] - 1s 23us/step - loss: 0.3474\n",
      "Epoch 8/10\n",
      "42707/42707 [==============================] - 1s 20us/step - loss: 0.2874\n",
      "Epoch 9/10\n",
      "42707/42707 [==============================] - 1s 21us/step - loss: 0.2352\n",
      "Epoch 10/10\n",
      "42707/42707 [==============================] - 1s 19us/step - loss: 0.1901\n"
     ]
    }
   ],
   "source": [
    "from __future__ import print_function, division\n",
    "from keras.layers import Input, Dense, Flatten, Dropout, BatchNormalization\n",
    "from keras.layers.advanced_activations import LeakyReLU\n",
    "from keras.models import Sequential, Model\n",
    "from keras.optimizers import Adam\n",
    "import numpy as np\n",
    "from keras.initializers import glorot_uniform\n",
    "\n",
    "\n",
    "\n",
    "leaky_relu = .1\n",
    "auto_encoder  = Sequential()\n",
    "auto_encoder.add(Dense(64,\n",
    "                    input_dim=data_dim,\n",
    "                    kernel_initializer=glorot_uniform()))\n",
    "auto_encoder.add(LeakyReLU(leaky_relu))\n",
    "auto_encoder.add(Dense(32))\n",
    "auto_encoder.add(LeakyReLU(leaky_relu))\n",
    "auto_encoder.add(BatchNormalization())\n",
    "auto_encoder.add(Dense(data_dim))\n",
    "auto_encoder.add(LeakyReLU(leaky_relu))\n",
    "auto_encoder.add(Dense(data_dim))\n",
    "auto_encoder.add(BatchNormalization())\n",
    "auto_encoder.compile(loss=\"mse\",optimizer=Adam(0.0002, 0.5))\n",
    "auto_encoder.fit(x_train, x_train, epochs=10, batch_size=128)\n",
    "x_ae_test = auto_encoder.predict(x_test_bad)"
   ]
  },
  {
   "cell_type": "code",
   "execution_count": 7,
   "metadata": {},
   "outputs": [
    {
     "data": {
      "text/plain": [
       "(42707, 115)"
      ]
     },
     "execution_count": 7,
     "metadata": {},
     "output_type": "execute_result"
    }
   ],
   "source": [
    "x_train.shape"
   ]
  },
  {
   "cell_type": "code",
   "execution_count": 16,
   "metadata": {},
   "outputs": [],
   "source": [
    "x10 = auto_encoder.predict(x_test[:100].reshape(((100,115))))\n",
    "x1 = auto_encoder.predict(x_test[0].reshape(((1,115))))"
   ]
  },
  {
   "cell_type": "code",
   "execution_count": 18,
   "metadata": {},
   "outputs": [
    {
     "data": {
      "text/plain": [
       "7.748604e-07"
      ]
     },
     "execution_count": 18,
     "metadata": {},
     "output_type": "execute_result"
    }
   ],
   "source": [
    "np.max(x1[0] - x10[0])"
   ]
  },
  {
   "cell_type": "code",
   "execution_count": 9,
   "metadata": {},
   "outputs": [
    {
     "data": {
      "text/plain": [
       "PCA(copy=True, iterated_power='auto', n_components=2, random_state=None,\n",
       "  svd_solver='auto', tol=0.0, whiten=False)"
      ]
     },
     "execution_count": 9,
     "metadata": {},
     "output_type": "execute_result"
    }
   ],
   "source": [
    "import numpy as np\n",
    "from sklearn.decomposition import PCA\n",
    "pca = PCA(n_components=2)\n",
    "pca.fit(x_train)  "
   ]
  },
  {
   "cell_type": "code",
   "execution_count": 10,
   "metadata": {},
   "outputs": [],
   "source": [
    "x_pca = pca.transform(x_train)\n",
    "x_pca_gen = pca.transform(generated)\n",
    "x_pca_ae = pca.transform(x_train_bad)"
   ]
  },
  {
   "cell_type": "code",
   "execution_count": 11,
   "metadata": {},
   "outputs": [],
   "source": [
    "from matplotlib import pyplot as plt"
   ]
  },
  {
   "cell_type": "code",
   "execution_count": 12,
   "metadata": {},
   "outputs": [
    {
     "data": {
      "image/png": "[encoded data removed]",
      "text/plain": [
       "<Figure size 432x288 with 1 Axes>"
      ]
     },
     "metadata": {
      "needs_background": "light"
     },
     "output_type": "display_data"
    }
   ],
   "source": [
    "plt.scatter(x_pca[:,0].tolist(),x_pca[:,1].tolist(), label=\"x_test\")\n",
    "plt.scatter(x_pca_gen[:,0].tolist(),x_pca_gen[:,1].tolist(), label=\"generated\")\n",
    "# plt.scatter(x_pca_ae[:,0].tolist(),x_pca_ae[:,1].tolist(), label=\"auto_encoded\")\n",
    "plt.legend()\n",
    "plt.show()\n",
    "plt.close()"
   ]
  },
  {
   "cell_type": "code",
   "execution_count": 13,
   "metadata": {},
   "outputs": [
    {
     "data": {
      "image/png": "[encoded data removed]",
      "text/plain": [
       "<Figure size 432x288 with 1 Axes>"
      ]
     },
     "metadata": {
      "needs_background": "light"
     },
     "output_type": "display_data"
    },
    {
     "data": {
      "image/png": "[encoded data removed]",
      "text/plain": [
       "<Figure size 432x288 with 1 Axes>"
      ]
     },
     "metadata": {
      "needs_background": "light"
     },
     "output_type": "display_data"
    },
    {
     "data": {
      "text/plain": [
       "array([0.29741696, 0.2567965 , 0.35987151, ..., 0.97572952, 0.24951506,\n",
       "       0.51835766])"
      ]
     },
     "execution_count": 13,
     "metadata": {},
     "output_type": "execute_result"
    }
   ],
   "source": [
    "############\n",
    "# Plotting #\n",
    "############\n",
    "novgan_trafic_input.hurting(x=x_test, print_mode=True,title=\"Real Data\")\n",
    "novgan_trafic_input.hurting(x=novgan_trafic_input.generate(number=len(x_test), x_bad=x_test_bad[:len(x_test)]),\n",
    "               print_mode=True,\n",
    "               title=\"Generated Data\")"
   ]
  },
  {
   "cell_type": "code",
   "execution_count": 14,
   "metadata": {},
   "outputs": [],
   "source": [
    "noise = np.random.random(114).reshape((1,114))"
   ]
  },
  {
   "cell_type": "code",
   "execution_count": null,
   "metadata": {},
   "outputs": [],
   "source": []
  },
  {
   "cell_type": "code",
   "execution_count": null,
   "metadata": {},
   "outputs": [],
   "source": []
  },
  {
   "cell_type": "code",
   "execution_count": null,
   "metadata": {},
   "outputs": [],
   "source": []
  }
 ],
 "metadata": {
  "kernelspec": {
   "display_name": "Python 3",
   "language": "python",
   "name": "python3"
  },
  "language_info": {
   "codemirror_mode": {
    "name": "ipython",
    "version": 3
   },
   "file_extension": ".py",
   "mimetype": "text/x-python",
   "name": "python",
   "nbconvert_exporter": "python",
   "pygments_lexer": "ipython3",
   "version": "3.6.7"
  }
 },
 "nbformat": 4,
 "nbformat_minor": 2
}
