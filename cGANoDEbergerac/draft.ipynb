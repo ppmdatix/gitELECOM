{
 "cells": [
  {
   "cell_type": "code",
   "execution_count": 1,
   "metadata": {},
   "outputs": [
    {
     "name": "stderr",
     "output_type": "stream",
     "text": [
      "Using TensorFlow backend.\n"
     ]
    }
   ],
   "source": [
    "from loadingCGAN.novgan import Novgan\n",
    "from load_data.load_data import load_data\n",
    "from utils.config_novgan import nrows, place, activation, latent_dim, leaky_relu, alpha, offset\n",
    "from utils.config_novgan import balanced_train_size, shuffle, cv_size, smooth_one, smooth_zero, batch_size\n",
    "from loadingCGAN.utils_cgan import creating_dico_index"
   ]
  },
  {
   "cell_type": "code",
   "execution_count": 2,
   "metadata": {},
   "outputs": [
    {
     "name": "stderr",
     "output_type": "stream",
     "text": [
      "/home/peseux/.local/lib/python3.6/site-packages/sklearn/preprocessing/data.py:334: DataConversionWarning: Data with input dtype uint8, int64, float64 were all converted to float64 by MinMaxScaler.\n",
      "  return self.partial_fit(X, y)\n",
      "/home/peseux/.local/lib/python3.6/site-packages/sklearn/preprocessing/data.py:334: DataConversionWarning: Data with input dtype uint8, int64, float64 were all converted to float64 by MinMaxScaler.\n",
      "  return self.partial_fit(X, y)\n"
     ]
    },
    {
     "name": "stdout",
     "output_type": "stream",
     "text": [
      "122\n"
     ]
    }
   ],
   "source": [
    "# DATA\n",
    "x_train, x_train_cv, y_train, y_train_cv, x_balanced_train, y_balanced_train, x_test, y_test, colnames = load_data(place=place,\n",
    "                                                                                                                   verbose=False,\n",
    "                                                                                                                   nrows=nrows,\n",
    "                                                                                                                   cv_size=cv_size,\n",
    "                                                                                                                   log_transform=True,\n",
    "                                                                                                                   shuffle=shuffle, return_colnames=True)\n",
    "if balanced_train_size is not None:\n",
    "    x_balanced_train, y_balanced_train = x_balanced_train[:balanced_train_size], y_balanced_train[:balanced_train_size]\n",
    "\n",
    "data_dim = x_train.shape[1]\n",
    "\n",
    "print(data_dim)"
   ]
  },
  {
   "cell_type": "code",
   "execution_count": 3,
   "metadata": {},
   "outputs": [
    {
     "name": "stdout",
     "output_type": "stream",
     "text": [
      "{'num_access_files': 11, 'num_shells': 10, 'src_bytes': 1, 'dst_bytes': 2, 'root_shell': 34, 'num_root': 8, 'su_attempted': 37, 'num_file_creations': 9}\n"
     ]
    }
   ],
   "source": [
    "dico_index = creating_dico_index(colnames=colnames)\n",
    "\n",
    "print(dico_index)"
   ]
  },
  {
   "cell_type": "markdown",
   "metadata": {},
   "source": [
    "# NovGan "
   ]
  },
  {
   "cell_type": "code",
   "execution_count": 4,
   "metadata": {},
   "outputs": [
    {
     "name": "stdout",
     "output_type": "stream",
     "text": [
      "WARNING:tensorflow:From /home/peseux/.local/lib/python3.6/site-packages/tensorflow/python/framework/op_def_library.py:263: colocate_with (from tensorflow.python.framework.ops) is deprecated and will be removed in a future version.\n",
      "Instructions for updating:\n",
      "Colocations handled automatically by placer.\n",
      "CHOSEN OPTIMIZER IS ADAM\n",
      "\n",
      " \n",
      " Generator Architecture \n",
      "_________________________________________________________________\n",
      "Layer (type)                 Output Shape              Param #   \n",
      "=================================================================\n",
      "dense_1 (Dense)              (None, 64)                3264      \n",
      "_________________________________________________________________\n",
      "leaky_re_lu_1 (LeakyReLU)    (None, 64)                0         \n",
      "_________________________________________________________________\n",
      "dense_2 (Dense)              (None, 128)               8320      \n",
      "_________________________________________________________________\n",
      "leaky_re_lu_2 (LeakyReLU)    (None, 128)               0         \n",
      "_________________________________________________________________\n",
      "dense_3 (Dense)              (None, 122)               15738     \n",
      "=================================================================\n",
      "Total params: 27,322\n",
      "Trainable params: 27,322\n",
      "Non-trainable params: 0\n",
      "_________________________________________________________________\n",
      "WARNING:tensorflow:From /home/peseux/.local/lib/python3.6/site-packages/keras/backend/tensorflow_backend.py:3445: calling dropout (from tensorflow.python.ops.nn_ops) with keep_prob is deprecated and will be removed in a future version.\n",
      "Instructions for updating:\n",
      "Please use `rate` instead of `keep_prob`. Rate should be set to `rate = 1 - keep_prob`.\n"
     ]
    }
   ],
   "source": [
    "novgan = Novgan(data_dim=data_dim, activation=activation, verbose=True,\n",
    "                latent_dim=latent_dim,\n",
    "                leaky_relu=leaky_relu, offset=0, alpha=0, dropout=.2,\n",
    "                dico_index=dico_index,\n",
    "                noise=\"normal\",\n",
    "                smooth_one=smooth_one, smooth_zero=smooth_zero, batch_size=batch_size)"
   ]
  },
  {
   "cell_type": "code",
   "execution_count": 5,
   "metadata": {},
   "outputs": [],
   "source": [
    "import numpy as np\n",
    "number = 10\n",
    "noise = np.random.normal(0, 1, (number, latent_dim))"
   ]
  },
  {
   "cell_type": "code",
   "execution_count": 6,
   "metadata": {},
   "outputs": [
    {
     "name": "stdout",
     "output_type": "stream",
     "text": [
      "\r",
      "10/10 [==============================] - 0s 19ms/step\n"
     ]
    },
    {
     "data": {
      "text/plain": [
       "0.0"
      ]
     },
     "execution_count": 6,
     "metadata": {},
     "output_type": "execute_result"
    }
   ],
   "source": [
    "novgan.gan.evaluate(noise, np.ones(10))"
   ]
  },
  {
   "cell_type": "code",
   "execution_count": 7,
   "metadata": {},
   "outputs": [
    {
     "name": "stdout",
     "output_type": "stream",
     "text": [
      "\r",
      "1/1 [==============================] - 0s 35ms/step\n"
     ]
    },
    {
     "data": {
      "text/plain": [
       "1.227900505065918"
      ]
     },
     "execution_count": 7,
     "metadata": {},
     "output_type": "execute_result"
    }
   ],
   "source": [
    "novgan.discriminator.evaluate(x_test[:1], np.zeros(1))"
   ]
  },
  {
   "cell_type": "code",
   "execution_count": 8,
   "metadata": {},
   "outputs": [
    {
     "data": {
      "text/plain": [
       "array([[-0.17393297, -0.05017926,  0.63855124, -0.68167746,  0.79730505,\n",
       "         0.6698461 , -0.6795225 , -0.4336543 ,  0.19987506, -0.58326036,\n",
       "        -0.03647175, -0.12835161, -0.18921055, -0.2611269 , -0.5331572 ,\n",
       "        -0.03823943, -0.5390991 ,  0.17482895, -0.03421913,  0.23424318,\n",
       "        -0.2516661 , -0.28031838,  0.41460148, -0.24916476, -0.23649676,\n",
       "        -0.42526802, -0.6372372 , -0.57204336, -0.31591576, -0.34322208,\n",
       "         0.2969796 ,  0.52028865, -0.7144775 ,  0.449537  , -0.39133796,\n",
       "        -0.06690567,  0.25431183, -0.01308552, -0.6212097 , -0.5233844 ,\n",
       "        -0.5258357 ,  0.4475483 , -0.08575715, -0.6184805 ,  0.7461466 ,\n",
       "         0.26347914, -0.23528472,  0.18306154, -0.24346247, -0.5968913 ,\n",
       "         0.13182487,  0.00543348, -0.37800494,  0.24745482, -0.43676862,\n",
       "        -0.1279283 , -0.01116381, -0.44437763, -0.7079109 ,  0.02511819,\n",
       "         0.81175053,  0.7839261 ,  0.16004546, -0.3935713 , -0.46733332,\n",
       "         0.20589358,  0.11639372,  0.13610983,  0.17755951, -0.68268937,\n",
       "         0.46012625, -0.2599182 , -0.10085806,  0.08428767, -0.3208036 ,\n",
       "         0.04290146, -0.5624811 ,  0.32826808, -0.06071098, -0.07401463,\n",
       "        -0.35110646,  0.62134564, -0.5432746 , -0.749737  ,  0.7500434 ,\n",
       "         0.5300467 , -0.06731536,  0.08836786,  0.53224146, -0.42295524,\n",
       "         0.11356142,  0.21377717, -0.1126622 ,  0.24887086,  0.560632  ,\n",
       "         0.32317957, -0.55965126, -0.6747431 , -0.0435586 ,  0.3674776 ,\n",
       "         0.39669606, -0.08842891,  0.2636073 ,  0.5677195 ,  0.63247126,\n",
       "        -0.00720256, -0.15875779,  0.3183771 , -0.45193666, -0.3702534 ,\n",
       "        -0.27837864,  0.40950954, -0.05147526,  0.26651457, -0.3378004 ,\n",
       "         0.6789819 ,  0.24022275,  0.01520568, -0.77427566,  0.52899307,\n",
       "        -0.46503916, -0.20583495]], dtype=float32)"
      ]
     },
     "execution_count": 8,
     "metadata": {},
     "output_type": "execute_result"
    }
   ],
   "source": [
    "novgan.generate(1)"
   ]
  },
  {
   "cell_type": "code",
   "execution_count": 9,
   "metadata": {},
   "outputs": [
    {
     "name": "stdout",
     "output_type": "stream",
     "text": [
      "WARNING:tensorflow:From /home/peseux/.local/lib/python3.6/site-packages/tensorflow/python/ops/math_ops.py:3066: to_int32 (from tensorflow.python.ops.math_ops) is deprecated and will be removed in a future version.\n",
      "Instructions for updating:\n",
      "Use tf.cast instead.\n"
     ]
    },
    {
     "name": "stderr",
     "output_type": "stream",
     "text": [
      "/home/peseux/.local/lib/python3.6/site-packages/keras/engine/training.py:490: UserWarning: Discrepancy between trainable weights and collected trainable weights, did you set `model.trainable` without calling `model.compile` after ?\n",
      "  'Discrepancy between trainable weights and collected trainable'\n"
     ]
    },
    {
     "name": "stdout",
     "output_type": "stream",
     "text": [
      "nan\n",
      "nan\n",
      "nan\n",
      "nan\n",
      "nan\n",
      "nan\n",
      "nan\n",
      "nan\n",
      "nan\n",
      "nan\n",
      "nan\n",
      "nan\n",
      "nan\n",
      "nan\n",
      "nan\n",
      "nan\n",
      "nan\n",
      "nan\n",
      "nan\n",
      "nan\n",
      "[nan, nan, nan, nan, nan, nan, nan, nan, nan, nan]\n"
     ]
    },
    {
     "data": {
      "image/png": "[encoded data removed]",
      "text/plain": [
       "<Figure size 432x288 with 1 Axes>"
      ]
     },
     "metadata": {
      "needs_background": "light"
     },
     "output_type": "display_data"
    },
    {
     "data": {
      "text/plain": [
       "True"
      ]
     },
     "execution_count": 9,
     "metadata": {},
     "output_type": "execute_result"
    }
   ],
   "source": [
    "learned = novgan.train(x_train=x_train, epochs=10, print_recap=False)\n",
    "\n",
    "\n",
    "novgan.plot_learning()"
   ]
  },
  {
   "cell_type": "code",
   "execution_count": 10,
   "metadata": {},
   "outputs": [
    {
     "data": {
      "text/plain": [
       "([nan, nan, nan, nan, nan, nan, nan, nan, nan, nan],\n",
       " [nan, nan, nan, nan, nan, nan, nan, nan, nan, nan])"
      ]
     },
     "execution_count": 10,
     "metadata": {},
     "output_type": "execute_result"
    }
   ],
   "source": [
    "learned"
   ]
  },
  {
   "cell_type": "code",
   "execution_count": null,
   "metadata": {},
   "outputs": [],
   "source": []
  }
 ],
 "metadata": {
  "kernelspec": {
   "display_name": "Python 3",
   "language": "python",
   "name": "python3"
  },
  "language_info": {
   "codemirror_mode": {
    "name": "ipython",
    "version": 3
   },
   "file_extension": ".py",
   "mimetype": "text/x-python",
   "name": "python",
   "nbconvert_exporter": "python",
   "pygments_lexer": "ipython3",
   "version": "3.6.7"
  }
 },
 "nbformat": 4,
 "nbformat_minor": 2
}
