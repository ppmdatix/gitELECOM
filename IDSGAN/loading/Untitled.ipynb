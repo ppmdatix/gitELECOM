{
 "cells": [
  {
   "cell_type": "code",
   "execution_count": 2,
   "metadata": {},
   "outputs": [],
   "source": [
    "Columns = [\"duration\",\n",
    "           \"protocol_type\",\n",
    "           \"service\",\n",
    "           \"flag\",\n",
    "           \"src_bytes\",\n",
    "           \"dst_bytes\",\n",
    "           \"land\",\n",
    "           \"wrong_fragment\",\n",
    "           \"urgent\",\n",
    "           \"hot\",\n",
    "           \"num_failed_logins\",\n",
    "           \"logged_in\",\n",
    "           \"num_compromised\",\n",
    "           \"root_shell\",\n",
    "           \"su_attempted\",\n",
    "           \"num_root\",\n",
    "           \"num_file_creations\",\n",
    "           \"num_shells\",\n",
    "           \"num_access_files\",\n",
    "           \"num_outbound_cmds\",\n",
    "           \"is_host_login\",\n",
    "           \"is_guest_login\",\n",
    "           \"count\",\n",
    "           \"srv_count\",\n",
    "           \"serror_rate\",\n",
    "           \"srv_serror_rate\",\n",
    "           \"rerror_rate\",\n",
    "           \"srv_rerror_rate\",\n",
    "           \"same_srv_rate\",\n",
    "           \"diff_srv_rate\",\n",
    "           \"srv_diff_host_rate\",\n",
    "           \"dst_host_count\",\n",
    "           \"dst_host_srv_count\",\n",
    "           \"dst_host_same_srv_rate\",\n",
    "           \"dst_host_diff_srv_rate\",\n",
    "           \"dst_host_same_src_port_rate\",\n",
    "           \"dst_host_srv_diff_host_rate\",\n",
    "           \"dst_host_serror_rate\",\n",
    "           \"dst_host_srv_serror_rate\",\n",
    "           \"dst_host_rerror_rate\",\n",
    "           \"dst_host_srv_rerror_rate\",\n",
    "           \"attack_type\",\n",
    "           \"difficulty\"]\n",
    "\n",
    "#Data_path = \"/Users/ppx/Desktop/gitELECOM/NSL-KDD/\"\n",
    "Data_path = \"/home/peseux/Desktop/gitELECOM/NSL-KDD/\"\n",
    "File_name = \"KDDTrain+.txt\"\n",
    "\n",
    "Nrows = 100\n",
    "Attack = \"neptune\"\n",
    "\n",
    "\n",
    "Numerical_columns = [\"duration\", \"src_bytes\", \"dst_bytes\", \"wrong_fragment\", \"urgent\", \"hot\", \"num_failed_logins\",\"num_compromised\",\"num_root\",\n",
    "                     \"num_file_creations\", \"num_shells\", \"num_access_files\", \"num_outbound_cmds\", \"count\", \"srv_count\", \"serror_rate\", \"srv_serror_rate\", \"rerror_rate\", \"srv_rerror_rate\", \"same_srv_rate\", \"diff_srv_rate\", \"srv_diff_host_rate\", \"dst_host_count\", \"dst_host_srv_count\", \"dst_host_same_srv_rate\", \"dst_host_diff_srv_rate\", \"dst_host_same_src_port_rate\", \"dst_host_srv_diff_host_rate\", \"dst_host_serror_rate\", \"dst_host_srv_serror_rate\", \"dst_host_rerror_rate\", \"dst_host_srv_rerror_rate\"]\n",
    "\n",
    "\n"
   ]
  },
  {
   "cell_type": "code",
   "execution_count": 22,
   "metadata": {},
   "outputs": [],
   "source": [
    "import pandas as pd\n",
    "from sklearn.preprocessing import MinMaxScaler\n",
    "\n",
    "\n",
    "def turn_attack(x):\n",
    "    if x == \"normal\":\n",
    "        return 0.\n",
    "    else:\n",
    "        return 1.\n",
    "\n",
    "\n",
    "def loadingKDD(path=Data_path+File_name, nrows=Nrows, attack_mode=True,\n",
    "               numerical_columns=Numerical_columns, columns=Columns, attack=Attack):\n",
    "    df = pd.read_csv(path, names=columns, nrows=nrows)\n",
    "\n",
    "    if attack_mode is None:\n",
    "        pass\n",
    "    elif attack_mode:\n",
    "        if attack is None:\n",
    "            df = df[(df.attack_type != \"normal\")]\n",
    "        else:\n",
    "            df = df[(df.attack_type == attack)]\n",
    "    else:\n",
    "        df = df[df.attack_type == \"normal\"]\n",
    "    df.attack_type = df.attack_type.apply(turn_attack)\n",
    "    nc = numerical_columns + [\"land\", \"logged_in\",\n",
    "                              \"root_shell\",\n",
    "                              \"is_host_login\", \"is_guest_login\"]\n",
    "    df_numerical = df[nc]\n",
    "    df_numerical.reset_index(drop=True, inplace=True)\n",
    "\n",
    "    categorical_columns = [\"protocol_type\",\"flag\", \"service\", \"su_attempted\"]\n",
    "    df_one_hot_encoding = df[categorical_columns]\n",
    "    df_one_hot_encoding = pd.get_dummies(df_one_hot_encoding)\n",
    "    df_one_hot_encoding.reset_index(drop=True, inplace=True)\n",
    "\n",
    "    scaler = MinMaxScaler()\n",
    "    df_to_scale = pd.merge(df_numerical, df_one_hot_encoding, left_index=True, right_index=True)\n",
    "    df_scaled = scaler.fit_transform(df_to_scale)\n",
    "\n",
    "    X = df_scaled * 2 - 1\n",
    "    Y = df.attack_type.values\n",
    "    columns = df_numerical.columns.to_list() + df_one_hot_encoding.columns.to_list()\n",
    "    return X, Y, columns"
   ]
  },
  {
   "cell_type": "code",
   "execution_count": 23,
   "metadata": {},
   "outputs": [],
   "source": [
    "o = 0\n"
   ]
  },
  {
   "cell_type": "code",
   "execution_count": 32,
   "metadata": {},
   "outputs": [
    {
     "name": "stderr",
     "output_type": "stream",
     "text": [
      "/home/peseux/.local/lib/python3.6/site-packages/sklearn/preprocessing/data.py:334: DataConversionWarning: Data with input dtype uint8, int64, float64 were all converted to float64 by MinMaxScaler.\n",
      "  return self.partial_fit(X, y)\n"
     ]
    }
   ],
   "source": [
    "x, _, col = loadingKDD(nrows=100000, attack_mode=None)"
   ]
  },
  {
   "cell_type": "code",
   "execution_count": 33,
   "metadata": {
    "scrolled": false
   },
   "outputs": [
    {
     "data": {
      "text/plain": [
       "122"
      ]
     },
     "execution_count": 33,
     "metadata": {},
     "output_type": "execute_result"
    }
   ],
   "source": [
    "len(col)"
   ]
  },
  {
   "cell_type": "code",
   "execution_count": 34,
   "metadata": {},
   "outputs": [
    {
     "data": {
      "text/plain": [
       "['duration',\n",
       " 'src_bytes',\n",
       " 'dst_bytes',\n",
       " 'wrong_fragment',\n",
       " 'urgent',\n",
       " 'hot',\n",
       " 'num_failed_logins',\n",
       " 'num_compromised',\n",
       " 'num_root',\n",
       " 'num_file_creations',\n",
       " 'num_shells',\n",
       " 'num_access_files',\n",
       " 'num_outbound_cmds',\n",
       " 'count',\n",
       " 'srv_count',\n",
       " 'serror_rate',\n",
       " 'srv_serror_rate',\n",
       " 'rerror_rate',\n",
       " 'srv_rerror_rate',\n",
       " 'same_srv_rate',\n",
       " 'diff_srv_rate',\n",
       " 'srv_diff_host_rate',\n",
       " 'dst_host_count',\n",
       " 'dst_host_srv_count',\n",
       " 'dst_host_same_srv_rate',\n",
       " 'dst_host_diff_srv_rate',\n",
       " 'dst_host_same_src_port_rate',\n",
       " 'dst_host_srv_diff_host_rate',\n",
       " 'dst_host_serror_rate',\n",
       " 'dst_host_srv_serror_rate',\n",
       " 'dst_host_rerror_rate',\n",
       " 'dst_host_srv_rerror_rate',\n",
       " 'land',\n",
       " 'logged_in',\n",
       " 'root_shell',\n",
       " 'is_host_login',\n",
       " 'is_guest_login',\n",
       " 'su_attempted',\n",
       " 'protocol_type_icmp',\n",
       " 'protocol_type_tcp',\n",
       " 'protocol_type_udp',\n",
       " 'flag_OTH',\n",
       " 'flag_REJ',\n",
       " 'flag_RSTO',\n",
       " 'flag_RSTOS0',\n",
       " 'flag_RSTR',\n",
       " 'flag_S0',\n",
       " 'flag_S1',\n",
       " 'flag_S2',\n",
       " 'flag_S3',\n",
       " 'flag_SF',\n",
       " 'flag_SH',\n",
       " 'service_IRC',\n",
       " 'service_X11',\n",
       " 'service_Z39_50',\n",
       " 'service_aol',\n",
       " 'service_auth',\n",
       " 'service_bgp',\n",
       " 'service_courier',\n",
       " 'service_csnet_ns',\n",
       " 'service_ctf',\n",
       " 'service_daytime',\n",
       " 'service_discard',\n",
       " 'service_domain',\n",
       " 'service_domain_u',\n",
       " 'service_echo',\n",
       " 'service_eco_i',\n",
       " 'service_ecr_i',\n",
       " 'service_efs',\n",
       " 'service_exec',\n",
       " 'service_finger',\n",
       " 'service_ftp',\n",
       " 'service_ftp_data',\n",
       " 'service_gopher',\n",
       " 'service_harvest',\n",
       " 'service_hostnames',\n",
       " 'service_http',\n",
       " 'service_http_2784',\n",
       " 'service_http_443',\n",
       " 'service_http_8001',\n",
       " 'service_imap4',\n",
       " 'service_iso_tsap',\n",
       " 'service_klogin',\n",
       " 'service_kshell',\n",
       " 'service_ldap',\n",
       " 'service_link',\n",
       " 'service_login',\n",
       " 'service_mtp',\n",
       " 'service_name',\n",
       " 'service_netbios_dgm',\n",
       " 'service_netbios_ns',\n",
       " 'service_netbios_ssn',\n",
       " 'service_netstat',\n",
       " 'service_nnsp',\n",
       " 'service_nntp',\n",
       " 'service_ntp_u',\n",
       " 'service_other',\n",
       " 'service_pm_dump',\n",
       " 'service_pop_2',\n",
       " 'service_pop_3',\n",
       " 'service_printer',\n",
       " 'service_private',\n",
       " 'service_red_i',\n",
       " 'service_remote_job',\n",
       " 'service_rje',\n",
       " 'service_shell',\n",
       " 'service_smtp',\n",
       " 'service_sql_net',\n",
       " 'service_ssh',\n",
       " 'service_sunrpc',\n",
       " 'service_supdup',\n",
       " 'service_systat',\n",
       " 'service_telnet',\n",
       " 'service_tftp_u',\n",
       " 'service_tim_i',\n",
       " 'service_time',\n",
       " 'service_urh_i',\n",
       " 'service_urp_i',\n",
       " 'service_uucp',\n",
       " 'service_uucp_path',\n",
       " 'service_vmnet',\n",
       " 'service_whois']"
      ]
     },
     "execution_count": 34,
     "metadata": {},
     "output_type": "execute_result"
    }
   ],
   "source": [
    "col"
   ]
  },
  {
   "cell_type": "code",
   "execution_count": null,
   "metadata": {},
   "outputs": [],
   "source": []
  },
  {
   "cell_type": "code",
   "execution_count": 39,
   "metadata": {},
   "outputs": [
    {
     "data": {
      "text/plain": [
       "(1, 122)"
      ]
     },
     "execution_count": 39,
     "metadata": {},
     "output_type": "execute_result"
    }
   ],
   "source": [
    "x[None,0].shape"
   ]
  },
  {
   "cell_type": "code",
   "execution_count": 40,
   "metadata": {},
   "outputs": [
    {
     "data": {
      "text/plain": [
       "(122,)"
      ]
     },
     "execution_count": 40,
     "metadata": {},
     "output_type": "execute_result"
    }
   ],
   "source": [
    "x[0].shape"
   ]
  },
  {
   "cell_type": "code",
   "execution_count": 45,
   "metadata": {},
   "outputs": [
    {
     "data": {
      "text/plain": [
       "(100000,)"
      ]
     },
     "execution_count": 45,
     "metadata": {},
     "output_type": "execute_result"
    }
   ],
   "source": [
    "x.transpose()[0].shape"
   ]
  },
  {
   "cell_type": "code",
   "execution_count": null,
   "metadata": {},
   "outputs": [],
   "source": []
  }
 ],
 "metadata": {
  "kernelspec": {
   "display_name": "Python 3",
   "language": "python",
   "name": "python3"
  },
  "language_info": {
   "codemirror_mode": {
    "name": "ipython",
    "version": 3
   },
   "file_extension": ".py",
   "mimetype": "text/x-python",
   "name": "python",
   "nbconvert_exporter": "python",
   "pygments_lexer": "ipython3",
   "version": "3.6.7"
  }
 },
 "nbformat": 4,
 "nbformat_minor": 2
}
