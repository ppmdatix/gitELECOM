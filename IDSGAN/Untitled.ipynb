{
 "cells": [
  {
   "cell_type": "code",
   "execution_count": 1,
   "metadata": {},
   "outputs": [
    {
     "name": "stderr",
     "output_type": "stream",
     "text": [
      "Using TensorFlow backend.\n",
      "/home/peseux/.local/lib/python3.6/site-packages/sklearn/preprocessing/data.py:334: DataConversionWarning: Data with input dtype uint8, int64, float64 were all converted to float64 by MinMaxScaler.\n",
      "  return self.partial_fit(X, y)\n"
     ]
    }
   ],
   "source": [
    "from loading.loadIDS import loadIDS, trainIDS\n",
    "from loading.loadGAN import load_gan, load_gan_kdd\n",
    "from loading.loadingKDD import loadingKDD\n",
    "from generation.generation import generation_fake_data\n",
    "from training.training_gan import train_gan, train_gan_kdd\n",
    "from matplotlib import pyplot as plt\n",
    "import numpy as np\n",
    "\n",
    "# Parameters\n",
    "\n",
    "# DATA\n",
    "# x_train, y_train, x_test, y_test = loadData(nrows=100000, attacks=True)\n",
    "attack_mode = None\n",
    "X, Y, colnames = loadingKDD(nrows=100000, attack_mode=attack_mode, attack=None)\n",
    "# assert len(colnames) == 122, \"You did not load enough data\"\n",
    "x_test, y_test = X[:3000], Y[:3000]\n",
    "x_train, y_train = X[:-3000], Y[:-3000]\n",
    "zero_index_train = [i for y, i in zip(y_train, range(len(y_train))) if y == 0]\n",
    "zero_index_test = [i for y, i in zip(y_test, range(len(y_test))) if y == 0]\n",
    "one_index_train = [i for y, i in zip(y_train, range(len(y_train))) if y == 1]\n",
    "one_index_test = [i for y, i in zip(y_test, range(len(y_test))) if y == 1]\n",
    "balanced_size = min(len(zero_index_train), len(one_index_train))\n",
    "if attack_mode is None:\n",
    "    x_balanced_train = np.concatenate((x_train[zero_index_train][:balanced_size],\n",
    "                                       x_train[one_index_train][:balanced_size]))\n",
    "    y_balanced_train = np.concatenate((y_train[zero_index_train][:balanced_size],\n",
    "                                       y_train[one_index_train][:balanced_size]))\n",
    "elif attack_mode is False:\n",
    "    x_balanced_train = x_train[zero_index_train]\n",
    "    y_balanced_train = y_train[zero_index_train]\n",
    "elif attack_mode:\n",
    "    x_balanced_train = x_train[one_index_train]\n",
    "    y_balanced_train = y_train[one_index_train]\n",
    "\n",
    "\"\"\"\n",
    "(x_train, y_train), (x_test, y_test) = mnist.load_data()\n",
    "x_train = (x_train.astype(np.float32) - 127.5)/127.5\n",
    "x_test = (x_test.astype(np.float32) - 127.5)/127.5\n",
    "x_train = x_train.reshape(60000, 784)\n",
    "\"\"\"\n",
    "\n",
    "\n",
    "data_dim = x_train.shape[1]"
   ]
  },
  {
   "cell_type": "code",
   "execution_count": 8,
   "metadata": {},
   "outputs": [
    {
     "ename": "NameError",
     "evalue": "name 'y_balanced_test' is not defined",
     "output_type": "error",
     "traceback": [
      "\u001b[0;31m---------------------------------------------------------------------------\u001b[0m",
      "\u001b[0;31mNameError\u001b[0m                                 Traceback (most recent call last)",
      "\u001b[0;32m<ipython-input-8-acf639a7d3bc>\u001b[0m in \u001b[0;36m<module>\u001b[0;34m\u001b[0m\n\u001b[0;32m----> 1\u001b[0;31m \u001b[0my_balanced_test\u001b[0m\u001b[0;34m.\u001b[0m\u001b[0msum\u001b[0m\u001b[0;34m(\u001b[0m\u001b[0;34m)\u001b[0m\u001b[0;34m\u001b[0m\u001b[0;34m\u001b[0m\u001b[0m\n\u001b[0m",
      "\u001b[0;31mNameError\u001b[0m: name 'y_balanced_test' is not defined"
     ]
    }
   ],
   "source": [
    "y_balanced_test.sum()"
   ]
  },
  {
   "cell_type": "code",
   "execution_count": 9,
   "metadata": {},
   "outputs": [
    {
     "name": "stdout",
     "output_type": "stream",
     "text": [
      "WARNING:tensorflow:From /home/peseux/.local/lib/python3.6/site-packages/tensorflow/python/framework/op_def_library.py:263: colocate_with (from tensorflow.python.framework.ops) is deprecated and will be removed in a future version.\n",
      "Instructions for updating:\n",
      "Colocations handled automatically by placer.\n",
      "Chosen Optimizer is ADAM\n",
      "WARNING:tensorflow:From /home/peseux/.local/lib/python3.6/site-packages/keras/backend/tensorflow_backend.py:3445: calling dropout (from tensorflow.python.ops.nn_ops) with keep_prob is deprecated and will be removed in a future version.\n",
      "Instructions for updating:\n",
      "Please use `rate` instead of `keep_prob`. Rate should be set to `rate = 1 - keep_prob`.\n"
     ]
    },
    {
     "name": "stderr",
     "output_type": "stream",
     "text": [
      "\r",
      "  0%|          | 0/1 [00:00<?, ?it/s]"
     ]
    },
    {
     "name": "stdout",
     "output_type": "stream",
     "text": [
      "Compiled GAN\n",
      "Epochs: 1\n",
      "Batch size: 128\n",
      "Batches per epoch: 404\n",
      "WARNING:tensorflow:From /home/peseux/.local/lib/python3.6/site-packages/tensorflow/python/ops/math_ops.py:3066: to_int32 (from tensorflow.python.ops.math_ops) is deprecated and will be removed in a future version.\n",
      "Instructions for updating:\n",
      "Use tf.cast instead.\n"
     ]
    },
    {
     "name": "stderr",
     "output_type": "stream",
     "text": [
      "/home/peseux/Desktop/gitELECOM/IDSGAN/training/training_gan.py:100: FutureWarning: Using a non-tuple sequence for multidimensional indexing is deprecated; use `arr[tuple(seq)]` instead of `arr[seq]`. In the future this will be interpreted as an array index, `arr[np.array(seq)]`, which will result either in an error or a different result.\n",
      "  real_data = x_train[index]\n",
      "100%|██████████| 1/1 [00:04<00:00,  4.07s/it]\n"
     ]
    },
    {
     "data": {
      "image/png": "[encoded data removed]",
      "text/plain": [
       "<Figure size 432x288 with 1 Axes>"
      ]
     },
     "metadata": {
      "needs_background": "light"
     },
     "output_type": "display_data"
    },
    {
     "data": {
      "image/png": "[encoded data removed]",
      "text/plain": [
       "<Figure size 432x288 with 1 Axes>"
      ]
     },
     "metadata": {
      "needs_background": "light"
     },
     "output_type": "display_data"
    },
    {
     "data": {
      "image/png": "[encoded data removed]",
      "text/plain": [
       "<Figure size 432x288 with 1 Axes>"
      ]
     },
     "metadata": {
      "needs_background": "light"
     },
     "output_type": "display_data"
    }
   ],
   "source": [
    "# IDS\n",
    "ids = loadIDS(mode=\"RandomForest\", n_estimators=200,max_depth=15)\n",
    "trainIDS(ids, x_train=x_balanced_train, y_train=y_balanced_train)\n",
    "\n",
    "# GAN\n",
    "epochs = 1\n",
    "random_dim = 32\n",
    "generator, discriminator, gan = load_gan_kdd(data_dim=data_dim,\n",
    "                                             random_dim=random_dim,\n",
    "                                             offset=5,\n",
    "                                             alpha=5,\n",
    "                                             link_mode=\"alpha\")\n",
    "\n",
    "number = 100\n",
    "fake_data_first = generation_fake_data(generator=generator, number=number, random_dim=random_dim)\n",
    "# Training GAN\n",
    "gan_to_be_used, discriminator_loss, generator_loss = train_gan_kdd(disc=discriminator,\n",
    "                                                                   dLossLimit=-1000,\n",
    "                                                                   gen=generator,\n",
    "                                                                   GAN=gan,\n",
    "                                                                   random_dim=random_dim,\n",
    "                                                                   epochs=epochs,\n",
    "                                                                   x_train=x_train[zero_index_train])\n",
    "\n",
    "\n",
    "# Testing IDS\n",
    "number = 100\n",
    "fake_data = generation_fake_data(generator=generator, number=number, random_dim=random_dim)\n",
    "real_data = x_test[zero_index_test][:number]\n",
    "real_data_one = x_test[one_index_test][:number]\n",
    "prediction = ids.predict_proba(fake_data)\n",
    "prediction = [p[] for p in prediction]\n",
    "prediction_real = ids.predict_proba(real_data)\n",
    "prediction_real = [p[0] for p in prediction_real]\n",
    "prediction_real_one = ids.predict_proba(real_data_one)\n",
    "prediction_real_one = [p[0] for p in prediction_real_one]\n",
    "\n",
    "\n",
    "plt.hist(prediction, density=True, label=\"fake\")\n",
    "plt.hist(prediction_real, label=\"real_0\", density=True)\n",
    "plt.hist(prediction_real_one, label=\"real_1\", density=True)\n",
    "plt.legend()\n",
    "plt.show()\n",
    "plt.close()\n",
    "\n",
    "plt.plot(discriminator_loss, label=\"disc\")\n",
    "plt.plot(generator_loss, label=\"gen\")\n",
    "plt.legend()\n",
    "plt.show()\n",
    "plt.close()\n",
    "\n",
    "\n",
    "plt.hist([f[0] for f in fake_data], label=\"duration\", density=True)\n",
    "plt.hist([f[0] for f in fake_data_first], label=\"duration first\", density=True)\n",
    "plt.legend()\n",
    "plt.show()\n",
    "plt.close()"
   ]
  },
  {
   "cell_type": "code",
   "execution_count": 10,
   "metadata": {},
   "outputs": [
    {
     "data": {
      "text/plain": [
       "array([0., 0., 0., 0., 0., 0., 0., 0., 0., 0., 0., 0., 0., 0., 0., 0., 0.,\n",
       "       0., 0., 0., 0., 0., 0., 0., 0., 0., 0., 0., 0., 0., 0., 0., 0., 0.,\n",
       "       0., 0., 0., 0., 0., 0., 0., 0., 0., 0., 0., 0., 0., 0., 0., 0., 0.,\n",
       "       0., 0., 0., 0., 0., 0., 0., 0., 0., 0., 0., 0., 0., 0., 0., 0., 0.,\n",
       "       0., 0., 0., 0., 0., 0., 0., 0., 0., 0., 0., 0., 0., 0., 0., 0., 0.,\n",
       "       0., 0., 0., 0., 0., 0., 0., 0., 0., 0., 0., 0., 0., 0., 0.])"
      ]
     },
     "execution_count": 10,
     "metadata": {},
     "output_type": "execute_result"
    }
   ],
   "source": [
    "y_test[zero_index_test][:number]"
   ]
  },
  {
   "cell_type": "code",
   "execution_count": 11,
   "metadata": {},
   "outputs": [],
   "source": [
    "prediction = ids.predict_proba(fake_data)\n"
   ]
  },
  {
   "cell_type": "code",
   "execution_count": 12,
   "metadata": {},
   "outputs": [
    {
     "data": {
      "text/plain": [
       "array([[0.6491171 , 0.3508829 ],\n",
       "       [0.6       , 0.4       ],\n",
       "       [0.6990192 , 0.3009808 ],\n",
       "       [0.605     , 0.395     ],\n",
       "       [0.68937665, 0.31062335],\n",
       "       [0.625     , 0.375     ],\n",
       "       [0.66935051, 0.33064949],\n",
       "       [0.63431278, 0.36568722],\n",
       "       [0.68933179, 0.31066821],\n",
       "       [0.73425266, 0.26574734],\n",
       "       [0.69682178, 0.30317822],\n",
       "       [0.75423589, 0.24576411],\n",
       "       [0.65935051, 0.34064949],\n",
       "       [0.71935417, 0.28064583],\n",
       "       [0.69933918, 0.30066082],\n",
       "       [0.70433918, 0.29566082],\n",
       "       [0.74424055, 0.25575945],\n",
       "       [0.67933918, 0.32066082],\n",
       "       [0.68649047, 0.31350953],\n",
       "       [0.65636068, 0.34363932],\n",
       "       [0.66921497, 0.33078503],\n",
       "       [0.72831278, 0.27168722],\n",
       "       [0.70431964, 0.29568036],\n",
       "       [0.68438798, 0.31561202],\n",
       "       [0.72435417, 0.27564583],\n",
       "       [0.71919702, 0.28080298],\n",
       "       [0.71437622, 0.28562378],\n",
       "       [0.6963394 , 0.3036606 ],\n",
       "       [0.68437665, 0.31562335],\n",
       "       [0.71432851, 0.28567149],\n",
       "       [0.71500511, 0.28499489],\n",
       "       [0.65894186, 0.34105814],\n",
       "       [0.63      , 0.37      ],\n",
       "       [0.76170018, 0.23829982],\n",
       "       [0.65933918, 0.34066082],\n",
       "       [0.71435051, 0.28564949],\n",
       "       [0.57465517, 0.42534483],\n",
       "       [0.68169385, 0.31830615],\n",
       "       [0.67903053, 0.32096947],\n",
       "       [0.68435051, 0.31564949],\n",
       "       [0.60997179, 0.39002821],\n",
       "       [0.68495051, 0.31504949],\n",
       "       [0.6842339 , 0.3157661 ],\n",
       "       [0.67937665, 0.32062335],\n",
       "       [0.635     , 0.365     ],\n",
       "       [0.575     , 0.425     ],\n",
       "       [0.69000585, 0.30999415],\n",
       "       [0.69670516, 0.30329484],\n",
       "       [0.6       , 0.4       ],\n",
       "       [0.61152   , 0.38848   ],\n",
       "       [0.70935051, 0.29064949],\n",
       "       [0.70433918, 0.29566082],\n",
       "       [0.6442339 , 0.3557661 ],\n",
       "       [0.62      , 0.38      ],\n",
       "       [0.66412843, 0.33587157],\n",
       "       [0.77375819, 0.22624181],\n",
       "       [0.67935051, 0.32064949],\n",
       "       [0.73168955, 0.26831045],\n",
       "       [0.66995051, 0.33004949],\n",
       "       [0.69170516, 0.30829484],\n",
       "       [0.635     , 0.365     ],\n",
       "       [0.59937633, 0.40062367],\n",
       "       [0.67432003, 0.32567997],\n",
       "       [0.70411393, 0.29588607],\n",
       "       [0.585     , 0.415     ],\n",
       "       [0.7190192 , 0.2809808 ],\n",
       "       [0.71997665, 0.28002335],\n",
       "       [0.66070972, 0.33929028],\n",
       "       [0.68933216, 0.31066784],\n",
       "       [0.68493918, 0.31506082],\n",
       "       [0.67438798, 0.32561202],\n",
       "       [0.61181044, 0.38818956],\n",
       "       [0.65959135, 0.34040865],\n",
       "       [0.6777174 , 0.3222826 ],\n",
       "       [0.7092339 , 0.2907661 ],\n",
       "       [0.7138099 , 0.2861901 ],\n",
       "       [0.69937665, 0.30062335],\n",
       "       [0.71419149, 0.28580851],\n",
       "       [0.69435051, 0.30564949],\n",
       "       [0.59992147, 0.40007853],\n",
       "       [0.6942339 , 0.3057661 ],\n",
       "       [0.72411628, 0.27588372],\n",
       "       [0.595     , 0.405     ],\n",
       "       [0.515     , 0.485     ],\n",
       "       [0.70934016, 0.29065984],\n",
       "       [0.70963053, 0.29036947],\n",
       "       [0.65433918, 0.34566082],\n",
       "       [0.6690192 , 0.3309808 ],\n",
       "       [0.67935051, 0.32064949],\n",
       "       [0.6340192 , 0.3659808 ],\n",
       "       [0.73935449, 0.26064551],\n",
       "       [0.70433918, 0.29566082],\n",
       "       [0.70433699, 0.29566301],\n",
       "       [0.79865237, 0.20134763],\n",
       "       [0.64569391, 0.35430609],\n",
       "       [0.61      , 0.39      ],\n",
       "       [0.64937665, 0.35062335],\n",
       "       [0.72922922, 0.27077078],\n",
       "       [0.6140192 , 0.3859808 ],\n",
       "       [0.7046192 , 0.2953808 ]])"
      ]
     },
     "execution_count": 12,
     "metadata": {},
     "output_type": "execute_result"
    }
   ],
   "source": [
    "prediction"
   ]
  },
  {
   "cell_type": "code",
   "execution_count": null,
   "metadata": {},
   "outputs": [],
   "source": []
  }
 ],
 "metadata": {
  "kernelspec": {
   "display_name": "Python 3",
   "language": "python",
   "name": "python3"
  },
  "language_info": {
   "codemirror_mode": {
    "name": "ipython",
    "version": 3
   },
   "file_extension": ".py",
   "mimetype": "text/x-python",
   "name": "python",
   "nbconvert_exporter": "python",
   "pygments_lexer": "ipython3",
   "version": "3.6.7"
  }
 },
 "nbformat": 4,
 "nbformat_minor": 2
}
