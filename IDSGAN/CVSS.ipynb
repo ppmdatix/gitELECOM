{
 "cells": [
  {
   "cell_type": "code",
   "execution_count": 16,
   "metadata": {},
   "outputs": [
    {
     "name": "stderr",
     "output_type": "stream",
     "text": [
      "/home/peseux/.local/lib/python3.6/site-packages/sklearn/preprocessing/data.py:334: DataConversionWarning: Data with input dtype uint8, int64, float64 were all converted to float64 by MinMaxScaler.\n",
      "  return self.partial_fit(X, y)\n"
     ]
    }
   ],
   "source": [
    "from loading.loadIDS import loadIDS, trainIDS\n",
    "from loading.loadGAN import load_gan, load_gan_kdd\n",
    "from loading.loadingKDD import loadingKDD\n",
    "from generation.generation import generation_fake_data\n",
    "from training.training_gan import train_gan, train_gan_kdd\n",
    "from matplotlib import pyplot as plt\n",
    "import numpy as np\n",
    "\n",
    "# Parameters\n",
    "\n",
    "# DATA\n",
    "# x_train, y_train, x_test, y_test = loadData(nrows=100000, attacks=True)\n",
    "attack_mode = None\n",
    "X, Y, cat_col, colnames = loadingKDD(nrows=100000000, attack_mode=attack_mode, attack=None)\n"
   ]
  },
  {
   "cell_type": "code",
   "execution_count": 17,
   "metadata": {},
   "outputs": [],
   "source": [
    "features = [\"num_access_files\", \"num_shells\", \"src_bytes\", \"dst_bytes\", \"root_shell\", \"num_root\", \"su_attempted\", \"num_file_creations\"]"
   ]
  },
  {
   "cell_type": "code",
   "execution_count": 18,
   "metadata": {},
   "outputs": [],
   "source": [
    "def creating_dico_index(features, colnames):\n",
    "    output = dict()\n",
    "    for col in colnames:\n",
    "        output[col] = [i for i in range(122) if colnames[i] == col][0]\n",
    "    return output\n",
    "dico_index = creating_dico_index(features=features, colnames=colnames)"
   ]
  },
  {
   "cell_type": "code",
   "execution_count": 94,
   "metadata": {},
   "outputs": [],
   "source": [
    "def CVSS(naf, ns, sb, db, rs, nr,sa,nfc):\n",
    "    access_vector = (naf+1)/2\n",
    "    attack_complexity = (ns+1)*(sb+db)/2\n",
    "    authentification = (rs+nr)*((2+sa)**2)\n",
    "    conf_impact = (naf+1.1)/3\n",
    "    int_impact = (nfc+1.1)/3\n",
    "    availibility_impact = (sb+db+2.1)/5\n",
    "    exploitability = 100*access_vector *attack_complexity*authentification\n",
    "    impact =  (1-(1-conf_impact)*(1-int_impact)*(1-availibility_impact))\n",
    "    \n",
    "    return (0.6*impact + exploitability)\n",
    "\n",
    "def score_line(x, dico_index):\n",
    "    values = dict()\n",
    "    for feature in dico_index:\n",
    "        values[feature] = x[dico_index[feature]]\n",
    "    score = CVSS(naf=values[\"num_access_files\"], \n",
    "                 ns=values[\"num_shells\"], \n",
    "                 sb=values[\"src_bytes\"], \n",
    "                 db=values[\"dst_bytes\"], \n",
    "                 rs=values[\"root_shell\"], \n",
    "                 nr=values[\"num_root\"],\n",
    "                 sa=values[\"su_attempted\"],\n",
    "                 nfc=values[\"num_file_creations\"])\n",
    "    return score"
   ]
  },
  {
   "cell_type": "code",
   "execution_count": 95,
   "metadata": {},
   "outputs": [],
   "source": [
    "scores1 = [score_line(x=x, dico_index=dico_index) for x, y in zip(X,Y) if y == 1]\n",
    "scores0 = [score_line(x=x, dico_index=dico_index) for x, y in zip(X,Y) if y == 0]"
   ]
  },
  {
   "cell_type": "code",
   "execution_count": 96,
   "metadata": {},
   "outputs": [
    {
     "data": {
      "image/png": "[encoded data removed]",
      "text/plain": [
       "<Figure size 720x360 with 1 Axes>"
      ]
     },
     "metadata": {
      "needs_background": "light"
     },
     "output_type": "display_data"
    }
   ],
   "source": [
    "plt.figure(figsize=(10,5))\n",
    "plt.hist(scores1, bins=400, density=True, label=\"1\")\n",
    "plt.hist(scores0, bins=200, density=True, label=\"0\")\n",
    "plt.xlim(-.5,.5)\n",
    "plt.legend()\n",
    "plt.show()"
   ]
  },
  {
   "cell_type": "code",
   "execution_count": null,
   "metadata": {},
   "outputs": [],
   "source": []
  },
  {
   "cell_type": "code",
   "execution_count": null,
   "metadata": {},
   "outputs": [],
   "source": []
  }
 ],
 "metadata": {
  "kernelspec": {
   "display_name": "Python 3",
   "language": "python",
   "name": "python3"
  }
 },
 "nbformat": 4,
 "nbformat_minor": 2
}
