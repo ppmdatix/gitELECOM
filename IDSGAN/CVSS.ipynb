{
 "cells": [
  {
   "cell_type": "code",
   "execution_count": 1,
   "metadata": {},
   "outputs": [
    {
     "name": "stderr",
     "output_type": "stream",
     "text": [
      "Using TensorFlow backend.\n"
     ]
    },
    {
     "ename": "ModuleNotFoundError",
     "evalue": "No module named 'gan_loss'",
     "output_type": "error",
     "traceback": [
      "\u001b[0;31m---------------------------------------------------------------------------\u001b[0m",
      "\u001b[0;31mModuleNotFoundError\u001b[0m                       Traceback (most recent call last)",
      "\u001b[0;32m<ipython-input-1-c6e65e1b7ec0>\u001b[0m in \u001b[0;36m<module>\u001b[0;34m\u001b[0m\n\u001b[1;32m      1\u001b[0m \u001b[0;32mfrom\u001b[0m \u001b[0mloading\u001b[0m\u001b[0;34m.\u001b[0m\u001b[0mloadIDS\u001b[0m \u001b[0;32mimport\u001b[0m \u001b[0mloadIDS\u001b[0m\u001b[0;34m,\u001b[0m \u001b[0mtrainIDS\u001b[0m\u001b[0;34m\u001b[0m\u001b[0;34m\u001b[0m\u001b[0m\n\u001b[0;32m----> 2\u001b[0;31m \u001b[0;32mfrom\u001b[0m \u001b[0mloading\u001b[0m\u001b[0;34m.\u001b[0m\u001b[0mloadGAN\u001b[0m \u001b[0;32mimport\u001b[0m \u001b[0mload_gan\u001b[0m\u001b[0;34m,\u001b[0m \u001b[0mload_gan_kdd\u001b[0m\u001b[0;34m\u001b[0m\u001b[0;34m\u001b[0m\u001b[0m\n\u001b[0m\u001b[1;32m      3\u001b[0m \u001b[0;34m\u001b[0m\u001b[0m\n\u001b[1;32m      4\u001b[0m \u001b[0;32mfrom\u001b[0m \u001b[0mgeneration\u001b[0m\u001b[0;34m.\u001b[0m\u001b[0mgeneration\u001b[0m \u001b[0;32mimport\u001b[0m \u001b[0mgeneration_fake_data\u001b[0m\u001b[0;34m\u001b[0m\u001b[0;34m\u001b[0m\u001b[0m\n\u001b[1;32m      5\u001b[0m \u001b[0;32mfrom\u001b[0m \u001b[0mtraining\u001b[0m\u001b[0;34m.\u001b[0m\u001b[0mtraining_gan\u001b[0m \u001b[0;32mimport\u001b[0m \u001b[0mtrain_gan\u001b[0m\u001b[0;34m,\u001b[0m \u001b[0mtrain_gan_kdd\u001b[0m\u001b[0;34m\u001b[0m\u001b[0;34m\u001b[0m\u001b[0m\n",
      "\u001b[0;32m~/Desktop/gitELECOM/IDSGAN/loading/loadGAN.py\u001b[0m in \u001b[0;36m<module>\u001b[0;34m\u001b[0m\n\u001b[1;32m     10\u001b[0m \u001b[0msys\u001b[0m\u001b[0;34m.\u001b[0m\u001b[0mpath\u001b[0m\u001b[0;34m.\u001b[0m\u001b[0minsert\u001b[0m\u001b[0;34m(\u001b[0m\u001b[0;36m0\u001b[0m\u001b[0;34m,\u001b[0m \u001b[0;34m'/Users/ppx/Desktop/gitELECOM/IDSGAN/losses/'\u001b[0m\u001b[0;34m)\u001b[0m\u001b[0;34m\u001b[0m\u001b[0;34m\u001b[0m\u001b[0m\n\u001b[1;32m     11\u001b[0m \u001b[0;34m\u001b[0m\u001b[0m\n\u001b[0;32m---> 12\u001b[0;31m \u001b[0;32mfrom\u001b[0m \u001b[0mgan_loss\u001b[0m \u001b[0;32mimport\u001b[0m \u001b[0mcustom_loss\u001b[0m\u001b[0;34m\u001b[0m\u001b[0;34m\u001b[0m\u001b[0m\n\u001b[0m\u001b[1;32m     13\u001b[0m \u001b[0;34m\u001b[0m\u001b[0m\n\u001b[1;32m     14\u001b[0m \u001b[0;32mdef\u001b[0m \u001b[0mload_gan\u001b[0m\u001b[0;34m(\u001b[0m\u001b[0mdata_dim\u001b[0m\u001b[0;34m,\u001b[0m \u001b[0mrandom_dim\u001b[0m\u001b[0;34m=\u001b[0m\u001b[0;36m50\u001b[0m\u001b[0;34m)\u001b[0m\u001b[0;34m:\u001b[0m\u001b[0;34m\u001b[0m\u001b[0;34m\u001b[0m\u001b[0m\n",
      "\u001b[0;31mModuleNotFoundError\u001b[0m: No module named 'gan_loss'"
     ]
    }
   ],
   "source": [
    "from loading.loadIDS import loadIDS, trainIDS\n",
    "from loading.loadGAN import load_gan, load_gan_kdd\n",
    "\n",
    "from generation.generation import generation_fake_data\n",
    "from training.training_gan import train_gan, train_gan_kdd\n",
    "from matplotlib import pyplot as plt\n",
    "import numpy as np\n",
    "import sys"
   ]
  },
  {
   "cell_type": "code",
   "execution_count": null,
   "metadata": {},
   "outputs": [],
   "source": [
    "sys.path"
   ]
  },
  {
   "cell_type": "code",
   "execution_count": null,
   "metadata": {},
   "outputs": [],
   "source": [
    "sys_path = \"/Users/ppx/Desktop/gitELECOM/NSL-KDD/loading\"\n",
    "# sys_path = \"/home/peseux/Desktop/gitELECOM/NSL-KDD/loading\"\n",
    "sys.path.insert(0, sys_path)\n",
    "sys_path = \"/Users/ppx/Desktop/gitELECOM/NSL-KDD\"\n",
    "# sys_path = \"/home/peseux/Desktop/gitELECOM/NSL-KDD/\"\n",
    "sys.path.insert(0, sys_path)\n",
    "from loadingKDD import loadingKDD"
   ]
  },
  {
   "cell_type": "code",
   "execution_count": null,
   "metadata": {},
   "outputs": [],
   "source": [
    "# Parameters\n",
    "\n",
    "# DATA\n",
    "# x_train, y_train, x_test, y_test = loadData(nrows=100000, attacks=True)\n",
    "attack_mode = None\n",
    "X, Y, cat_col, colnames = loadingKDD(nrows=2000000, attack_mode=attack_mode, \n",
    "                                     attack=None, log_transform=True)\n",
    "X = X[:1000]\n",
    "Y = Y[:1000]\n",
    "\n"
   ]
  },
  {
   "cell_type": "code",
   "execution_count": null,
   "metadata": {},
   "outputs": [],
   "source": [
    "len(colnames)"
   ]
  },
  {
   "cell_type": "code",
   "execution_count": 2,
   "metadata": {},
   "outputs": [],
   "source": [
    "features = [\"num_access_files\", \"num_shells\", \"src_bytes\", \n",
    "            \"dst_bytes\", \"root_shell\", \"num_root\", \"su_attempted\", \n",
    "            \"num_file_creations\"]"
   ]
  },
  {
   "cell_type": "code",
   "execution_count": 3,
   "metadata": {},
   "outputs": [
    {
     "ename": "NameError",
     "evalue": "name 'colnames' is not defined",
     "output_type": "error",
     "traceback": [
      "\u001b[0;31m---------------------------------------------------------------------------\u001b[0m",
      "\u001b[0;31mNameError\u001b[0m                                 Traceback (most recent call last)",
      "\u001b[0;32m<ipython-input-3-49abad180ac5>\u001b[0m in \u001b[0;36m<module>\u001b[0;34m\u001b[0m\n\u001b[1;32m      4\u001b[0m         \u001b[0moutput\u001b[0m\u001b[0;34m[\u001b[0m\u001b[0mcol\u001b[0m\u001b[0;34m]\u001b[0m \u001b[0;34m=\u001b[0m \u001b[0;34m[\u001b[0m\u001b[0mi\u001b[0m \u001b[0;32mfor\u001b[0m \u001b[0mi\u001b[0m \u001b[0;32min\u001b[0m \u001b[0mrange\u001b[0m\u001b[0;34m(\u001b[0m\u001b[0;36m122\u001b[0m\u001b[0;34m)\u001b[0m \u001b[0;32mif\u001b[0m \u001b[0mcolnames\u001b[0m\u001b[0;34m[\u001b[0m\u001b[0mi\u001b[0m\u001b[0;34m]\u001b[0m \u001b[0;34m==\u001b[0m \u001b[0mcol\u001b[0m\u001b[0;34m]\u001b[0m\u001b[0;34m[\u001b[0m\u001b[0;36m0\u001b[0m\u001b[0;34m]\u001b[0m\u001b[0;34m\u001b[0m\u001b[0;34m\u001b[0m\u001b[0m\n\u001b[1;32m      5\u001b[0m     \u001b[0;32mreturn\u001b[0m \u001b[0moutput\u001b[0m\u001b[0;34m\u001b[0m\u001b[0;34m\u001b[0m\u001b[0m\n\u001b[0;32m----> 6\u001b[0;31m \u001b[0mdico_index\u001b[0m \u001b[0;34m=\u001b[0m \u001b[0mcreating_dico_index\u001b[0m\u001b[0;34m(\u001b[0m\u001b[0mfeatures\u001b[0m\u001b[0;34m=\u001b[0m\u001b[0mfeatures\u001b[0m\u001b[0;34m,\u001b[0m \u001b[0mcolnames\u001b[0m\u001b[0;34m=\u001b[0m\u001b[0mcolnames\u001b[0m\u001b[0;34m)\u001b[0m\u001b[0;34m\u001b[0m\u001b[0;34m\u001b[0m\u001b[0m\n\u001b[0m",
      "\u001b[0;31mNameError\u001b[0m: name 'colnames' is not defined"
     ]
    }
   ],
   "source": [
    "def creating_dico_index(features, colnames):\n",
    "    output = dict()\n",
    "    for col in colnames:\n",
    "        output[col] = [i for i in range(122) if colnames[i] == col][0]\n",
    "    return output\n",
    "dico_index = creating_dico_index(features=features, colnames=colnames)"
   ]
  },
  {
   "cell_type": "code",
   "execution_count": 146,
   "metadata": {
    "collapsed": true
   },
   "outputs": [],
   "source": [
    "def CVSS(naf, ns, sb, db, rs, nr,sa,nfc, mini=0.47, maxi = .8):\n",
    "    access_vector = (naf+2.1)/2.2\n",
    "    attack_complexity = (ns+2.1)*(sb+db+3.1)/7.2\n",
    "    authentification = (rs+nr+2.1)*(2+sa)/4.2\n",
    "    conf_impact = (naf+2.1)/2.2\n",
    "    int_impact = (nfc+2.1)/2.2\n",
    "    availibility_impact = (sb+db+2.1)/4.2\n",
    "    exploitability = 50 * access_vector*attack_complexity*authentification\n",
    "    impact =  1-(1-conf_impact)*(1-int_impact)*(1-availibility_impact)\n",
    "    \n",
    "    return min(max(1 -((impact*.5 +exploitability) - mini)/(maxi-mini),0),1)\n",
    "\n",
    "def score_line(x, dico_index):\n",
    "    values = dict()\n",
    "    for feature in dico_index:\n",
    "        values[feature] = x[dico_index[feature]]\n",
    "    score = CVSS(naf=values[\"num_access_files\"], \n",
    "                 ns=values[\"num_shells\"], \n",
    "                 sb=values[\"src_bytes\"], \n",
    "                 db=values[\"dst_bytes\"], \n",
    "                 rs=values[\"root_shell\"], \n",
    "                 nr=values[\"num_root\"],\n",
    "                 sa=values[\"su_attempted\"],\n",
    "                 nfc=values[\"num_file_creations\"])\n",
    "    return score"
   ]
  },
  {
   "cell_type": "code",
   "execution_count": 147,
   "metadata": {},
   "outputs": [
    {
     "name": "stdout",
     "output_type": "stream",
     "text": [
      "[0, 0.48403577123588426, 0.5049467714694482, 0.5483427310234019, 0.5484787931649495, 0.5780729429378328, 0.5968063208367327, 0.856366385102225, 0.9757295173961837, 0.9757295173961837]\n"
     ]
    }
   ],
   "source": [
    "scores1 = [score_line(x=x, dico_index=dico_index) for x, y in zip(X,Y) if y == 1]\n",
    "scores0 = [score_line(x=x, dico_index=dico_index) for x, y in zip(X,Y) if y == 0]\n",
    "print(sorted(scores0[-10:]))\n",
    "scores0 = [s for s in scores0 if s<1]"
   ]
  },
  {
   "cell_type": "code",
   "execution_count": 148,
   "metadata": {},
   "outputs": [
    {
     "data": {
      "text/plain": [
       "0.9757295173961837"
      ]
     },
     "execution_count": 148,
     "metadata": {},
     "output_type": "execute_result"
    }
   ],
   "source": [
    "max(scores0)"
   ]
  },
  {
   "cell_type": "code",
   "execution_count": 149,
   "metadata": {},
   "outputs": [
    {
     "data": {
      "image/png": "[encoded data removed]",
      "text/plain": [
       "<Figure size 720x360 with 1 Axes>"
      ]
     },
     "metadata": {},
     "output_type": "display_data"
    }
   ],
   "source": [
    "plt.figure(figsize=(10,5))\n",
    "plt.hist(scores1, label=\"1\", density=True)\n",
    "plt.hist(scores0, label=\"0\", density=True)\n",
    "plt.xlim(0,max(scores0+ scores1))\n",
    "plt.legend()\n",
    "plt.show()"
   ]
  },
  {
   "cell_type": "code",
   "execution_count": 111,
   "metadata": {},
   "outputs": [
    {
     "data": {
      "text/plain": [
       "['/Users/ppx/Desktop/gitELECOM/NSL-KDD',\n",
       " '/Users/ppx/Desktop/gitELECOM/NSL-KDD/loading',\n",
       " '/Users/ppx/Desktop/gitELECOM/IDSGAN/losses/',\n",
       " '',\n",
       " '/Users/ppx/anaconda3/lib/python36.zip',\n",
       " '/Users/ppx/anaconda3/lib/python3.6',\n",
       " '/Users/ppx/anaconda3/lib/python3.6/lib-dynload',\n",
       " '/Users/ppx/.local/lib/python3.6/site-packages',\n",
       " '/Users/ppx/anaconda3/lib/python3.6/site-packages',\n",
       " '/Users/ppx/anaconda3/lib/python3.6/site-packages/Sphinx-1.5.1-py3.6.egg',\n",
       " '/Users/ppx/anaconda3/lib/python3.6/site-packages/aeosa',\n",
       " '/Users/ppx/anaconda3/lib/python3.6/site-packages/IPython/extensions',\n",
       " '/Users/ppx/.ipython']"
      ]
     },
     "execution_count": 111,
     "metadata": {},
     "output_type": "execute_result"
    }
   ],
   "source": [
    "sys.path"
   ]
  },
  {
   "cell_type": "code",
   "execution_count": null,
   "metadata": {
    "collapsed": true
   },
   "outputs": [],
   "source": []
  },
  {
   "cell_type": "code",
   "execution_count": null,
   "metadata": {
    "collapsed": true
   },
   "outputs": [],
   "source": []
  },
  {
   "cell_type": "code",
   "execution_count": null,
   "metadata": {
    "collapsed": true
   },
   "outputs": [],
   "source": []
  },
  {
   "cell_type": "code",
   "execution_count": null,
   "metadata": {
    "collapsed": true
   },
   "outputs": [],
   "source": []
  },
  {
   "cell_type": "code",
   "execution_count": null,
   "metadata": {
    "collapsed": true
   },
   "outputs": [],
   "source": []
  }
 ],
 "metadata": {
  "kernelspec": {
   "display_name": "Python 3",
   "language": "python",
   "name": "python3"
  },
  "language_info": {
   "codemirror_mode": {
    "name": "ipython",
    "version": 3
   },
   "file_extension": ".py",
   "mimetype": "text/x-python",
   "name": "python",
   "nbconvert_exporter": "python",
   "pygments_lexer": "ipython3",
   "version": "3.6.7"
  }
 },
 "nbformat": 4,
 "nbformat_minor": 2
}
