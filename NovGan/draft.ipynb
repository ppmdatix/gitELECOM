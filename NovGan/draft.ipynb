{
 "cells": [
  {
   "cell_type": "code",
   "execution_count": 1,
   "metadata": {},
   "outputs": [
    {
     "data": {
      "text/html": [
       "<style>.container { width:100% !important; }</style>"
      ],
      "text/plain": [
       "<IPython.core.display.HTML object>"
      ]
     },
     "metadata": {},
     "output_type": "display_data"
    }
   ],
   "source": [
    "from IPython.core.display import display, HTML\n",
    "display(HTML(\"<style>.container { width:100% !important; }</style>\"))"
   ]
  },
  {
   "cell_type": "code",
   "execution_count": 2,
   "metadata": {},
   "outputs": [
    {
     "name": "stderr",
     "output_type": "stream",
     "text": [
      "Using TensorFlow backend.\n"
     ]
    }
   ],
   "source": [
    "import os\n",
    "from load_gan import load_gan\n",
    "from load_cases import load_cases, load_save_name\n",
    "from train_gan import train_gan\n",
    "from evaluation import evaluation\n",
    "from keras.datasets import mnist\n",
    "import numpy as np"
   ]
  },
  {
   "cell_type": "code",
   "execution_count": 3,
   "metadata": {},
   "outputs": [],
   "source": [
    "os.environ[\"KERAS_BACKEND\"] = \"tensorflow\""
   ]
  },
  {
   "cell_type": "code",
   "execution_count": 4,
   "metadata": {},
   "outputs": [],
   "source": [
    "(x_train, _), (x_test, _) = mnist.load_data()\n",
    "x_train = (x_train.astype(np.float32) - 127.5)/127.5\n",
    "x_test = (x_test.astype(np.float32) - 127.5)/127.5\n",
    "x_train = x_train.reshape(60000, 784)\n",
    "x_test = x_test.reshape(10000, 784)\n",
    "epochs = 5\n",
    "randomDim = 20\n",
    "batchSize = 128\n",
    "examples = 100\n",
    "cases = load_cases()"
   ]
  },
  {
   "cell_type": "code",
   "execution_count": 5,
   "metadata": {},
   "outputs": [
    {
     "data": {
      "text/plain": [
       "(60000, 784)"
      ]
     },
     "execution_count": 5,
     "metadata": {},
     "output_type": "execute_result"
    }
   ],
   "source": [
    "x_train.shape"
   ]
  },
  {
   "cell_type": "code",
   "execution_count": 6,
   "metadata": {},
   "outputs": [],
   "source": [
    "case = cases[0]"
   ]
  },
  {
   "cell_type": "code",
   "execution_count": 7,
   "metadata": {},
   "outputs": [
    {
     "name": "stdout",
     "output_type": "stream",
     "text": [
      "{'link_mode': 'alpha', 'loss_base': 'Goodfellow', 'alpha': 1.0, 'offset': 0.0, 'power': None, 'mult': None, 'sqrt': None}\n",
      "WARNING:tensorflow:From /home/peseux/.local/lib/python3.6/site-packages/tensorflow/python/framework/op_def_library.py:263: colocate_with (from tensorflow.python.framework.ops) is deprecated and will be removed in a future version.\n",
      "Instructions for updating:\n",
      "Colocations handled automatically by placer.\n",
      "WARNING:tensorflow:From /home/peseux/.local/lib/python3.6/site-packages/keras/backend/tensorflow_backend.py:3445: calling dropout (from tensorflow.python.ops.nn_ops) with keep_prob is deprecated and will be removed in a future version.\n",
      "Instructions for updating:\n",
      "Please use `rate` instead of `keep_prob`. Rate should be set to `rate = 1 - keep_prob`.\n"
     ]
    },
    {
     "name": "stderr",
     "output_type": "stream",
     "text": [
      "\r",
      "  0%|          | 0/5 [00:00<?, ?it/s]"
     ]
    },
    {
     "name": "stdout",
     "output_type": "stream",
     "text": [
      "WARNING:tensorflow:From /home/peseux/.local/lib/python3.6/site-packages/tensorflow/python/ops/math_ops.py:3066: to_int32 (from tensorflow.python.ops.math_ops) is deprecated and will be removed in a future version.\n",
      "Instructions for updating:\n",
      "Use tf.cast instead.\n"
     ]
    },
    {
     "name": "stderr",
     "output_type": "stream",
     "text": [
      "100%|██████████| 5/5 [03:13<00:00, 38.81s/it]\n"
     ]
    }
   ],
   "source": [
    "print(case)\n",
    "save_name = load_save_name(case)\n",
    "generator, discriminator, gan = load_gan(offset=case[\"offset\"],\n",
    "                                         alpha=case[\"alpha\"],\n",
    "                                         randomDim=randomDim,\n",
    "                                         link_mode=case[\"link_mode\"],\n",
    "                                         power=case[\"power\"],\n",
    "                                         mult=case[\"mult\"],\n",
    "                                         sqrt=case[\"sqrt\"],\n",
    "                                         loss_base=case[\"loss_base\"])\n",
    "to_be_trusted, disc_loss, gen_loss, hurting = train_gan(disc=discriminator,\n",
    "                                                        gen=generator,\n",
    "                                                        gan=gan,\n",
    "                                                        x_train=x_train,\n",
    "                                                        epochs=epochs,\n",
    "                                                        batch_size=batchSize,\n",
    "                                                        d_loss_limit=0.1,\n",
    "                                                        randomDim=randomDim)\n",
    "if to_be_trusted:\n",
    "    location = \"results/\" + case[\"loss_base\"] + \"/\" + case[\"link_mode\"] + \"/\" + save_name\n",
    "    evaluation(generator=generator,\n",
    "               randomDim=randomDim,\n",
    "               location=location,\n",
    "               examples=examples, title=save_name,\n",
    "               hurting=hurting, gen_loss=gen_loss, disc_loss=disc_loss, x_test=x_test[:examples*examples])"
   ]
  },
  {
   "cell_type": "code",
   "execution_count": 8,
   "metadata": {},
   "outputs": [
    {
     "data": {
      "text/plain": [
       "'binary_crossentropy'"
      ]
     },
     "execution_count": 8,
     "metadata": {},
     "output_type": "execute_result"
    }
   ],
   "source": [
    "gan.loss"
   ]
  },
  {
   "cell_type": "code",
   "execution_count": null,
   "metadata": {},
   "outputs": [],
   "source": [
    "for case in cases:\n",
    "    print(case)\n",
    "    save_name = load_save_name(case)\n",
    "    generator, discriminator, gan = load_gan(offset=case[\"offset\"],\n",
    "                                             alpha=case[\"alpha\"],\n",
    "                                             randomDim=randomDim,\n",
    "                                             link_mode=case[\"link_mode\"],\n",
    "                                             power=case[\"power\"],\n",
    "                                             mult=case[\"mult\"],\n",
    "                                             sqrt=case[\"sqrt\"],\n",
    "                                             loss_base=case[\"loss_base\"])\n",
    "\n",
    "    to_be_trusted, disc_loss, gen_loss, hurting = train_gan(disc=discriminator,\n",
    "                                                            gen=generator,\n",
    "                                                            gan=gan,\n",
    "                                                            x_train=x_train,\n",
    "                                                            epochs=epochs,\n",
    "                                                            batchSize=batchSize,\n",
    "                                                            dLossLimit=0.1,\n",
    "                                                            randomDim=randomDim)\n",
    "    if to_be_trusted:\n",
    "        location = \"results/\" + case[\"loss_base\"] + \"/\" + case[\"link_mode\"] + \"/\" + save_name\n",
    "        evaluation(generator=generator,\n",
    "                   randomDim=randomDim,\n",
    "                   location=location,\n",
    "                   examples=examples, title=save_name,\n",
    "                   hurting=hurting, gen_loss=gen_loss, disc_loss=disc_loss, x_test=x_test[:examples*examples])"
   ]
  }
 ],
 "metadata": {
  "kernelspec": {
   "display_name": "Python 3",
   "language": "python",
   "name": "python3"
  },
  "language_info": {
   "codemirror_mode": {
    "name": "ipython",
    "version": 3
   },
   "file_extension": ".py",
   "mimetype": "text/x-python",
   "name": "python",
   "nbconvert_exporter": "python",
   "pygments_lexer": "ipython3",
   "version": "3.6.7"
  }
 },
 "nbformat": 4,
 "nbformat_minor": 2
}
