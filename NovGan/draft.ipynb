{
 "cells": [
  {
   "cell_type": "code",
   "execution_count": 1,
   "metadata": {},
   "outputs": [
    {
     "data": {
      "text/html": [
       "<style>.container { width:100% !important; }</style>"
      ],
      "text/plain": [
       "<IPython.core.display.HTML object>"
      ]
     },
     "metadata": {},
     "output_type": "display_data"
    }
   ],
   "source": [
    "from IPython.core.display import display, HTML\n",
    "display(HTML(\"<style>.container { width:100% !important; }</style>\"))"
   ]
  },
  {
   "cell_type": "code",
   "execution_count": 2,
   "metadata": {},
   "outputs": [
    {
     "name": "stderr",
     "output_type": "stream",
     "text": [
      "Using TensorFlow backend.\n"
     ]
    }
   ],
   "source": [
    "import os\n",
    "import numpy as np\n",
    "from load_gan import load_gan\n",
    "from load_cases import load_cases, load_save_name\n",
    "from train_gan import train_gan\n",
    "from evaluation import evaluation\n",
    "from keras.datasets import mnist\n",
    "\n",
    "os.environ[\"KERAS_BACKEND\"] = \"tensorflow\""
   ]
  },
  {
   "cell_type": "code",
   "execution_count": null,
   "metadata": {},
   "outputs": [],
   "source": [
    "(x_train, _), (x_test, _) = mnist.load_data()\n",
    "x_train = (x_train.astype(np.float32) - 127.5)/127.5\n",
    "x_test = (x_test.astype(np.float32) - 127.5)/127.5\n",
    "x_train = x_train.reshape(60000, 784)\n",
    "x_test = x_test.reshape(10000, 784)"
   ]
  },
  {
   "cell_type": "code",
   "execution_count": null,
   "metadata": {},
   "outputs": [],
   "source": [
    "epochs = 4\n",
    "randomDim = 50\n",
    "batchSize = 128\n",
    "examples = 100\n",
    "cases = load_cases(loss_bases=[\"Goodfellow\"],\n",
    "                   link_modes=[\"alpha\"],\n",
    "                   alphas=[1.],\n",
    "                   offsets=[0.])"
   ]
  },
  {
   "cell_type": "code",
   "execution_count": null,
   "metadata": {
    "scrolled": false
   },
   "outputs": [
    {
     "name": "stdout",
     "output_type": "stream",
     "text": [
      "{'link_mode': 'alpha', 'loss_base': 'Goodfellow', 'alpha': 1.0, 'offset': 0.0, 'power': None, 'mult': None, 'sqrt': None}\n",
      "WARNING:tensorflow:From /home/peseux/.local/lib/python3.6/site-packages/tensorflow/python/framework/op_def_library.py:263: colocate_with (from tensorflow.python.framework.ops) is deprecated and will be removed in a future version.\n",
      "Instructions for updating:\n",
      "Colocations handled automatically by placer.\n",
      "WARNING:tensorflow:From /home/peseux/.local/lib/python3.6/site-packages/keras/backend/tensorflow_backend.py:3445: calling dropout (from tensorflow.python.ops.nn_ops) with keep_prob is deprecated and will be removed in a future version.\n",
      "Instructions for updating:\n",
      "Please use `rate` instead of `keep_prob`. Rate should be set to `rate = 1 - keep_prob`.\n"
     ]
    },
    {
     "name": "stderr",
     "output_type": "stream",
     "text": [
      "/home/peseux/Desktop/gitELECOM/NovGan/load_gan.py:26: UserWarning: Update your `Dense` call to the Keras 2 API: `Dense(256, input_dim=50, kernel_initializer=<keras.ini..., kernel_constraint=None)`\n",
      "  W_constraint=W_constraint))\n",
      "/home/peseux/Desktop/gitELECOM/NovGan/load_gan.py:29: UserWarning: Update your `Dense` call to the Keras 2 API: `Dense(512, kernel_constraint=None)`\n",
      "  W_constraint=W_constraint))\n",
      "/home/peseux/Desktop/gitELECOM/NovGan/load_gan.py:32: UserWarning: Update your `Dense` call to the Keras 2 API: `Dense(1024, kernel_constraint=None)`\n",
      "  W_constraint=W_constraint))\n",
      "/home/peseux/Desktop/gitELECOM/NovGan/load_gan.py:36: UserWarning: Update your `Dense` call to the Keras 2 API: `Dense(784, activation=\"tanh\", kernel_constraint=None)`\n",
      "  activation=activation))\n",
      "/home/peseux/Desktop/gitELECOM/NovGan/load_gan.py:42: UserWarning: Update your `Dense` call to the Keras 2 API: `Dense(1024, input_dim=784, kernel_initializer=<keras.ini..., kernel_constraint=None)`\n",
      "  W_constraint=W_constraint))\n",
      "/home/peseux/Desktop/gitELECOM/NovGan/load_gan.py:46: UserWarning: Update your `Dense` call to the Keras 2 API: `Dense(512, kernel_constraint=None)`\n",
      "  W_constraint=W_constraint))\n",
      "/home/peseux/Desktop/gitELECOM/NovGan/load_gan.py:50: UserWarning: Update your `Dense` call to the Keras 2 API: `Dense(256, kernel_constraint=None)`\n",
      "  W_constraint=W_constraint))\n",
      "/home/peseux/Desktop/gitELECOM/NovGan/load_gan.py:55: UserWarning: Update your `Dense` call to the Keras 2 API: `Dense(1, activation=\"tanh\", kernel_constraint=None)`\n",
      "  W_constraint=W_constraint))\n",
      "  0%|          | 0/4 [00:00<?, ?it/s]"
     ]
    },
    {
     "name": "stdout",
     "output_type": "stream",
     "text": [
      "WARNING:tensorflow:From /home/peseux/.local/lib/python3.6/site-packages/tensorflow/python/ops/math_ops.py:3066: to_int32 (from tensorflow.python.ops.math_ops) is deprecated and will be removed in a future version.\n",
      "Instructions for updating:\n",
      "Use tf.cast instead.\n"
     ]
    },
    {
     "name": "stderr",
     "output_type": "stream",
     "text": [
      " 50%|█████     | 2/4 [01:20<01:21, 40.67s/it]"
     ]
    }
   ],
   "source": [
    "for case in cases:\n",
    "    print(case)\n",
    "    save_name = load_save_name(case)\n",
    "    generator, discriminator, gan = load_gan(offset=case[\"offset\"],\n",
    "                                             alpha=case[\"alpha\"],\n",
    "                                             randomDim=randomDim,\n",
    "                                             link_mode=case[\"link_mode\"],\n",
    "                                             power=case[\"power\"],\n",
    "                                             mult=case[\"mult\"],\n",
    "                                             sqrt=case[\"sqrt\"],\n",
    "                                             loss_base=case[\"loss_base\"])\n",
    "\n",
    "    to_be_trusted, disc_loss, gen_loss, hurting = train_gan(disc=discriminator,\n",
    "                                                            gen=generator,\n",
    "                                                            gan=gan,\n",
    "                                                            x_train=x_train,\n",
    "                                                            epochs=epochs,\n",
    "                                                            batch_size=batchSize,\n",
    "                                                            d_loss_limit=0.05,\n",
    "                                                            randomDim=randomDim)\n",
    "    if to_be_trusted:\n",
    "        location = \"results/\" + case[\"loss_base\"] + \"/\" + case[\"link_mode\"] + \"/\" + save_name\n",
    "        evaluation(generator=generator,\n",
    "                   randomDim=randomDim,\n",
    "                   location=location,\n",
    "                   examples=examples, title=save_name,\n",
    "                   hurting=hurting, gen_loss=gen_loss, disc_loss=disc_loss, x_test=x_test[:examples*examples])\n",
    "\n",
    "print(\"LETS GO TO SLEEP \\n \"*10)"
   ]
  },
  {
   "cell_type": "code",
   "execution_count": null,
   "metadata": {},
   "outputs": [],
   "source": [
    "noise = np.random.normal(0, 1, size=[100, randomDim])"
   ]
  },
  {
   "cell_type": "code",
   "execution_count": null,
   "metadata": {},
   "outputs": [],
   "source": [
    "images = generator.predict(noise)"
   ]
  },
  {
   "cell_type": "code",
   "execution_count": null,
   "metadata": {
    "scrolled": true
   },
   "outputs": [],
   "source": [
    "discriminator.predict(images)"
   ]
  },
  {
   "cell_type": "code",
   "execution_count": null,
   "metadata": {},
   "outputs": [],
   "source": [
    "discriminator.evaluate(images, np.ones(100))"
   ]
  },
  {
   "cell_type": "code",
   "execution_count": null,
   "metadata": {},
   "outputs": [],
   "source": [
    "gan.evaluate(noise, np.zeros(100))"
   ]
  },
  {
   "cell_type": "code",
   "execution_count": null,
   "metadata": {},
   "outputs": [],
   "source": [
    "images"
   ]
  },
  {
   "cell_type": "code",
   "execution_count": null,
   "metadata": {},
   "outputs": [],
   "source": [
    "from matplotlib import pyplot as plt"
   ]
  },
  {
   "cell_type": "code",
   "execution_count": null,
   "metadata": {},
   "outputs": [],
   "source": [
    "def plotImages(generatedImages, dim=(10,10), title=\"title\"):\n",
    "    plt.figure(figsize=dim)\n",
    "    plt.title(title)\n",
    "    for i in range(generatedImages.shape[0]):\n",
    "        plt.subplot(dim[0], dim[1], i+1)\n",
    "        plt.imshow(generatedImages[i], interpolation='nearest', cmap='gray_r')\n",
    "        plt.axis('off')\n",
    "    plt.tight_layout()\n",
    "    plt.show()\n",
    "    plt.close()"
   ]
  },
  {
   "cell_type": "code",
   "execution_count": null,
   "metadata": {},
   "outputs": [],
   "source": [
    "plotImages(images.reshape(100, 28,28))"
   ]
  },
  {
   "cell_type": "code",
   "execution_count": null,
   "metadata": {},
   "outputs": [],
   "source": [
    "batch_size = 10"
   ]
  },
  {
   "cell_type": "code",
   "execution_count": null,
   "metadata": {},
   "outputs": [],
   "source": [
    "yDis = np.zeros(2 * batch_size)\n",
    "yDis[:batch_size] = 1"
   ]
  },
  {
   "cell_type": "code",
   "execution_count": null,
   "metadata": {},
   "outputs": [],
   "source": [
    "yDis"
   ]
  },
  {
   "cell_type": "code",
   "execution_count": null,
   "metadata": {},
   "outputs": [],
   "source": [
    "disc_loss"
   ]
  },
  {
   "cell_type": "code",
   "execution_count": null,
   "metadata": {},
   "outputs": [],
   "source": [
    "plt.plot(gen_loss, label=\"gen\")\n",
    "plt.plot(disc_loss, label=\"disc\")\n",
    "plt.legend()\n",
    "plt.show()"
   ]
  },
  {
   "cell_type": "code",
   "execution_count": null,
   "metadata": {},
   "outputs": [],
   "source": [
    "gen_loss"
   ]
  },
  {
   "cell_type": "code",
   "execution_count": null,
   "metadata": {},
   "outputs": [],
   "source": []
  },
  {
   "cell_type": "code",
   "execution_count": null,
   "metadata": {},
   "outputs": [],
   "source": [
    "\n"
   ]
  },
  {
   "cell_type": "code",
   "execution_count": null,
   "metadata": {},
   "outputs": [],
   "source": []
  },
  {
   "cell_type": "code",
   "execution_count": null,
   "metadata": {},
   "outputs": [],
   "source": []
  },
  {
   "cell_type": "code",
   "execution_count": null,
   "metadata": {},
   "outputs": [],
   "source": []
  },
  {
   "cell_type": "code",
   "execution_count": null,
   "metadata": {},
   "outputs": [],
   "source": []
  },
  {
   "cell_type": "code",
   "execution_count": null,
   "metadata": {},
   "outputs": [],
   "source": []
  },
  {
   "cell_type": "code",
   "execution_count": null,
   "metadata": {},
   "outputs": [],
   "source": []
  }
 ],
 "metadata": {
  "kernelspec": {
   "display_name": "Python 3",
   "language": "python",
   "name": "python3"
  },
  "language_info": {
   "codemirror_mode": {
    "name": "ipython",
    "version": 3
   },
   "file_extension": ".py",
   "mimetype": "text/x-python",
   "name": "python",
   "nbconvert_exporter": "python",
   "pygments_lexer": "ipython3",
   "version": "3.6.7"
  }
 },
 "nbformat": 4,
 "nbformat_minor": 2
}
